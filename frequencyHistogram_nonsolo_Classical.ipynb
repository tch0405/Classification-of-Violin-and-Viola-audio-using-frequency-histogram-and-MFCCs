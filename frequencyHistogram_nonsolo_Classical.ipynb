{
 "cells": [
  {
   "cell_type": "code",
   "execution_count": 1,
   "metadata": {},
   "outputs": [
    {
     "name": "stderr",
     "output_type": "stream",
     "text": [
      "/home/student/.local/lib/python3.6/site-packages/numba/core/errors.py:154: UserWarning: Insufficiently recent colorama version found. Numba requires colorama >= 0.3.9\n",
      "  warnings.warn(msg)\n"
     ]
    },
    {
     "name": "stdout",
     "output_type": "stream",
     "text": [
      "Divertimento for viola and piano II Minuet_PROCESSED.wav\n"
     ]
    },
    {
     "name": "stderr",
     "output_type": "stream",
     "text": [
      "/home/student/.local/lib/python3.6/site-packages/librosa/core/spectrum.py:1642: UserWarning: amplitude_to_db was called on complex input so phase information will be discarded. To suppress this warning, call amplitude_to_db(np.abs(S)) instead.\n",
      "  \"amplitude_to_db was called on complex input so phase \"\n"
     ]
    },
    {
     "name": "stdout",
     "output_type": "stream",
     "text": [
      "Notturno for Viola op 42 IV Adagio - Scherzo Allegro molto - Adagio_PROCESSED.wav\n",
      "Divertimento for viola and piano I Adagio_PROCESSED.wav\n",
      "Notturno for Viola, op 42 II Adagio_PROCESSED.wav\n",
      "Divertimento for viola and piano III Allegro di molto_PROCESSED.wav\n",
      "Notturno for Viola, op 42 III Menuetto_PROCESSED.wav\n",
      "Notturno for Viola op 42 III Menuetto Allegretto_PROCESSED.wav\n",
      "Notturno for Viola op 42 I Marcia Allegro_PROCESSED.wav\n",
      "Notturno for Viola op 42 II Adagio_PROCESSED.wav\n",
      "Notturno for Viola, op 42 VII Marcia Allegro_PROCESSED.wav\n",
      "Notturno for Viola, op 42 V Andante_PROCESSED.wav\n",
      "Notturno for Viola op 42 VI Andante quasi Allegretto Allegro_PROCESSED.wav\n",
      "Notturno for Viola, op 42 VI Andante_PROCESSED.wav\n",
      "Notturno for Viola, op 42 IV Adagio_PROCESSED.wav\n",
      "Violin Sonata No 1 in D Op 12 No 1 III Rondo Allegro_PROCESSED.wav\n",
      "Violin Sonata in G Minor, D 408 I Allegro giusto_PROCESSED.wav\n",
      "Violin Sonata in A Minor, D 385 I Allegro moderato_PROCESSED.wav\n",
      "Violin Sonata No 2 in A Op 12 No 2 II Andante piÃ¹ tosto allegretto_PROCESSED.wav\n",
      "Violin Sonata No 2 in A Op 12 No 2 III Allegro piacevole_PROCESSED.wav\n",
      "Violin Sonata in D major, D 384 III Allegro vivace_PROCESSED.wav\n",
      "Violin Sonata in D major, D 384 II Andante_PROCESSED.wav\n",
      "Violin Sonata in A Major, D 574 II Scherzo Presto_PROCESSED.wav\n",
      "Violin Sonata No 1 in D Op 12 No 1 I Allegro con brio_PROCESSED.wav\n",
      "Violin Sonata in A Major, D 574 IV Allegro vivace_PROCESSED.wav\n",
      "Violin Sonata in D major, D 384 I Allegro molto_PROCESSED.wav\n",
      "Violin Sonata in A Major, D 574 I Allegro moderato_PROCESSED.wav\n",
      "Violin Sonata No 1 in D Op 12 No 1 II Tema con variazioni_PROCESSED.wav\n",
      "Violin Sonata in A Major, D 574 III Andantino_PROCESSED.wav\n"
     ]
    }
   ],
   "source": [
    "import os\n",
    "import numpy, scipy, matplotlib.pyplot as plt, IPython.display as ipd\n",
    "import librosa, librosa.display\n",
    "import numpy as np\n",
    "import math\n",
    "os.chdir('/home/student/Downloads/new_violin_viola/classical/viola/combined_train')\n",
    "x1=[]\n",
    "y_train=[]\n",
    "mfcc_list_mean = []\n",
    "mfcc_list_std = []\n",
    "\n",
    "freqViolin = []\n",
    "freqViola = []\n",
    "for f_name in os.listdir('/home/student/Downloads/new_violin_viola/classical/viola/combined_train'):\n",
    "    if f_name.endswith('.mp3') or f_name.endswith('.wav'):\n",
    "        print(f_name)\n",
    "        #temp = x/x.max()  #normalization\n",
    "        #S = librosa.feature.melspectrogram(temp, sr=sr, n_mels=128)  # 128 mel bands\n",
    "        #mfcc = librosa.feature.mfcc(S=librosa.power_to_db(S), n_mfcc=13)\n",
    "        #tempList = list(np.mean(mfcc,1))\n",
    "        #tempList1 = list(np.std(mfcc,1))\n",
    "        x, sr = librosa.load(f_name)\n",
    "        hop_length = 512\n",
    "        X = librosa.stft(x)\n",
    "        S = librosa.amplitude_to_db(X, ref=np.max)\n",
    "        \n",
    "        l1 =[]\n",
    "        #by default, there are 1025 frequency bins in 0 to sr/2 (sr = 22050)\n",
    "        \n",
    "        \n",
    "        hist=[]\n",
    "        hist1=[]\n",
    "        for i in range(len(S)):\n",
    "            for j in range(len(S[0])):\n",
    "        \n",
    "                if S[i][j]>=(-11):\n",
    "                    temp = i *((22050/2)/1025)\n",
    "            \n",
    "                    if temp >0:\n",
    "                        hist.append(math.log2(temp))\n",
    "                        hist1.append(temp)\n",
    "        x1.append(hist)\n",
    "        freqViola.append(hist1)\n",
    "        y_train.append(\"viola\")\n",
    "os.chdir('/home/student/Downloads/new_violin_viola/classical/violin/combined_train')  \n",
    "for f_name in os.listdir('/home/student/Downloads/new_violin_viola/classical/violin/combined_train'):\n",
    "    if f_name.endswith('.mp3') or f_name.endswith('.wav'):\n",
    "        print(f_name)\n",
    "        \n",
    "        x, sr = librosa.load(f_name)\n",
    "        hop_length = 512\n",
    "        X = librosa.stft(x)\n",
    "        S = librosa.amplitude_to_db(X, ref=np.max)\n",
    "        \n",
    "        l1 =[]\n",
    "        #by default, there are 1025 frequency bins in 0 to sr/2 (sr = 22050)\n",
    "\n",
    "        \n",
    "        hist=[]\n",
    "        hist1=[]\n",
    "        for i in range(len(S)):\n",
    "            for j in range(len(S[0])):\n",
    "        \n",
    "                if S[i][j]>=(-11):\n",
    "                    temp = i *((22050/2)/1025)\n",
    "            \n",
    "                    if temp >0:\n",
    "                        hist.append(math.log2(temp))\n",
    "                        hist1.append(temp)\n",
    "                        \n",
    "        x1.append(hist)\n",
    "        freqViolin.append(hist1)\n",
    "        y_train.append(\"violin\")\n",
    "\n",
    "import pandas as pd\n",
    "import numpy as np\n",
    "import matplotlib.pyplot as plt\n",
    "from sklearn.model_selection import train_test_split\n",
    "import statistics \n",
    "\n",
    "\n",
    "X_train= [[statistics.mean(a), statistics.median(a),  min(a), max(a),np.percentile(np.array(a), 25), np.percentile(np.array(a), 75)] for a in x1]\n",
    "#y=[\"violin\",\"violin\",\"violin\",\"violin\",\"violin\",\"viola\",\"viola\",\"viola\",\"viola\",\"viola\"]\n",
    "    "
   ]
  },
  {
   "cell_type": "code",
   "execution_count": 2,
   "metadata": {},
   "outputs": [
    {
     "name": "stdout",
     "output_type": "stream",
     "text": [
      "Violin Sonata No 21 in E minor K 304 I Allegro_PROCESSED.wav\n"
     ]
    },
    {
     "name": "stderr",
     "output_type": "stream",
     "text": [
      "/home/student/.local/lib/python3.6/site-packages/librosa/core/spectrum.py:1642: UserWarning: amplitude_to_db was called on complex input so phase information will be discarded. To suppress this warning, call amplitude_to_db(np.abs(S)) instead.\n",
      "  \"amplitude_to_db was called on complex input so phase \"\n"
     ]
    },
    {
     "name": "stdout",
     "output_type": "stream",
     "text": [
      "Notturno for Viola, op 42 I_PROCESSED.wav\n",
      "Beethoven Sonata for viola and piano in A Major opus 69, 1st movement_PROCESSED.wav\n",
      "Mozart Violin Sonata in E minor K II Tempo_PROCESSED.wav\n",
      "Andante _ Allegretto in C major KV 404(Mozart)_PROCESSED.wav\n",
      "Mozart Violin Sonata in E minor K I Allegro_PROCESSED.wav\n",
      "Divertimento_K334Menuet_PROCESSED.wav\n",
      "Mozart - Sonata for Piano and Violin in G Major, K 301 - I_PROCESSED.wav\n",
      "Brahms - Lullaby for Violin and Piano duet_PROCESSED.wav\n",
      "Beethoven-Sonata for Piano and Violin no 5, Spring Sonata I_PROCESSED.wav\n",
      "Fantasie in C Major, D_PROCESSED.wav\n",
      "Violin Sonata No 2 in A Op 12 No 2 I Allegro vivace_PROCESSED.wav\n"
     ]
    }
   ],
   "source": [
    "os.chdir('/home/student/Downloads/new_violin_viola/classical/viola/combined_test')\n",
    "x1=[]\n",
    "y_test=[]\n",
    "for f_name in os.listdir('/home/student/Downloads/new_violin_viola/classical/viola/combined_test'):\n",
    "    if f_name.endswith('.mp3') or f_name.endswith('.wav'):\n",
    "        print(f_name)\n",
    "        \n",
    "        x, sr = librosa.load(f_name)\n",
    "        hop_length = 512\n",
    "        X = librosa.stft(x)\n",
    "        S = librosa.amplitude_to_db(X, ref=np.max)\n",
    "        \n",
    "        l1 =[]\n",
    "        #by default, there are 1025 frequency bins in 0 to sr/2 (sr = 22050)\n",
    "\n",
    "        \n",
    "        hist=[]\n",
    "        hist1=[]\n",
    "        for i in range(len(S)):\n",
    "            for j in range(len(S[0])):\n",
    "        \n",
    "                if S[i][j]>=(-11):\n",
    "                    temp = i *((22050/2)/1025)\n",
    "            \n",
    "                    if temp >0:\n",
    "                        hist.append(math.log2(temp))\n",
    "                        hist1.append(temp)\n",
    "                        \n",
    "                        \n",
    "        x1.append(hist)\n",
    "        freqViola.append(hist1)\n",
    "        y_test.append(\"viola\")\n",
    "os.chdir('/home/student/Downloads/new_violin_viola/classical/violin/combined_test')  \n",
    "for f_name in os.listdir('/home/student/Downloads/new_violin_viola/classical/violin/combined_test'):\n",
    "    if f_name.endswith('.mp3') or f_name.endswith('.wav'):\n",
    "        print(f_name)\n",
    "        \n",
    "        x, sr = librosa.load(f_name)\n",
    "        hop_length = 512\n",
    "        X = librosa.stft(x)\n",
    "        S = librosa.amplitude_to_db(X, ref=np.max)\n",
    "        \n",
    "        l1 =[]\n",
    "        #by default, there are 1025 frequency bins in 0 to sr/2 (sr = 22050)\n",
    "\n",
    "        \n",
    "        hist=[]\n",
    "        hist1=[]\n",
    "        for i in range(len(S)):\n",
    "            for j in range(len(S[0])):\n",
    "        \n",
    "                if S[i][j]>=(-11):\n",
    "                    temp = i *((22050/2)/1025)\n",
    "            \n",
    "                    if temp >0:\n",
    "                        hist.append(math.log2(temp))\n",
    "                        hist1.append(temp)\n",
    "                        \n",
    "        x1.append(hist)\n",
    "        freqViolin.append(hist1)\n",
    "        y_test.append(\"violin\")\n",
    "\n",
    "import pandas as pd\n",
    "import numpy as np\n",
    "import matplotlib.pyplot as plt\n",
    "from sklearn.model_selection import train_test_split\n",
    "import statistics \n",
    "\n",
    "X_test= [[statistics.mean(a), statistics.median(a),  min(a), max(a),np.percentile(np.array(a), 25), np.percentile(np.array(a), 75)] for a in x1]\n",
    "\n",
    " "
   ]
  },
  {
   "cell_type": "code",
   "execution_count": 3,
   "metadata": {},
   "outputs": [
    {
     "name": "stdout",
     "output_type": "stream",
     "text": [
      "[[4 2]\n",
      " [1 5]]\n",
      "Accuracy0.75\n",
      "              precision    recall  f1-score   support\n",
      "\n",
      "       viola       0.80      0.67      0.73         6\n",
      "      violin       0.71      0.83      0.77         6\n",
      "\n",
      "    accuracy                           0.75        12\n",
      "   macro avg       0.76      0.75      0.75        12\n",
      "weighted avg       0.76      0.75      0.75        12\n",
      "\n",
      "Accuracy: 0.75\n"
     ]
    }
   ],
   "source": [
    "from numpy.random import seed\n",
    "seed(14) \n",
    "from sklearn import metrics\n",
    "from sklearn.metrics import classification_report, confusion_matrix\n",
    "from sklearn.ensemble import RandomForestClassifier\n",
    "from sklearn.metrics import accuracy_score\n",
    "classifier = RandomForestClassifier(max_depth=10, random_state=0)\n",
    "\n",
    "classifier.fit(X_train, y_train)\n",
    "y_pred = classifier.predict(X_test)\n",
    "print(confusion_matrix(y_test, y_pred))\n",
    "print('Accuracy' + str(accuracy_score(y_test, y_pred)))\n",
    "print(classification_report(y_test,y_pred))\n",
    "print(\"Accuracy:\",metrics.accuracy_score(y_test, y_pred))"
   ]
  },
  {
   "cell_type": "code",
   "execution_count": 4,
   "metadata": {},
   "outputs": [
    {
     "name": "stdout",
     "output_type": "stream",
     "text": [
      "[[3 3]\n",
      " [1 5]]\n",
      "Accuracy0.6666666666666666\n",
      "              precision    recall  f1-score   support\n",
      "\n",
      "       viola       0.75      0.50      0.60         6\n",
      "      violin       0.62      0.83      0.71         6\n",
      "\n",
      "    accuracy                           0.67        12\n",
      "   macro avg       0.69      0.67      0.66        12\n",
      "weighted avg       0.69      0.67      0.66        12\n",
      "\n",
      "Accuracy: 0.6666666666666666\n"
     ]
    }
   ],
   "source": [
    "from sklearn.neighbors import KNeighborsClassifier\n",
    "\n",
    "model = KNeighborsClassifier(n_neighbors=3)\n",
    "\n",
    "# Train the model using the training sets\n",
    "model.fit(X_train, y_train)\n",
    "y_pred = model.predict(X_test)\n",
    "print(confusion_matrix(y_test, y_pred))\n",
    "print('Accuracy' + str(accuracy_score(y_test, y_pred)))\n",
    "print(classification_report(y_test,y_pred))\n",
    "print(\"Accuracy:\",metrics.accuracy_score(y_test, y_pred))"
   ]
  },
  {
   "cell_type": "code",
   "execution_count": 5,
   "metadata": {},
   "outputs": [
    {
     "name": "stdout",
     "output_type": "stream",
     "text": [
      "[[4 2]\n",
      " [1 5]]\n",
      "Accuracy0.75\n",
      "              precision    recall  f1-score   support\n",
      "\n",
      "       viola       0.80      0.67      0.73         6\n",
      "      violin       0.71      0.83      0.77         6\n",
      "\n",
      "    accuracy                           0.75        12\n",
      "   macro avg       0.76      0.75      0.75        12\n",
      "weighted avg       0.76      0.75      0.75        12\n",
      "\n",
      "Accuracy: 0.75\n"
     ]
    }
   ],
   "source": [
    "from sklearn import svm\n",
    "\n",
    "#Create a svm Classifier\n",
    "clf = svm.SVC(random_state=42,kernel='linear') # Linear Kernel\n",
    "\n",
    "clf.fit(X_train, y_train)\n",
    "y_pred = clf.predict(X_test)\n",
    "print(confusion_matrix(y_test, y_pred))\n",
    "print('Accuracy' + str(accuracy_score(y_test, y_pred)))\n",
    "print(classification_report(y_test,y_pred))\n",
    "print(\"Accuracy:\",metrics.accuracy_score(y_test, y_pred))"
   ]
  },
  {
   "cell_type": "code",
   "execution_count": 6,
   "metadata": {},
   "outputs": [
    {
     "name": "stdout",
     "output_type": "stream",
     "text": [
      "[[4 2]\n",
      " [1 5]]\n",
      "Accuracy0.75\n",
      "              precision    recall  f1-score   support\n",
      "\n",
      "       viola       0.80      0.67      0.73         6\n",
      "      violin       0.71      0.83      0.77         6\n",
      "\n",
      "    accuracy                           0.75        12\n",
      "   macro avg       0.76      0.75      0.75        12\n",
      "weighted avg       0.76      0.75      0.75        12\n",
      "\n",
      "Accuracy: 0.75\n"
     ]
    }
   ],
   "source": [
    "svm = svm.SVC(random_state=42, kernel='rbf')\n",
    "svm.fit(X_train, y_train)\n",
    "y_pred = svm.predict(X_test)\n",
    "print(confusion_matrix(y_test, y_pred))\n",
    "print('Accuracy' + str(accuracy_score(y_test, y_pred)))\n",
    "print(classification_report(y_test,y_pred))\n",
    "print(\"Accuracy:\",metrics.accuracy_score(y_test, y_pred))"
   ]
  },
  {
   "cell_type": "code",
   "execution_count": 7,
   "metadata": {},
   "outputs": [],
   "source": [
    "#statistics.mean(freqViola), statistics.median(freqViola),  np.percentile(np.array(freqViola), 25), np.percentile(np.array(freqViola), 75)\n",
    "#viola1= [[statistics.mean(freqViola[i])] for i in range(len(freqViola))]"
   ]
  },
  {
   "cell_type": "code",
   "execution_count": 8,
   "metadata": {},
   "outputs": [
    {
     "name": "stdout",
     "output_type": "stream",
     "text": [
      "Standard deviation of mean Viola frequency: 141.53937956395194\n",
      "Standard deviation of mean Violin frequency: 286.58549738693205\n"
     ]
    }
   ],
   "source": [
    "#freqViola\n",
    "#freqViolin\n",
    "#mean, median, mode, 25th, 75th\n",
    "from statistics import stdev \n",
    "viola1= [[statistics.mean(a), statistics.median(a),  np.percentile(np.array(a), 25), np.percentile(np.array(a), 75)] for a in freqViola]\n",
    "violin1= [[statistics.mean(a), statistics.median(a), np.percentile(np.array(a), 25), np.percentile(np.array(a), 75)] for a in freqViolin]\n",
    "meanstdViolaList = []\n",
    "for i in viola1:\n",
    "    meanstdViolaList.append(i[0])\n",
    "meanstdViola = stdev(meanstdViolaList)\n",
    "print(\"Standard deviation of mean Viola frequency: \" + str(meanstdViola))\n",
    "\n",
    "meanstdViolinList = []\n",
    "for i in violin1:\n",
    "    meanstdViolinList.append(i[0])\n",
    "meanstdViolin = stdev(meanstdViolinList)\n",
    "print(\"Standard deviation of mean Violin frequency: \" + str(meanstdViolin))"
   ]
  },
  {
   "cell_type": "code",
   "execution_count": 9,
   "metadata": {},
   "outputs": [
    {
     "name": "stdout",
     "output_type": "stream",
     "text": [
      "Standard deviation of median Viola frequency: 174.16908746717746\n",
      "Standard deviation of median Violin frequency: 354.04772396535526\n"
     ]
    }
   ],
   "source": [
    "medianstdViolaList = []\n",
    "for i in viola1:\n",
    "    medianstdViolaList.append(i[1])\n",
    "medianstdViola = stdev(medianstdViolaList)\n",
    "print(\"Standard deviation of median Viola frequency: \" + str(medianstdViola))\n",
    "\n",
    "medianstdViolinList = []\n",
    "for i in violin1:\n",
    "    medianstdViolinList.append(i[1])\n",
    "medianstdViolin = stdev(medianstdViolinList)\n",
    "print(\"Standard deviation of median Violin frequency: \" + str(medianstdViolin))"
   ]
  },
  {
   "cell_type": "code",
   "execution_count": 10,
   "metadata": {},
   "outputs": [],
   "source": [
    "#modestdViolaList = []\n",
    "#for i in viola1:\n",
    "#    modestdViolaList.append(i[2])\n",
    "#modestdViola = stdev(modestdViolaList)\n",
    "#print(\"Standard deviation of mode Viola frequency: \" + str(modestdViola))\n",
    "\n",
    "#modestdViolinList = []\n",
    "#for i in violin1:\n",
    "#    modestdViolinList.append(i[2])\n",
    "#modestdViolin = stdev(modestdViolinList)\n",
    "#print(\"Standard deviation of mode Violin frequency: \" + str(modestdViolin))"
   ]
  },
  {
   "cell_type": "code",
   "execution_count": 11,
   "metadata": {},
   "outputs": [
    {
     "name": "stdout",
     "output_type": "stream",
     "text": [
      "Standard deviation of 25th percentile Viola frequency: 121.72137122659096\n",
      "Standard deviation of 25th percentile Violin frequency: 114.75883023433889\n",
      "Standard deviation of 75th percentile Viola frequency: 228.36201592327237\n",
      "Standard deviation of 75th percentile Violin frequency: 573.6584831439521\n",
      "Standard deviation of mean frequency: 241.7458220041694\n",
      "Standard deviation of median frequency: 283.0514771355983\n",
      "Standard deviation of 25th percentile frequency: 116.78525713574906\n",
      "Standard deviation of 75th percentile frequency: 456.8558256659522\n"
     ]
    }
   ],
   "source": [
    "temp = []\n",
    "\n",
    "for i in viola1:\n",
    "    temp.append(i[2])\n",
    "firstQ1 = stdev(temp)\n",
    "print(\"Standard deviation of 25th percentile Viola frequency: \" + str(firstQ1))\n",
    "\n",
    "temp1 = []\n",
    "for i in violin1:\n",
    "    temp1.append(i[2])\n",
    "firstQ2 = stdev(temp1)\n",
    "print(\"Standard deviation of 25th percentile Violin frequency: \" + str(firstQ2))\n",
    "\n",
    "temp3 = []\n",
    "for i in viola1:\n",
    "    temp3.append(i[3])\n",
    "thirdQ1 = stdev(temp3)\n",
    "print(\"Standard deviation of 75th percentile Viola frequency: \" + str(thirdQ1))\n",
    "\n",
    "temp4 = []\n",
    "for i in violin1:\n",
    "    temp4.append(i[3])\n",
    "thirdQ2 = stdev(temp4)\n",
    "print(\"Standard deviation of 75th percentile Violin frequency: \" + str(thirdQ2))\n",
    "\n",
    "meanstdList= meanstdViolaList+meanstdViolinList\n",
    "meanstd = stdev(meanstdList)\n",
    "print(\"Standard deviation of mean frequency: \" + str(meanstd))\n",
    "\n",
    "medianstdList= medianstdViolaList+medianstdViolinList\n",
    "medianstd = stdev(medianstdList)\n",
    "print(\"Standard deviation of median frequency: \" + str(medianstd))\n",
    "\n",
    "\n",
    "temp0 = temp + temp1\n",
    "firstQ = stdev(temp0)\n",
    "print(\"Standard deviation of 25th percentile frequency: \" + str(firstQ))\n",
    "\n",
    "temp00 = temp3 + temp4\n",
    "thirdQ = stdev(temp00)\n",
    "print(\"Standard deviation of 75th percentile frequency: \" + str(thirdQ))\n",
    "\n"
   ]
  },
  {
   "cell_type": "code",
   "execution_count": 12,
   "metadata": {},
   "outputs": [
    {
     "name": "stdout",
     "output_type": "stream",
     "text": [
      "Vivaldi Sonata No.5 in E Minor, Allegro, for Viola and Piano_PROCESSED.wav\n"
     ]
    },
    {
     "name": "stderr",
     "output_type": "stream",
     "text": [
      "/home/student/.local/lib/python3.6/site-packages/librosa/core/spectrum.py:1642: UserWarning: amplitude_to_db was called on complex input so phase information will be discarded. To suppress this warning, call amplitude_to_db(np.abs(S)) instead.\n",
      "  \"amplitude_to_db was called on complex input so phase \"\n"
     ]
    },
    {
     "name": "stdout",
     "output_type": "stream",
     "text": [
      "Sonata No. 3 in F Major II Allegro_PROCESSED.wav\n",
      "Viola Concerto in G Major-3rd Mov_PROCESSED.wav\n",
      "Air Suite, Viola _ Piano_PROCESSED.wav\n",
      "Sonata No. 3 in F Major IV Allegro _PROCESSED.wav\n",
      "Viola Da Gamba_PROCESSED.wav\n",
      "Sonata in C minor, H 514 III -Presto_PROCESSED.wav\n",
      "Sonata in G, BWV 1019 V -Allegro_PROCESSED.wav\n",
      "Sonata in A, BWV 1015 III -Andante un poco_PROCESSED.wav\n",
      "Sonata in A, BWV 1015-Dolce_PROCESSED.wav\n",
      "Vivaldi - Violin Concerto in G minor, RV315 Summer , III_PROCESSED.wav\n",
      "Sonata in B minor, BWV 1014-Adagio_PROCESSED.wav\n"
     ]
    }
   ],
   "source": [
    "os.chdir('/home/student/Downloads/new_violin_viola/baroque/viola/combined_test')\n",
    "x1=[]\n",
    "y_test=[]\n",
    "for f_name in os.listdir('/home/student/Downloads/new_violin_viola/baroque/viola/combined_test'):\n",
    "    if f_name.endswith('.mp3') or f_name.endswith('.wav'):\n",
    "        print(f_name)\n",
    "        \n",
    "        x, sr = librosa.load(f_name)\n",
    "        hop_length = 512\n",
    "        X = librosa.stft(x)\n",
    "        S = librosa.amplitude_to_db(X, ref=np.max)\n",
    "        \n",
    "        l1 =[]\n",
    "        #by default, there are 1025 frequency bins in 0 to sr/2 (sr = 22050)\n",
    "\n",
    "        \n",
    "        hist=[]\n",
    "        hist1=[]\n",
    "        for i in range(len(S)):\n",
    "            for j in range(len(S[0])):\n",
    "        \n",
    "                if S[i][j]>=(-11):\n",
    "                    temp = i *((22050/2)/1025)\n",
    "            \n",
    "                    if temp >0:\n",
    "                        hist.append(math.log2(temp))\n",
    "                        hist1.append(temp)\n",
    "                        \n",
    "                        \n",
    "        x1.append(hist)\n",
    "        freqViola.append(hist1)\n",
    "        y_test.append(\"viola\")\n",
    "os.chdir('/home/student/Downloads/new_violin_viola/baroque/violin/combined_test')  \n",
    "for f_name in os.listdir('/home/student/Downloads/new_violin_viola/baroque/violin/combined_test'):\n",
    "    if f_name.endswith('.mp3') or f_name.endswith('.wav'):\n",
    "        print(f_name)\n",
    "        \n",
    "        x, sr = librosa.load(f_name)\n",
    "        hop_length = 512\n",
    "        X = librosa.stft(x)\n",
    "        S = librosa.amplitude_to_db(X, ref=np.max)\n",
    "        \n",
    "        l1 =[]\n",
    "        #by default, there are 1025 frequency bins in 0 to sr/2 (sr = 22050)\n",
    "\n",
    "        \n",
    "        hist=[]\n",
    "        hist1=[]\n",
    "        for i in range(len(S)):\n",
    "            for j in range(len(S[0])):\n",
    "        \n",
    "                if S[i][j]>=(-11):\n",
    "                    temp = i *((22050/2)/1025)\n",
    "            \n",
    "                    if temp >0:\n",
    "                        hist.append(math.log2(temp))\n",
    "                        hist1.append(temp)\n",
    "                        \n",
    "        x1.append(hist)\n",
    "        freqViolin.append(hist1)\n",
    "        y_test.append(\"violin\")\n",
    "\n",
    "import pandas as pd\n",
    "import numpy as np\n",
    "import matplotlib.pyplot as plt\n",
    "from sklearn.model_selection import train_test_split\n",
    "import statistics \n",
    "\n",
    "X_test= [[statistics.mean(a), statistics.median(a),  min(a), max(a),np.percentile(np.array(a), 25), np.percentile(np.array(a), 75)] for a in x1]\n",
    "\n",
    " "
   ]
  },
  {
   "cell_type": "code",
   "execution_count": 13,
   "metadata": {},
   "outputs": [
    {
     "name": "stdout",
     "output_type": "stream",
     "text": [
      "Romantic test on Classical\n",
      "[[2 4]\n",
      " [4 2]]\n",
      "Accuracy0.3333333333333333\n",
      "              precision    recall  f1-score   support\n",
      "\n",
      "       viola       0.33      0.33      0.33         6\n",
      "      violin       0.33      0.33      0.33         6\n",
      "\n",
      "    accuracy                           0.33        12\n",
      "   macro avg       0.33      0.33      0.33        12\n",
      "weighted avg       0.33      0.33      0.33        12\n",
      "\n",
      "Accuracy: 0.3333333333333333\n"
     ]
    }
   ],
   "source": [
    "from numpy.random import seed\n",
    "seed(14) \n",
    "from sklearn import metrics\n",
    "from sklearn.metrics import classification_report, confusion_matrix\n",
    "from sklearn.ensemble import RandomForestClassifier\n",
    "from sklearn.metrics import accuracy_score\n",
    "classifier = RandomForestClassifier(max_depth=10, random_state=0)\n",
    "\n",
    "classifier.fit(X_train, y_train)\n",
    "y_pred = classifier.predict(X_test)\n",
    "print(\"Romantic test on Classical\")\n",
    "print(confusion_matrix(y_test, y_pred))\n",
    "print('Accuracy' + str(accuracy_score(y_test, y_pred)))\n",
    "print(classification_report(y_test,y_pred))\n",
    "print(\"Accuracy:\",metrics.accuracy_score(y_test, y_pred))"
   ]
  },
  {
   "cell_type": "code",
   "execution_count": 14,
   "metadata": {},
   "outputs": [
    {
     "name": "stdout",
     "output_type": "stream",
     "text": [
      "Adagio and Allegro in A-Flat Major Op 70 Langsam mit innigem Ausdruck (Adagio)_PROCESSED.wav\n"
     ]
    },
    {
     "name": "stderr",
     "output_type": "stream",
     "text": [
      "/home/student/.local/lib/python3.6/site-packages/librosa/core/spectrum.py:1642: UserWarning: amplitude_to_db was called on complex input so phase information will be discarded. To suppress this warning, call amplitude_to_db(np.abs(S)) instead.\n",
      "  \"amplitude_to_db was called on complex input so phase \"\n"
     ]
    },
    {
     "name": "stdout",
     "output_type": "stream",
     "text": [
      "MÃ¤rchenerzÃ¤hlungen for Clarinet, Viola and Piano, Op_PROCESSED.wav\n",
      "Mikhail Glinka - Viola Sonata in D Minor_PROCESSED.wav\n",
      "Adagio and Allegro in A-Flat Major, Op 70 Rasch und feurig_PROCESSED.wav\n",
      "Tchaikovsky, Viola, Passion Confession_PROCESSED.wav\n",
      "Viola Sonata in C Minor, Movement 1, Adagio - Allegro_ Felix Mendelssohn_PROCESSED.wav\n",
      "5 Gedichte WWV 91 V TrÃ¤ume (Wagner)_PROCESSED.wav\n",
      "Song Without Words Op 2 No 3 (Tchaikovsky)_PROCESSED.wav\n",
      "Das Lied der Geige Op 2 (Schebek)_PROCESSED.wav\n",
      "3 Pieces Op 11 Mazurka in F-Sharp Minor (Chopin)_PROCESSED.wav\n",
      "Hungarian Dance No 1 WoO 1_PROCESSED.wav\n",
      "Tchaikovsky, Viola, Passion Confession_PROCESSED.wav\n"
     ]
    }
   ],
   "source": [
    "os.chdir('/home/student/Downloads/new_violin_viola/romantic/viola/combined_test')\n",
    "x1=[]\n",
    "y_test=[]\n",
    "for f_name in os.listdir('/home/student/Downloads/new_violin_viola/romantic/viola/combined_test'):\n",
    "    if f_name.endswith('.mp3') or f_name.endswith('.wav'):\n",
    "        print(f_name)\n",
    "        \n",
    "        x, sr = librosa.load(f_name)\n",
    "        hop_length = 512\n",
    "        X = librosa.stft(x)\n",
    "        S = librosa.amplitude_to_db(X, ref=np.max)\n",
    "        \n",
    "        l1 =[]\n",
    "        #by default, there are 1025 frequency bins in 0 to sr/2 (sr = 22050)\n",
    "\n",
    "        \n",
    "        hist=[]\n",
    "        hist1=[]\n",
    "        for i in range(len(S)):\n",
    "            for j in range(len(S[0])):\n",
    "        \n",
    "                if S[i][j]>=(-11):\n",
    "                    temp = i *((22050/2)/1025)\n",
    "            \n",
    "                    if temp >0:\n",
    "                        hist.append(math.log2(temp))\n",
    "                        hist1.append(temp)\n",
    "                        \n",
    "                        \n",
    "        x1.append(hist)\n",
    "        freqViola.append(hist1)\n",
    "        y_test.append(\"viola\")\n",
    "os.chdir('/home/student/Downloads/new_violin_viola/romantic/violin/combined_test')  \n",
    "for f_name in os.listdir('/home/student/Downloads/new_violin_viola/romantic/violin/combined_test'):\n",
    "    if f_name.endswith('.mp3') or f_name.endswith('.wav'):\n",
    "        print(f_name)\n",
    "        \n",
    "        x, sr = librosa.load(f_name)\n",
    "        hop_length = 512\n",
    "        X = librosa.stft(x)\n",
    "        S = librosa.amplitude_to_db(X, ref=np.max)\n",
    "        \n",
    "        l1 =[]\n",
    "        #by default, there are 1025 frequency bins in 0 to sr/2 (sr = 22050)\n",
    "\n",
    "        \n",
    "        hist=[]\n",
    "        hist1=[]\n",
    "        for i in range(len(S)):\n",
    "            for j in range(len(S[0])):\n",
    "        \n",
    "                if S[i][j]>=(-11):\n",
    "                    temp = i *((22050/2)/1025)\n",
    "            \n",
    "                    if temp >0:\n",
    "                        hist.append(math.log2(temp))\n",
    "                        hist1.append(temp)\n",
    "                        \n",
    "        x1.append(hist)\n",
    "        freqViolin.append(hist1)\n",
    "        y_test.append(\"violin\")\n",
    "\n",
    "import pandas as pd\n",
    "import numpy as np\n",
    "import matplotlib.pyplot as plt\n",
    "from sklearn.model_selection import train_test_split\n",
    "import statistics \n",
    "\n",
    "X_test= [[statistics.mean(a), statistics.median(a),  min(a), max(a),np.percentile(np.array(a), 25), np.percentile(np.array(a), 75)] for a in x1]\n",
    "\n",
    " "
   ]
  },
  {
   "cell_type": "code",
   "execution_count": 15,
   "metadata": {},
   "outputs": [
    {
     "name": "stdout",
     "output_type": "stream",
     "text": [
      "Romantic test on Classical\n",
      "[[3 3]\n",
      " [1 5]]\n",
      "Accuracy0.6666666666666666\n",
      "              precision    recall  f1-score   support\n",
      "\n",
      "       viola       0.75      0.50      0.60         6\n",
      "      violin       0.62      0.83      0.71         6\n",
      "\n",
      "    accuracy                           0.67        12\n",
      "   macro avg       0.69      0.67      0.66        12\n",
      "weighted avg       0.69      0.67      0.66        12\n",
      "\n",
      "Accuracy: 0.6666666666666666\n"
     ]
    }
   ],
   "source": [
    "from numpy.random import seed\n",
    "seed(14) \n",
    "from sklearn import metrics\n",
    "from sklearn.metrics import classification_report, confusion_matrix\n",
    "from sklearn.ensemble import RandomForestClassifier\n",
    "from sklearn.metrics import accuracy_score\n",
    "classifier = RandomForestClassifier(max_depth=10, random_state=0)\n",
    "\n",
    "classifier.fit(X_train, y_train)\n",
    "y_pred = classifier.predict(X_test)\n",
    "print(\"Romantic test on Classical\")\n",
    "print(confusion_matrix(y_test, y_pred))\n",
    "print('Accuracy' + str(accuracy_score(y_test, y_pred)))\n",
    "print(classification_report(y_test,y_pred))\n",
    "print(\"Accuracy:\",metrics.accuracy_score(y_test, y_pred))"
   ]
  },
  {
   "cell_type": "code",
   "execution_count": 19,
   "metadata": {},
   "outputs": [
    {
     "data": {
      "application/vnd.plotly.v1+json": {
       "config": {
        "plotlyServerURL": "https://plot.ly"
       },
       "data": [
        {
         "hovertemplate": "color=viola<br>0=%{x}<br>1=%{y}<extra></extra>",
         "legendgroup": "viola",
         "marker": {
          "color": "#636efa",
          "symbol": "circle"
         },
         "mode": "markers",
         "name": "viola",
         "showlegend": true,
         "type": "scatter",
         "x": [
          -0.8363621609248956,
          1.1217643975547067,
          -1.2049713135037339,
          0.8710471448907535,
          0.116114826698687,
          0.4363673637433739,
          -0.13660496562001392,
          -0.09229024955628608,
          -0.43457017275116894,
          -1.2102037582701095,
          0.09353167103590204,
          -0.9979118651013937,
          -0.25360182347809174,
          0.09064235143205938,
          -0.40794122722189946,
          -0.11888375923288196,
          -0.059119156763937517,
          0.035019486547991356,
          -1.325583049762174,
          -0.5613324699637192
         ],
         "xaxis": "x",
         "y": [
          -0.02206859866620176,
          -0.058479004676685584,
          -0.24415403237099012,
          0.5147888445558507,
          1.0604332980073208,
          0.8509198872890866,
          0.1380921138472443,
          -0.5441244978078089,
          -0.5583058861561603,
          0.5293819703425803,
          0.9656520735031042,
          -0.07981566687184771,
          1.1678922309331605,
          0.6460091655955933,
          0.04521318733930427,
          0.31775857618464903,
          -0.4247373519744161,
          -0.1226072217587444,
          0.7679195984292796,
          -0.6916390428971098
         ],
         "yaxis": "y"
        },
        {
         "hovertemplate": "color=violin<br>0=%{x}<br>1=%{y}<extra></extra>",
         "legendgroup": "violin",
         "marker": {
          "color": "#EF553B",
          "symbol": "circle"
         },
         "mode": "markers",
         "name": "violin",
         "showlegend": true,
         "type": "scatter",
         "x": [
          0.5899601726103935,
          0.10929099082893007,
          0.014279401518612815,
          -0.5295112394482974,
          -0.10868956318026743,
          1.9275035715344178,
          -1.0550963442899592,
          2.413452679024547,
          0.6244282156473684,
          0.47429130522492363,
          -1.763240711891529,
          0.6470481028348982,
          0.4401625459408491,
          0.49341108556994756,
          0.3476476911136049,
          0.7872497262745456,
          -0.30871820369093045,
          0.27535012682125415,
          0.8216522275656465,
          -1.325583049762174
         ],
         "xaxis": "x",
         "y": [
          -0.0018952035309852697,
          0.2106123541316179,
          -0.11810014717952036,
          0.6962077048766016,
          0.10244508077154084,
          -0.24419313507522045,
          -1.1084315078109963,
          0.27491382122268465,
          -0.017886220338871398,
          -1.138460807278138,
          -0.6121579292132496,
          -0.9030253726047605,
          -0.0738556163154295,
          -0.4537368477412094,
          -0.11703491381267868,
          -0.46885270945112284,
          -1.0484634208061945,
          -0.5979937038819058,
          0.5938593327613308,
          0.7679195984292796
         ],
         "yaxis": "y"
        }
       ],
       "layout": {
        "font": {
         "color": "#7f7f7f",
         "family": "Courier New, monospace",
         "size": 18
        },
        "legend": {
         "title": {
          "text": "color"
         },
         "tracegroupgap": 0,
         "x": 0,
         "xanchor": "left",
         "y": 0.99,
         "yanchor": "top"
        },
        "margin": {
         "t": 60
        },
        "template": {
         "data": {
          "bar": [
           {
            "error_x": {
             "color": "#2a3f5f"
            },
            "error_y": {
             "color": "#2a3f5f"
            },
            "marker": {
             "line": {
              "color": "#E5ECF6",
              "width": 0.5
             }
            },
            "type": "bar"
           }
          ],
          "barpolar": [
           {
            "marker": {
             "line": {
              "color": "#E5ECF6",
              "width": 0.5
             }
            },
            "type": "barpolar"
           }
          ],
          "carpet": [
           {
            "aaxis": {
             "endlinecolor": "#2a3f5f",
             "gridcolor": "white",
             "linecolor": "white",
             "minorgridcolor": "white",
             "startlinecolor": "#2a3f5f"
            },
            "baxis": {
             "endlinecolor": "#2a3f5f",
             "gridcolor": "white",
             "linecolor": "white",
             "minorgridcolor": "white",
             "startlinecolor": "#2a3f5f"
            },
            "type": "carpet"
           }
          ],
          "choropleth": [
           {
            "colorbar": {
             "outlinewidth": 0,
             "ticks": ""
            },
            "type": "choropleth"
           }
          ],
          "contour": [
           {
            "colorbar": {
             "outlinewidth": 0,
             "ticks": ""
            },
            "colorscale": [
             [
              0,
              "#0d0887"
             ],
             [
              0.1111111111111111,
              "#46039f"
             ],
             [
              0.2222222222222222,
              "#7201a8"
             ],
             [
              0.3333333333333333,
              "#9c179e"
             ],
             [
              0.4444444444444444,
              "#bd3786"
             ],
             [
              0.5555555555555556,
              "#d8576b"
             ],
             [
              0.6666666666666666,
              "#ed7953"
             ],
             [
              0.7777777777777778,
              "#fb9f3a"
             ],
             [
              0.8888888888888888,
              "#fdca26"
             ],
             [
              1,
              "#f0f921"
             ]
            ],
            "type": "contour"
           }
          ],
          "contourcarpet": [
           {
            "colorbar": {
             "outlinewidth": 0,
             "ticks": ""
            },
            "type": "contourcarpet"
           }
          ],
          "heatmap": [
           {
            "colorbar": {
             "outlinewidth": 0,
             "ticks": ""
            },
            "colorscale": [
             [
              0,
              "#0d0887"
             ],
             [
              0.1111111111111111,
              "#46039f"
             ],
             [
              0.2222222222222222,
              "#7201a8"
             ],
             [
              0.3333333333333333,
              "#9c179e"
             ],
             [
              0.4444444444444444,
              "#bd3786"
             ],
             [
              0.5555555555555556,
              "#d8576b"
             ],
             [
              0.6666666666666666,
              "#ed7953"
             ],
             [
              0.7777777777777778,
              "#fb9f3a"
             ],
             [
              0.8888888888888888,
              "#fdca26"
             ],
             [
              1,
              "#f0f921"
             ]
            ],
            "type": "heatmap"
           }
          ],
          "heatmapgl": [
           {
            "colorbar": {
             "outlinewidth": 0,
             "ticks": ""
            },
            "colorscale": [
             [
              0,
              "#0d0887"
             ],
             [
              0.1111111111111111,
              "#46039f"
             ],
             [
              0.2222222222222222,
              "#7201a8"
             ],
             [
              0.3333333333333333,
              "#9c179e"
             ],
             [
              0.4444444444444444,
              "#bd3786"
             ],
             [
              0.5555555555555556,
              "#d8576b"
             ],
             [
              0.6666666666666666,
              "#ed7953"
             ],
             [
              0.7777777777777778,
              "#fb9f3a"
             ],
             [
              0.8888888888888888,
              "#fdca26"
             ],
             [
              1,
              "#f0f921"
             ]
            ],
            "type": "heatmapgl"
           }
          ],
          "histogram": [
           {
            "marker": {
             "colorbar": {
              "outlinewidth": 0,
              "ticks": ""
             }
            },
            "type": "histogram"
           }
          ],
          "histogram2d": [
           {
            "colorbar": {
             "outlinewidth": 0,
             "ticks": ""
            },
            "colorscale": [
             [
              0,
              "#0d0887"
             ],
             [
              0.1111111111111111,
              "#46039f"
             ],
             [
              0.2222222222222222,
              "#7201a8"
             ],
             [
              0.3333333333333333,
              "#9c179e"
             ],
             [
              0.4444444444444444,
              "#bd3786"
             ],
             [
              0.5555555555555556,
              "#d8576b"
             ],
             [
              0.6666666666666666,
              "#ed7953"
             ],
             [
              0.7777777777777778,
              "#fb9f3a"
             ],
             [
              0.8888888888888888,
              "#fdca26"
             ],
             [
              1,
              "#f0f921"
             ]
            ],
            "type": "histogram2d"
           }
          ],
          "histogram2dcontour": [
           {
            "colorbar": {
             "outlinewidth": 0,
             "ticks": ""
            },
            "colorscale": [
             [
              0,
              "#0d0887"
             ],
             [
              0.1111111111111111,
              "#46039f"
             ],
             [
              0.2222222222222222,
              "#7201a8"
             ],
             [
              0.3333333333333333,
              "#9c179e"
             ],
             [
              0.4444444444444444,
              "#bd3786"
             ],
             [
              0.5555555555555556,
              "#d8576b"
             ],
             [
              0.6666666666666666,
              "#ed7953"
             ],
             [
              0.7777777777777778,
              "#fb9f3a"
             ],
             [
              0.8888888888888888,
              "#fdca26"
             ],
             [
              1,
              "#f0f921"
             ]
            ],
            "type": "histogram2dcontour"
           }
          ],
          "mesh3d": [
           {
            "colorbar": {
             "outlinewidth": 0,
             "ticks": ""
            },
            "type": "mesh3d"
           }
          ],
          "parcoords": [
           {
            "line": {
             "colorbar": {
              "outlinewidth": 0,
              "ticks": ""
             }
            },
            "type": "parcoords"
           }
          ],
          "pie": [
           {
            "automargin": true,
            "type": "pie"
           }
          ],
          "scatter": [
           {
            "marker": {
             "colorbar": {
              "outlinewidth": 0,
              "ticks": ""
             }
            },
            "type": "scatter"
           }
          ],
          "scatter3d": [
           {
            "line": {
             "colorbar": {
              "outlinewidth": 0,
              "ticks": ""
             }
            },
            "marker": {
             "colorbar": {
              "outlinewidth": 0,
              "ticks": ""
             }
            },
            "type": "scatter3d"
           }
          ],
          "scattercarpet": [
           {
            "marker": {
             "colorbar": {
              "outlinewidth": 0,
              "ticks": ""
             }
            },
            "type": "scattercarpet"
           }
          ],
          "scattergeo": [
           {
            "marker": {
             "colorbar": {
              "outlinewidth": 0,
              "ticks": ""
             }
            },
            "type": "scattergeo"
           }
          ],
          "scattergl": [
           {
            "marker": {
             "colorbar": {
              "outlinewidth": 0,
              "ticks": ""
             }
            },
            "type": "scattergl"
           }
          ],
          "scattermapbox": [
           {
            "marker": {
             "colorbar": {
              "outlinewidth": 0,
              "ticks": ""
             }
            },
            "type": "scattermapbox"
           }
          ],
          "scatterpolar": [
           {
            "marker": {
             "colorbar": {
              "outlinewidth": 0,
              "ticks": ""
             }
            },
            "type": "scatterpolar"
           }
          ],
          "scatterpolargl": [
           {
            "marker": {
             "colorbar": {
              "outlinewidth": 0,
              "ticks": ""
             }
            },
            "type": "scatterpolargl"
           }
          ],
          "scatterternary": [
           {
            "marker": {
             "colorbar": {
              "outlinewidth": 0,
              "ticks": ""
             }
            },
            "type": "scatterternary"
           }
          ],
          "surface": [
           {
            "colorbar": {
             "outlinewidth": 0,
             "ticks": ""
            },
            "colorscale": [
             [
              0,
              "#0d0887"
             ],
             [
              0.1111111111111111,
              "#46039f"
             ],
             [
              0.2222222222222222,
              "#7201a8"
             ],
             [
              0.3333333333333333,
              "#9c179e"
             ],
             [
              0.4444444444444444,
              "#bd3786"
             ],
             [
              0.5555555555555556,
              "#d8576b"
             ],
             [
              0.6666666666666666,
              "#ed7953"
             ],
             [
              0.7777777777777778,
              "#fb9f3a"
             ],
             [
              0.8888888888888888,
              "#fdca26"
             ],
             [
              1,
              "#f0f921"
             ]
            ],
            "type": "surface"
           }
          ],
          "table": [
           {
            "cells": {
             "fill": {
              "color": "#EBF0F8"
             },
             "line": {
              "color": "white"
             }
            },
            "header": {
             "fill": {
              "color": "#C8D4E3"
             },
             "line": {
              "color": "white"
             }
            },
            "type": "table"
           }
          ]
         },
         "layout": {
          "annotationdefaults": {
           "arrowcolor": "#2a3f5f",
           "arrowhead": 0,
           "arrowwidth": 1
          },
          "coloraxis": {
           "colorbar": {
            "outlinewidth": 0,
            "ticks": ""
           }
          },
          "colorscale": {
           "diverging": [
            [
             0,
             "#8e0152"
            ],
            [
             0.1,
             "#c51b7d"
            ],
            [
             0.2,
             "#de77ae"
            ],
            [
             0.3,
             "#f1b6da"
            ],
            [
             0.4,
             "#fde0ef"
            ],
            [
             0.5,
             "#f7f7f7"
            ],
            [
             0.6,
             "#e6f5d0"
            ],
            [
             0.7,
             "#b8e186"
            ],
            [
             0.8,
             "#7fbc41"
            ],
            [
             0.9,
             "#4d9221"
            ],
            [
             1,
             "#276419"
            ]
           ],
           "sequential": [
            [
             0,
             "#0d0887"
            ],
            [
             0.1111111111111111,
             "#46039f"
            ],
            [
             0.2222222222222222,
             "#7201a8"
            ],
            [
             0.3333333333333333,
             "#9c179e"
            ],
            [
             0.4444444444444444,
             "#bd3786"
            ],
            [
             0.5555555555555556,
             "#d8576b"
            ],
            [
             0.6666666666666666,
             "#ed7953"
            ],
            [
             0.7777777777777778,
             "#fb9f3a"
            ],
            [
             0.8888888888888888,
             "#fdca26"
            ],
            [
             1,
             "#f0f921"
            ]
           ],
           "sequentialminus": [
            [
             0,
             "#0d0887"
            ],
            [
             0.1111111111111111,
             "#46039f"
            ],
            [
             0.2222222222222222,
             "#7201a8"
            ],
            [
             0.3333333333333333,
             "#9c179e"
            ],
            [
             0.4444444444444444,
             "#bd3786"
            ],
            [
             0.5555555555555556,
             "#d8576b"
            ],
            [
             0.6666666666666666,
             "#ed7953"
            ],
            [
             0.7777777777777778,
             "#fb9f3a"
            ],
            [
             0.8888888888888888,
             "#fdca26"
            ],
            [
             1,
             "#f0f921"
            ]
           ]
          },
          "colorway": [
           "#636efa",
           "#EF553B",
           "#00cc96",
           "#ab63fa",
           "#FFA15A",
           "#19d3f3",
           "#FF6692",
           "#B6E880",
           "#FF97FF",
           "#FECB52"
          ],
          "font": {
           "color": "#2a3f5f"
          },
          "geo": {
           "bgcolor": "white",
           "lakecolor": "white",
           "landcolor": "#E5ECF6",
           "showlakes": true,
           "showland": true,
           "subunitcolor": "white"
          },
          "hoverlabel": {
           "align": "left"
          },
          "hovermode": "closest",
          "mapbox": {
           "style": "light"
          },
          "paper_bgcolor": "white",
          "plot_bgcolor": "#E5ECF6",
          "polar": {
           "angularaxis": {
            "gridcolor": "white",
            "linecolor": "white",
            "ticks": ""
           },
           "bgcolor": "#E5ECF6",
           "radialaxis": {
            "gridcolor": "white",
            "linecolor": "white",
            "ticks": ""
           }
          },
          "scene": {
           "xaxis": {
            "backgroundcolor": "#E5ECF6",
            "gridcolor": "white",
            "gridwidth": 2,
            "linecolor": "white",
            "showbackground": true,
            "ticks": "",
            "zerolinecolor": "white"
           },
           "yaxis": {
            "backgroundcolor": "#E5ECF6",
            "gridcolor": "white",
            "gridwidth": 2,
            "linecolor": "white",
            "showbackground": true,
            "ticks": "",
            "zerolinecolor": "white"
           },
           "zaxis": {
            "backgroundcolor": "#E5ECF6",
            "gridcolor": "white",
            "gridwidth": 2,
            "linecolor": "white",
            "showbackground": true,
            "ticks": "",
            "zerolinecolor": "white"
           }
          },
          "shapedefaults": {
           "line": {
            "color": "#2a3f5f"
           }
          },
          "ternary": {
           "aaxis": {
            "gridcolor": "white",
            "linecolor": "white",
            "ticks": ""
           },
           "baxis": {
            "gridcolor": "white",
            "linecolor": "white",
            "ticks": ""
           },
           "bgcolor": "#E5ECF6",
           "caxis": {
            "gridcolor": "white",
            "linecolor": "white",
            "ticks": ""
           }
          },
          "title": {
           "x": 0.05
          },
          "xaxis": {
           "automargin": true,
           "gridcolor": "white",
           "linecolor": "white",
           "ticks": "",
           "title": {
            "standoff": 15
           },
           "zerolinecolor": "white",
           "zerolinewidth": 2
          },
          "yaxis": {
           "automargin": true,
           "gridcolor": "white",
           "linecolor": "white",
           "ticks": "",
           "title": {
            "standoff": 15
           },
           "zerolinecolor": "white",
           "zerolinewidth": 2
          }
         }
        },
        "title": {
         "text": ""
        },
        "xaxis": {
         "anchor": "y",
         "domain": [
          0,
          1
         ],
         "title": {
          "text": "First Component"
         }
        },
        "yaxis": {
         "anchor": "x",
         "domain": [
          0,
          1
         ],
         "title": {
          "text": "Second Component"
         }
        }
       }
      },
      "text/html": [
       "<div>\n",
       "        \n",
       "        \n",
       "            <div id=\"83813ef7-332b-48df-a08b-758ea190939c\" class=\"plotly-graph-div\" style=\"height:525px; width:100%;\"></div>\n",
       "            <script type=\"text/javascript\">\n",
       "                require([\"plotly\"], function(Plotly) {\n",
       "                    window.PLOTLYENV=window.PLOTLYENV || {};\n",
       "                    \n",
       "                if (document.getElementById(\"83813ef7-332b-48df-a08b-758ea190939c\")) {\n",
       "                    Plotly.newPlot(\n",
       "                        '83813ef7-332b-48df-a08b-758ea190939c',\n",
       "                        [{\"hovertemplate\": \"color=viola<br>0=%{x}<br>1=%{y}<extra></extra>\", \"legendgroup\": \"viola\", \"marker\": {\"color\": \"#636efa\", \"symbol\": \"circle\"}, \"mode\": \"markers\", \"name\": \"viola\", \"showlegend\": true, \"type\": \"scatter\", \"x\": [-0.8363621609248956, 1.1217643975547067, -1.2049713135037339, 0.8710471448907535, 0.116114826698687, 0.4363673637433739, -0.13660496562001392, -0.09229024955628608, -0.43457017275116894, -1.2102037582701095, 0.09353167103590204, -0.9979118651013937, -0.25360182347809174, 0.09064235143205938, -0.40794122722189946, -0.11888375923288196, -0.059119156763937517, 0.035019486547991356, -1.325583049762174, -0.5613324699637192], \"xaxis\": \"x\", \"y\": [-0.02206859866620176, -0.058479004676685584, -0.24415403237099012, 0.5147888445558507, 1.0604332980073208, 0.8509198872890866, 0.1380921138472443, -0.5441244978078089, -0.5583058861561603, 0.5293819703425803, 0.9656520735031042, -0.07981566687184771, 1.1678922309331605, 0.6460091655955933, 0.04521318733930427, 0.31775857618464903, -0.4247373519744161, -0.1226072217587444, 0.7679195984292796, -0.6916390428971098], \"yaxis\": \"y\"}, {\"hovertemplate\": \"color=violin<br>0=%{x}<br>1=%{y}<extra></extra>\", \"legendgroup\": \"violin\", \"marker\": {\"color\": \"#EF553B\", \"symbol\": \"circle\"}, \"mode\": \"markers\", \"name\": \"violin\", \"showlegend\": true, \"type\": \"scatter\", \"x\": [0.5899601726103935, 0.10929099082893007, 0.014279401518612815, -0.5295112394482974, -0.10868956318026743, 1.9275035715344178, -1.0550963442899592, 2.413452679024547, 0.6244282156473684, 0.47429130522492363, -1.763240711891529, 0.6470481028348982, 0.4401625459408491, 0.49341108556994756, 0.3476476911136049, 0.7872497262745456, -0.30871820369093045, 0.27535012682125415, 0.8216522275656465, -1.325583049762174], \"xaxis\": \"x\", \"y\": [-0.0018952035309852697, 0.2106123541316179, -0.11810014717952036, 0.6962077048766016, 0.10244508077154084, -0.24419313507522045, -1.1084315078109963, 0.27491382122268465, -0.017886220338871398, -1.138460807278138, -0.6121579292132496, -0.9030253726047605, -0.0738556163154295, -0.4537368477412094, -0.11703491381267868, -0.46885270945112284, -1.0484634208061945, -0.5979937038819058, 0.5938593327613308, 0.7679195984292796], \"yaxis\": \"y\"}],\n",
       "                        {\"font\": {\"color\": \"#7f7f7f\", \"family\": \"Courier New, monospace\", \"size\": 18}, \"legend\": {\"title\": {\"text\": \"color\"}, \"tracegroupgap\": 0, \"x\": 0.0, \"xanchor\": \"left\", \"y\": 0.99, \"yanchor\": \"top\"}, \"margin\": {\"t\": 60}, \"template\": {\"data\": {\"bar\": [{\"error_x\": {\"color\": \"#2a3f5f\"}, \"error_y\": {\"color\": \"#2a3f5f\"}, \"marker\": {\"line\": {\"color\": \"#E5ECF6\", \"width\": 0.5}}, \"type\": \"bar\"}], \"barpolar\": [{\"marker\": {\"line\": {\"color\": \"#E5ECF6\", \"width\": 0.5}}, \"type\": \"barpolar\"}], \"carpet\": [{\"aaxis\": {\"endlinecolor\": \"#2a3f5f\", \"gridcolor\": \"white\", \"linecolor\": \"white\", \"minorgridcolor\": \"white\", \"startlinecolor\": \"#2a3f5f\"}, \"baxis\": {\"endlinecolor\": \"#2a3f5f\", \"gridcolor\": \"white\", \"linecolor\": \"white\", \"minorgridcolor\": \"white\", \"startlinecolor\": \"#2a3f5f\"}, \"type\": \"carpet\"}], \"choropleth\": [{\"colorbar\": {\"outlinewidth\": 0, \"ticks\": \"\"}, \"type\": \"choropleth\"}], \"contour\": [{\"colorbar\": {\"outlinewidth\": 0, \"ticks\": \"\"}, \"colorscale\": [[0.0, \"#0d0887\"], [0.1111111111111111, \"#46039f\"], [0.2222222222222222, \"#7201a8\"], [0.3333333333333333, \"#9c179e\"], [0.4444444444444444, \"#bd3786\"], [0.5555555555555556, \"#d8576b\"], [0.6666666666666666, \"#ed7953\"], [0.7777777777777778, \"#fb9f3a\"], [0.8888888888888888, \"#fdca26\"], [1.0, \"#f0f921\"]], \"type\": \"contour\"}], \"contourcarpet\": [{\"colorbar\": {\"outlinewidth\": 0, \"ticks\": \"\"}, \"type\": \"contourcarpet\"}], \"heatmap\": [{\"colorbar\": {\"outlinewidth\": 0, \"ticks\": \"\"}, \"colorscale\": [[0.0, \"#0d0887\"], [0.1111111111111111, \"#46039f\"], [0.2222222222222222, \"#7201a8\"], [0.3333333333333333, \"#9c179e\"], [0.4444444444444444, \"#bd3786\"], [0.5555555555555556, \"#d8576b\"], [0.6666666666666666, \"#ed7953\"], [0.7777777777777778, \"#fb9f3a\"], [0.8888888888888888, \"#fdca26\"], [1.0, \"#f0f921\"]], \"type\": \"heatmap\"}], \"heatmapgl\": [{\"colorbar\": {\"outlinewidth\": 0, \"ticks\": \"\"}, \"colorscale\": [[0.0, \"#0d0887\"], [0.1111111111111111, \"#46039f\"], [0.2222222222222222, \"#7201a8\"], [0.3333333333333333, \"#9c179e\"], [0.4444444444444444, \"#bd3786\"], [0.5555555555555556, \"#d8576b\"], [0.6666666666666666, \"#ed7953\"], [0.7777777777777778, \"#fb9f3a\"], [0.8888888888888888, \"#fdca26\"], [1.0, \"#f0f921\"]], \"type\": \"heatmapgl\"}], \"histogram\": [{\"marker\": {\"colorbar\": {\"outlinewidth\": 0, \"ticks\": \"\"}}, \"type\": \"histogram\"}], \"histogram2d\": [{\"colorbar\": {\"outlinewidth\": 0, \"ticks\": \"\"}, \"colorscale\": [[0.0, \"#0d0887\"], [0.1111111111111111, \"#46039f\"], [0.2222222222222222, \"#7201a8\"], [0.3333333333333333, \"#9c179e\"], [0.4444444444444444, \"#bd3786\"], [0.5555555555555556, \"#d8576b\"], [0.6666666666666666, \"#ed7953\"], [0.7777777777777778, \"#fb9f3a\"], [0.8888888888888888, \"#fdca26\"], [1.0, \"#f0f921\"]], \"type\": \"histogram2d\"}], \"histogram2dcontour\": [{\"colorbar\": {\"outlinewidth\": 0, \"ticks\": \"\"}, \"colorscale\": [[0.0, \"#0d0887\"], [0.1111111111111111, \"#46039f\"], [0.2222222222222222, \"#7201a8\"], [0.3333333333333333, \"#9c179e\"], [0.4444444444444444, \"#bd3786\"], [0.5555555555555556, \"#d8576b\"], [0.6666666666666666, \"#ed7953\"], [0.7777777777777778, \"#fb9f3a\"], [0.8888888888888888, \"#fdca26\"], [1.0, \"#f0f921\"]], \"type\": \"histogram2dcontour\"}], \"mesh3d\": [{\"colorbar\": {\"outlinewidth\": 0, \"ticks\": \"\"}, \"type\": \"mesh3d\"}], \"parcoords\": [{\"line\": {\"colorbar\": {\"outlinewidth\": 0, \"ticks\": \"\"}}, \"type\": \"parcoords\"}], \"pie\": [{\"automargin\": true, \"type\": \"pie\"}], \"scatter\": [{\"marker\": {\"colorbar\": {\"outlinewidth\": 0, \"ticks\": \"\"}}, \"type\": \"scatter\"}], \"scatter3d\": [{\"line\": {\"colorbar\": {\"outlinewidth\": 0, \"ticks\": \"\"}}, \"marker\": {\"colorbar\": {\"outlinewidth\": 0, \"ticks\": \"\"}}, \"type\": \"scatter3d\"}], \"scattercarpet\": [{\"marker\": {\"colorbar\": {\"outlinewidth\": 0, \"ticks\": \"\"}}, \"type\": \"scattercarpet\"}], \"scattergeo\": [{\"marker\": {\"colorbar\": {\"outlinewidth\": 0, \"ticks\": \"\"}}, \"type\": \"scattergeo\"}], \"scattergl\": [{\"marker\": {\"colorbar\": {\"outlinewidth\": 0, \"ticks\": \"\"}}, \"type\": \"scattergl\"}], \"scattermapbox\": [{\"marker\": {\"colorbar\": {\"outlinewidth\": 0, \"ticks\": \"\"}}, \"type\": \"scattermapbox\"}], \"scatterpolar\": [{\"marker\": {\"colorbar\": {\"outlinewidth\": 0, \"ticks\": \"\"}}, \"type\": \"scatterpolar\"}], \"scatterpolargl\": [{\"marker\": {\"colorbar\": {\"outlinewidth\": 0, \"ticks\": \"\"}}, \"type\": \"scatterpolargl\"}], \"scatterternary\": [{\"marker\": {\"colorbar\": {\"outlinewidth\": 0, \"ticks\": \"\"}}, \"type\": \"scatterternary\"}], \"surface\": [{\"colorbar\": {\"outlinewidth\": 0, \"ticks\": \"\"}, \"colorscale\": [[0.0, \"#0d0887\"], [0.1111111111111111, \"#46039f\"], [0.2222222222222222, \"#7201a8\"], [0.3333333333333333, \"#9c179e\"], [0.4444444444444444, \"#bd3786\"], [0.5555555555555556, \"#d8576b\"], [0.6666666666666666, \"#ed7953\"], [0.7777777777777778, \"#fb9f3a\"], [0.8888888888888888, \"#fdca26\"], [1.0, \"#f0f921\"]], \"type\": \"surface\"}], \"table\": [{\"cells\": {\"fill\": {\"color\": \"#EBF0F8\"}, \"line\": {\"color\": \"white\"}}, \"header\": {\"fill\": {\"color\": \"#C8D4E3\"}, \"line\": {\"color\": \"white\"}}, \"type\": \"table\"}]}, \"layout\": {\"annotationdefaults\": {\"arrowcolor\": \"#2a3f5f\", \"arrowhead\": 0, \"arrowwidth\": 1}, \"coloraxis\": {\"colorbar\": {\"outlinewidth\": 0, \"ticks\": \"\"}}, \"colorscale\": {\"diverging\": [[0, \"#8e0152\"], [0.1, \"#c51b7d\"], [0.2, \"#de77ae\"], [0.3, \"#f1b6da\"], [0.4, \"#fde0ef\"], [0.5, \"#f7f7f7\"], [0.6, \"#e6f5d0\"], [0.7, \"#b8e186\"], [0.8, \"#7fbc41\"], [0.9, \"#4d9221\"], [1, \"#276419\"]], \"sequential\": [[0.0, \"#0d0887\"], [0.1111111111111111, \"#46039f\"], [0.2222222222222222, \"#7201a8\"], [0.3333333333333333, \"#9c179e\"], [0.4444444444444444, \"#bd3786\"], [0.5555555555555556, \"#d8576b\"], [0.6666666666666666, \"#ed7953\"], [0.7777777777777778, \"#fb9f3a\"], [0.8888888888888888, \"#fdca26\"], [1.0, \"#f0f921\"]], \"sequentialminus\": [[0.0, \"#0d0887\"], [0.1111111111111111, \"#46039f\"], [0.2222222222222222, \"#7201a8\"], [0.3333333333333333, \"#9c179e\"], [0.4444444444444444, \"#bd3786\"], [0.5555555555555556, \"#d8576b\"], [0.6666666666666666, \"#ed7953\"], [0.7777777777777778, \"#fb9f3a\"], [0.8888888888888888, \"#fdca26\"], [1.0, \"#f0f921\"]]}, \"colorway\": [\"#636efa\", \"#EF553B\", \"#00cc96\", \"#ab63fa\", \"#FFA15A\", \"#19d3f3\", \"#FF6692\", \"#B6E880\", \"#FF97FF\", \"#FECB52\"], \"font\": {\"color\": \"#2a3f5f\"}, \"geo\": {\"bgcolor\": \"white\", \"lakecolor\": \"white\", \"landcolor\": \"#E5ECF6\", \"showlakes\": true, \"showland\": true, \"subunitcolor\": \"white\"}, \"hoverlabel\": {\"align\": \"left\"}, \"hovermode\": \"closest\", \"mapbox\": {\"style\": \"light\"}, \"paper_bgcolor\": \"white\", \"plot_bgcolor\": \"#E5ECF6\", \"polar\": {\"angularaxis\": {\"gridcolor\": \"white\", \"linecolor\": \"white\", \"ticks\": \"\"}, \"bgcolor\": \"#E5ECF6\", \"radialaxis\": {\"gridcolor\": \"white\", \"linecolor\": \"white\", \"ticks\": \"\"}}, \"scene\": {\"xaxis\": {\"backgroundcolor\": \"#E5ECF6\", \"gridcolor\": \"white\", \"gridwidth\": 2, \"linecolor\": \"white\", \"showbackground\": true, \"ticks\": \"\", \"zerolinecolor\": \"white\"}, \"yaxis\": {\"backgroundcolor\": \"#E5ECF6\", \"gridcolor\": \"white\", \"gridwidth\": 2, \"linecolor\": \"white\", \"showbackground\": true, \"ticks\": \"\", \"zerolinecolor\": \"white\"}, \"zaxis\": {\"backgroundcolor\": \"#E5ECF6\", \"gridcolor\": \"white\", \"gridwidth\": 2, \"linecolor\": \"white\", \"showbackground\": true, \"ticks\": \"\", \"zerolinecolor\": \"white\"}}, \"shapedefaults\": {\"line\": {\"color\": \"#2a3f5f\"}}, \"ternary\": {\"aaxis\": {\"gridcolor\": \"white\", \"linecolor\": \"white\", \"ticks\": \"\"}, \"baxis\": {\"gridcolor\": \"white\", \"linecolor\": \"white\", \"ticks\": \"\"}, \"bgcolor\": \"#E5ECF6\", \"caxis\": {\"gridcolor\": \"white\", \"linecolor\": \"white\", \"ticks\": \"\"}}, \"title\": {\"x\": 0.05}, \"xaxis\": {\"automargin\": true, \"gridcolor\": \"white\", \"linecolor\": \"white\", \"ticks\": \"\", \"title\": {\"standoff\": 15}, \"zerolinecolor\": \"white\", \"zerolinewidth\": 2}, \"yaxis\": {\"automargin\": true, \"gridcolor\": \"white\", \"linecolor\": \"white\", \"ticks\": \"\", \"title\": {\"standoff\": 15}, \"zerolinecolor\": \"white\", \"zerolinewidth\": 2}}}, \"title\": {\"text\": \"\"}, \"xaxis\": {\"anchor\": \"y\", \"domain\": [0.0, 1.0], \"title\": {\"text\": \"First Component\"}}, \"yaxis\": {\"anchor\": \"x\", \"domain\": [0.0, 1.0], \"title\": {\"text\": \"Second Component\"}}},\n",
       "                        {\"responsive\": true}\n",
       "                    ).then(function(){\n",
       "                            \n",
       "var gd = document.getElementById('83813ef7-332b-48df-a08b-758ea190939c');\n",
       "var x = new MutationObserver(function (mutations, observer) {{\n",
       "        var display = window.getComputedStyle(gd).display;\n",
       "        if (!display || display === 'none') {{\n",
       "            console.log([gd, 'removed!']);\n",
       "            Plotly.purge(gd);\n",
       "            observer.disconnect();\n",
       "        }}\n",
       "}});\n",
       "\n",
       "// Listen for the removal of the full notebook cells\n",
       "var notebookContainer = gd.closest('#notebook-container');\n",
       "if (notebookContainer) {{\n",
       "    x.observe(notebookContainer, {childList: true});\n",
       "}}\n",
       "\n",
       "// Listen for the clearing of the current output cell\n",
       "var outputEl = gd.closest('.output');\n",
       "if (outputEl) {{\n",
       "    x.observe(outputEl, {childList: true});\n",
       "}}\n",
       "\n",
       "                        })\n",
       "                };\n",
       "                });\n",
       "            </script>\n",
       "        </div>"
      ]
     },
     "metadata": {},
     "output_type": "display_data"
    }
   ],
   "source": [
    "import plotly.express as px\n",
    "import plotly.io as pio\n",
    "from sklearn.decomposition import PCA\n",
    "\n",
    "\n",
    "pca = PCA(n_components=2)\n",
    "components = pca.fit_transform(X_train+X_test)\n",
    "\n",
    "fig = px.scatter(components, x=0, y=1, color=y_train+y_test)\n",
    "fig.update_layout(\n",
    "    title=\"\",\n",
    "    xaxis_title=\"First Component\",\n",
    "    yaxis_title=\"Second Component\",\n",
    "    font=dict(\n",
    "        family=\"Courier New, monospace\",\n",
    "        size=18,\n",
    "        color=\"#7f7f7f\"\n",
    "    ),\n",
    "    legend=dict(\n",
    "    yanchor=\"top\",\n",
    "    y=0.99,\n",
    "    xanchor=\"left\",\n",
    "    x=0.00\n",
    ")\n",
    ")\n",
    "fig.show()\n",
    "#pio.write_image(fig, 'soloAll.png')\n",
    "#fig.write_image(\"soloAll.eps\")"
   ]
  },
  {
   "cell_type": "code",
   "execution_count": null,
   "metadata": {},
   "outputs": [],
   "source": []
  }
 ],
 "metadata": {
  "kernelspec": {
   "display_name": "Python 3",
   "language": "python",
   "name": "python3"
  },
  "language_info": {
   "codemirror_mode": {
    "name": "ipython",
    "version": 3
   },
   "file_extension": ".py",
   "mimetype": "text/x-python",
   "name": "python",
   "nbconvert_exporter": "python",
   "pygments_lexer": "ipython3",
   "version": "3.6.9"
  }
 },
 "nbformat": 4,
 "nbformat_minor": 2
}
