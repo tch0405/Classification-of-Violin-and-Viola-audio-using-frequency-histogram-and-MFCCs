{
 "cells": [
  {
   "cell_type": "code",
   "execution_count": 1,
   "metadata": {},
   "outputs": [
    {
     "name": "stderr",
     "output_type": "stream",
     "text": [
      "/home/student/.local/lib/python3.6/site-packages/numba/core/errors.py:154: UserWarning: Insufficiently recent colorama version found. Numba requires colorama >= 0.3.9\n",
      "  warnings.warn(msg)\n"
     ]
    },
    {
     "name": "stdout",
     "output_type": "stream",
     "text": [
      "Divertimento for viola and piano II Minuet_PROCESSED.wav\n"
     ]
    },
    {
     "name": "stderr",
     "output_type": "stream",
     "text": [
      "/home/student/.local/lib/python3.6/site-packages/librosa/core/spectrum.py:1642: UserWarning: amplitude_to_db was called on complex input so phase information will be discarded. To suppress this warning, call amplitude_to_db(np.abs(S)) instead.\n",
      "  \"amplitude_to_db was called on complex input so phase \"\n"
     ]
    },
    {
     "name": "stdout",
     "output_type": "stream",
     "text": [
      "Notturno for Viola op 42 IV Adagio - Scherzo Allegro molto - Adagio_PROCESSED.wav\n",
      "Bach_Viola_Concerto_PROCESSED.wav\n",
      "Divertimento for viola and piano I Adagio_PROCESSED.wav\n",
      "Viola Concerto in G Major-1st Mov_PROCESSED.wav\n",
      "MÃ¤rchenbilder, Op_113 Nicht schnellPROCESSED.wav\n",
      "[Iris Hur] Handel-Casadesus Viola Concerto 1st Movement_PROCESSED.wav\n",
      "[Yoonah Park] Bach Viola Concerto in C minor 3rd movement_PROCESSED.wav\n",
      "Sonata No. 3 in F Major I Adagio _processed.wav\n",
      "[Yoonah Park] Bach Viola Concerto in C Minor 1st Movement_PROCESSED.wav\n",
      "Notturno for Viola, op 42 II Adagio_PROCESSED.wav\n",
      "Divertimento for viola and piano III Allegro di molto_PROCESSED.wav\n",
      "FantasiestÃ¼cke Op 73 I Zart und mit Ausdruck_PROCESSED.wav\n",
      "Viola Da Gamba_PROCESSED_PROCESSED.wav\n",
      "Notturno for Viola, op 42 III Menuetto_PROCESSED.wav\n",
      "Notturno for Viola op 42 III Menuetto Allegretto_PROCESSED.wav\n",
      "Viola Sonata Op 105 a-moll I Mit leidenschaftlichem Ausdruck_PROCESSED.wav\n",
      "Minuet No 3_PROCESSED.wav\n",
      "Notturno for Viola op 42 I Marcia Allegro_PROCESSED.wav\n",
      "Notturno for Viola op 42 II Adagio_PROCESSED.wav\n",
      "viola sonata op 120 no 1 in F minor Andante Con Poco Adagio_PROCESSED.wav\n",
      "Notturno for Viola, op 42 VII Marcia Allegro_PROCESSED.wav\n",
      "Minuet No 1_PROCESSED.wav\n",
      "FantasiestÃ¼cke, Op 73 II Lebhaft leicht_PROCESSED.wav\n",
      "FantasiestÃ¼cke, Op_73 III Rasch und mit FeuerPROCESSED.wav\n",
      "Viola Concerto in G Major-4th Mov_PROCESSED.wav\n",
      "Sonata No. 3 in F MajorÂ III LargoPROCESSED.wav\n",
      "Viola Concerto in G Major-2nd Mov_PROCESSED.wav\n",
      "MÃ¤rchenbilder, Op 113 IV Langsam_PROCESSED.wav\n",
      "Notturno for Viola, op 42 V Andante_PROCESSED.wav\n",
      "Vivaldi - Sonata for Viola and Piano in B flat_PROCESSED.wav\n",
      "Notturno for Viola op 42 VI Andante quasi Allegretto Allegro_PROCESSED.wav\n",
      "Notturno for Viola, op 42 VI Andante_PROCESSED.wav\n",
      "viola sonata op 120 no 1 in F minor Allegretto Grazioso_PROCESSED.wav\n",
      "Vivaldi sonata in a minor (viola arr_PROCESSED.wav\n",
      "Viola Sonata Op 105 a-moll III Lebhaft_PROCESSED.wav\n",
      "Notturno for Viola, op 42 IV Adagio_PROCESSED.wav\n",
      "viola sonata op 120 no 1 in F minor Vivace_PROCESSED.wav\n",
      "MÃ¤rchenbilder, Op 113 II Lebhaft_PROCESSED.wav\n",
      "MÃ¤rchenbilder, Op 113 III Rasch_PROCESSED.wav\n",
      "viola sonata op 120 no 1 in F minor Allegro_PROCESSED.wav\n",
      "Viola Sonata Op 105 a-moll II Allegretto_PROCESSED.wav\n",
      "Violin Sonata No 1 in A minor Op 105  II Allegrato_PROCESSED.wav\n",
      "Sonata in B minor, BWV 1014 II - Allegro_PROCESSED.wav\n",
      "Vivaldi Violin Concerto in E_PROCESSED.wav\n",
      "Violin Sonata, L 140 II Intermede_PROCESSED.wav\n",
      "Violin Sonata No 1 in D Op 12 No 1 III Rondo Allegro_PROCESSED.wav\n",
      "Violin Sonata in G Minor, D 408 I Allegro giusto_PROCESSED.wav\n",
      "Violin Sonata in A Minor, D 385 I Allegro moderato_PROCESSED.wav\n",
      "Violin Sonata No 2 in A Op 12 No 2 II Andante piÃ¹ tosto allegretto_PROCESSED.wav\n",
      "Sonata No 3 in D Minor Op 108 I Allegro_PROCESSED.wav\n",
      "Violin Sonata No 1 in A minor Op 105  III Lebhaft_PROCESSED.wav\n",
      "Violin Sonata No 2 in A Op 12 No 2 III Allegro piacevole_PROCESSED.wav\n",
      "Violin Sonata in D major, D 384 III Allegro vivace_PROCESSED.wav\n",
      "Sonata in B minor, BWV 1014 IV -Allegro_PROCESSED.wav\n",
      "Violin Sonata in D major, D 384 II Andante_PROCESSED.wav\n",
      "Sonata in G BWV 1019I - Allegro_PROCESSED.wav\n",
      "Violin Sonata in A Major, D 574 II Scherzo Presto_PROCESSED.wav\n",
      "Violin Sonata No 1 in D Op 12 No 1 I Allegro con brio_PROCESSED.wav\n",
      "Romance in A Major Op 94 No 2 (Schumann)_PROCESSED.wav\n",
      "Violin Sonata in A Major, D 574 IV Allegro vivace_PROCESSED.wav\n",
      "Violin Sonata No 1 in A minor Op 105  I Mit leidenschaftlichem_PROCESSED.wav\n",
      "Valse scherzo (Tchaikovsky)_PROCESSED.wav\n",
      "Violin Sonata in D major, D 384 I Allegro molto_PROCESSED.wav\n",
      "Sonata in C minor H 514 I -Allegro moderato_PROCESSED.wav\n",
      "Sonata in G BWV 1019 II -Largo_PROCESSED.wav\n",
      "Violin Sonata, L 140 III Finale_PROCESSED.wav\n",
      "Sonata in C minor H 514 II -Adagio ma non troppo_PROCESSED.wav\n",
      "Sonata No 3 in D Minor Op 108 IV Presto_PROCESSED.wav\n",
      "Sonata No 3 in D Minor Op 108 II Adagio_PROCESSED.wav\n",
      "Violin Sonata, L140 I Allegro vivo_PROCESSED.wav\n",
      "Violin Sonata in A Major, D 574 I Allegro moderato_PROCESSED.wav\n",
      "Violin Sonata No 1 in D Op 12 No 1 II Tema con variazioni_PROCESSED.wav\n",
      "Sonata in G  BWV 1019 IV Adagio_PROCESSED.wav\n",
      "Vivaldi_s Winter, Movement 1 (with piano)_PROCESSED.wav\n",
      "Vivaldi Concerto in G Major for Violin and Piano, Mvt 1_PROCESSED.wav\n",
      "viola sonata op 120 no 1 in F minor Allegretto Grazioso_PROCESSED.wav\n",
      "Canon in D (Pachelbel) - Violin _ Piano_PROCESSED.wav\n",
      "Violin Sonata in A Major, D 574 III Andantino_PROCESSED.wav\n",
      "Sonata in A, BWV 1015 IV -Presto_PROCESSED.wav\n",
      "Sonata No 3 in D Minor Op 108 III Un poco_PROCESSED.wav\n",
      "Sonata in B minor, BWV 1014 III -Andante_PROCESSED.wav\n",
      "viola sonata op 120 no 1 in F minor Vivace_PROCESSED.wav\n",
      "Sonata in A, BWV 1015 II - Allegro assai_PROCESSED.wav\n"
     ]
    }
   ],
   "source": [
    "import os\n",
    "import numpy, scipy, matplotlib.pyplot as plt, IPython.display as ipd\n",
    "import librosa, librosa.display\n",
    "import numpy as np\n",
    "import math\n",
    "os.chdir('/home/student/Downloads/new_violin_viola/all/viola/combined_train')\n",
    "x1=[]\n",
    "y_train=[]\n",
    "mfcc_list_mean = []\n",
    "mfcc_list_std = []\n",
    "\n",
    "freqViolin = []\n",
    "freqViola = []\n",
    "for f_name in os.listdir('/home/student/Downloads/new_violin_viola/all/viola/combined_train'):\n",
    "    if f_name.endswith('.mp3') or f_name.endswith('.wav'):\n",
    "        print(f_name)\n",
    "        #temp = x/x.max()  #normalization\n",
    "        #S = librosa.feature.melspectrogram(temp, sr=sr, n_mels=128)  # 128 mel bands\n",
    "        #mfcc = librosa.feature.mfcc(S=librosa.power_to_db(S), n_mfcc=13)\n",
    "        #tempList = list(np.mean(mfcc,1))\n",
    "        #tempList1 = list(np.std(mfcc,1))\n",
    "        x, sr = librosa.load(f_name)\n",
    "        hop_length = 512\n",
    "        X = librosa.stft(x)\n",
    "        S = librosa.amplitude_to_db(X, ref=np.max)\n",
    "        \n",
    "        l1 =[]\n",
    "        #by default, there are 1025 frequency bins in 0 to sr/2 (sr = 22050)\n",
    "        \n",
    "        \n",
    "        hist=[]\n",
    "        hist1=[]\n",
    "        for i in range(len(S)):\n",
    "            for j in range(len(S[0])):\n",
    "        \n",
    "                if S[i][j]>=(-11):\n",
    "                    temp = i *((22050/2)/1025)\n",
    "            \n",
    "                    if temp >0:\n",
    "                        hist.append(math.log2(temp))\n",
    "                        hist1.append(temp)\n",
    "        x1.append(hist)\n",
    "        freqViola.append(hist1)\n",
    "        y_train.append(\"viola\")\n",
    "os.chdir('/home/student/Downloads/new_violin_viola/all/violin/combined_train')  \n",
    "for f_name in os.listdir('/home/student/Downloads/new_violin_viola/all/violin/combined_train'):\n",
    "    if f_name.endswith('.mp3') or f_name.endswith('.wav'):\n",
    "        print(f_name)\n",
    "        \n",
    "        x, sr = librosa.load(f_name)\n",
    "        hop_length = 512\n",
    "        X = librosa.stft(x)\n",
    "        S = librosa.amplitude_to_db(X, ref=np.max)\n",
    "        \n",
    "        l1 =[]\n",
    "        #by default, there are 1025 frequency bins in 0 to sr/2 (sr = 22050)\n",
    "\n",
    "        \n",
    "        hist=[]\n",
    "        hist1=[]\n",
    "        for i in range(len(S)):\n",
    "            for j in range(len(S[0])):\n",
    "        \n",
    "                if S[i][j]>=(-11):\n",
    "                    temp = i *((22050/2)/1025)\n",
    "            \n",
    "                    if temp >0:\n",
    "                        hist.append(math.log2(temp))\n",
    "                        hist1.append(temp)\n",
    "                        \n",
    "        x1.append(hist)\n",
    "        freqViolin.append(hist1)\n",
    "        y_train.append(\"violin\")\n",
    "\n",
    "import pandas as pd\n",
    "import numpy as np\n",
    "import matplotlib.pyplot as plt\n",
    "from sklearn.model_selection import train_test_split\n",
    "import statistics \n",
    "\n",
    "\n",
    "X_train= [[statistics.mean(a), statistics.median(a),  min(a), max(a),np.percentile(np.array(a), 25), np.percentile(np.array(a), 75)] for a in x1]\n",
    "#y=[\"violin\",\"violin\",\"violin\",\"violin\",\"violin\",\"viola\",\"viola\",\"viola\",\"viola\",\"viola\"]\n",
    "    "
   ]
  },
  {
   "cell_type": "code",
   "execution_count": 2,
   "metadata": {},
   "outputs": [
    {
     "name": "stdout",
     "output_type": "stream",
     "text": [
      "Vivaldi Sonata No.5 in E Minor, Allegro, for Viola and Piano_PROCESSED.wav\n"
     ]
    },
    {
     "name": "stderr",
     "output_type": "stream",
     "text": [
      "/home/student/.local/lib/python3.6/site-packages/librosa/core/spectrum.py:1642: UserWarning: amplitude_to_db was called on complex input so phase information will be discarded. To suppress this warning, call amplitude_to_db(np.abs(S)) instead.\n",
      "  \"amplitude_to_db was called on complex input so phase \"\n"
     ]
    },
    {
     "name": "stdout",
     "output_type": "stream",
     "text": [
      "Adagio and Allegro in A-Flat Major Op 70 Langsam mit innigem Ausdruck (Adagio)_PROCESSED.wav\n",
      "Sonata No. 3 in F Major II Allegro_PROCESSED.wav\n",
      "Violin Sonata No 21 in E minor K 304 I Allegro_PROCESSED.wav\n",
      "MÃ¤rchenerzÃ¤hlungen for Clarinet, Viola and Piano, Op_PROCESSED.wav\n",
      "Mikhail Glinka - Viola Sonata in D Minor_PROCESSED.wav\n",
      "Notturno for Viola, op 42 I_PROCESSED.wav\n",
      "Beethoven Sonata for viola and piano in A Major opus 69, 1st movement_PROCESSED.wav\n",
      "Viola Concerto in G Major-3rd Mov_PROCESSED.wav\n",
      "Air Suite, Viola _ Piano_PROCESSED.wav\n",
      "Sonata No. 3 in F Major IV Allegro _PROCESSED.wav\n",
      "Mozart Violin Sonata in E minor K II Tempo_PROCESSED.wav\n",
      "Adagio and Allegro in A-Flat Major, Op 70 Rasch und feurig_PROCESSED.wav\n",
      "Viola Da Gamba_PROCESSED.wav\n",
      "Tchaikovsky, Viola, Passion Confession_PROCESSED.wav\n",
      "Andante _ Allegretto in C major KV 404(Mozart)_PROCESSED.wav\n",
      "Mozart Violin Sonata in E minor K I Allegro_PROCESSED.wav\n",
      "Viola Sonata in C Minor, Movement 1, Adagio - Allegro_ Felix Mendelssohn_PROCESSED.wav\n",
      "Sonata in C minor, H 514 III -Presto_PROCESSED.wav\n",
      "5 Gedichte WWV 91 V TrÃ¤ume (Wagner)_PROCESSED.wav\n",
      "Sonata in G, BWV 1019 V -Allegro_PROCESSED.wav\n",
      "Song Without Words Op 2 No 3 (Tchaikovsky)_PROCESSED.wav\n",
      "Divertimento_K334Menuet_PROCESSED.wav\n",
      "Sonata in A, BWV 1015 III -Andante un poco_PROCESSED.wav\n",
      "Das Lied der Geige Op 2 (Schebek)_PROCESSED.wav\n",
      "Mozart - Sonata for Piano and Violin in G Major, K 301 - I_PROCESSED.wav\n",
      "Brahms - Lullaby for Violin and Piano duet_PROCESSED.wav\n",
      "Beethoven-Sonata for Piano and Violin no 5, Spring Sonata I_PROCESSED.wav\n",
      "Sonata in A, BWV 1015-Dolce_PROCESSED.wav\n",
      "Fantasie in C Major, D_PROCESSED.wav\n",
      "3 Pieces Op 11 Mazurka in F-Sharp Minor (Chopin)_PROCESSED.wav\n",
      "Vivaldi - Violin Concerto in G minor, RV315 Summer , III_PROCESSED.wav\n",
      "Violin Sonata No 2 in A Op 12 No 2 I Allegro vivace_PROCESSED.wav\n",
      "Hungarian Dance No 1 WoO 1_PROCESSED.wav\n",
      "Sonata in B minor, BWV 1014-Adagio_PROCESSED.wav\n",
      "Tchaikovsky, Viola, Passion Confession_PROCESSED.wav\n"
     ]
    }
   ],
   "source": [
    "os.chdir('/home/student/Downloads/new_violin_viola/all/viola/combined_test')\n",
    "x1=[]\n",
    "y_test=[]\n",
    "for f_name in os.listdir('/home/student/Downloads/new_violin_viola/all/viola/combined_test'):\n",
    "    if f_name.endswith('.mp3') or f_name.endswith('.wav'):\n",
    "        print(f_name)\n",
    "        \n",
    "        x, sr = librosa.load(f_name)\n",
    "        hop_length = 512\n",
    "        X = librosa.stft(x)\n",
    "        S = librosa.amplitude_to_db(X, ref=np.max)\n",
    "        \n",
    "        l1 =[]\n",
    "        #by default, there are 1025 frequency bins in 0 to sr/2 (sr = 22050)\n",
    "\n",
    "        \n",
    "        hist=[]\n",
    "        hist1=[]\n",
    "        for i in range(len(S)):\n",
    "            for j in range(len(S[0])):\n",
    "        \n",
    "                if S[i][j]>=(-11):\n",
    "                    temp = i *((22050/2)/1025)\n",
    "            \n",
    "                    if temp >0:\n",
    "                        hist.append(math.log2(temp))\n",
    "                        hist1.append(temp)\n",
    "                        \n",
    "                        \n",
    "        x1.append(hist)\n",
    "        freqViola.append(hist1)\n",
    "        y_test.append(\"viola\")\n",
    "os.chdir('/home/student/Downloads/new_violin_viola/all/violin/combined_test')  \n",
    "for f_name in os.listdir('/home/student/Downloads/new_violin_viola/all/violin/combined_test'):\n",
    "    if f_name.endswith('.mp3') or f_name.endswith('.wav'):\n",
    "        print(f_name)\n",
    "        \n",
    "        x, sr = librosa.load(f_name)\n",
    "        hop_length = 512\n",
    "        X = librosa.stft(x)\n",
    "        S = librosa.amplitude_to_db(X, ref=np.max)\n",
    "        \n",
    "        l1 =[]\n",
    "        #by default, there are 1025 frequency bins in 0 to sr/2 (sr = 22050)\n",
    "\n",
    "        \n",
    "        hist=[]\n",
    "        hist1=[]\n",
    "        for i in range(len(S)):\n",
    "            for j in range(len(S[0])):\n",
    "        \n",
    "                if S[i][j]>=(-11):\n",
    "                    temp = i *((22050/2)/1025)\n",
    "            \n",
    "                    if temp >0:\n",
    "                        hist.append(math.log2(temp))\n",
    "                        hist1.append(temp)\n",
    "                        \n",
    "        x1.append(hist)\n",
    "        freqViolin.append(hist1)\n",
    "        y_test.append(\"violin\")\n",
    "\n",
    "import pandas as pd\n",
    "import numpy as np\n",
    "import matplotlib.pyplot as plt\n",
    "from sklearn.model_selection import train_test_split\n",
    "import statistics \n",
    "\n",
    "X_test= [[statistics.mean(a), statistics.median(a),  min(a), max(a),np.percentile(np.array(a), 25), np.percentile(np.array(a), 75)] for a in x1]\n",
    "\n",
    " "
   ]
  },
  {
   "cell_type": "code",
   "execution_count": 3,
   "metadata": {},
   "outputs": [
    {
     "name": "stdout",
     "output_type": "stream",
     "text": [
      "[[15  3]\n",
      " [ 7 11]]\n",
      "Accuracy0.7222222222222222\n",
      "              precision    recall  f1-score   support\n",
      "\n",
      "       viola       0.68      0.83      0.75        18\n",
      "      violin       0.79      0.61      0.69        18\n",
      "\n",
      "    accuracy                           0.72        36\n",
      "   macro avg       0.73      0.72      0.72        36\n",
      "weighted avg       0.73      0.72      0.72        36\n",
      "\n",
      "Accuracy: 0.7222222222222222\n"
     ]
    }
   ],
   "source": [
    "from numpy.random import seed\n",
    "seed(14) \n",
    "from sklearn import metrics\n",
    "from sklearn.metrics import classification_report, confusion_matrix\n",
    "from sklearn.ensemble import RandomForestClassifier\n",
    "from sklearn.metrics import accuracy_score\n",
    "classifier = RandomForestClassifier(max_depth=10, random_state=0)\n",
    "\n",
    "classifier.fit(X_train, y_train)\n",
    "y_pred = classifier.predict(X_test)\n",
    "print(confusion_matrix(y_test, y_pred))\n",
    "print('Accuracy' + str(accuracy_score(y_test, y_pred)))\n",
    "print(classification_report(y_test,y_pred))\n",
    "print(\"Accuracy:\",metrics.accuracy_score(y_test, y_pred))"
   ]
  },
  {
   "cell_type": "code",
   "execution_count": 4,
   "metadata": {},
   "outputs": [
    {
     "name": "stdout",
     "output_type": "stream",
     "text": [
      "[[ 9  9]\n",
      " [ 7 11]]\n",
      "Accuracy0.5555555555555556\n",
      "              precision    recall  f1-score   support\n",
      "\n",
      "       viola       0.56      0.50      0.53        18\n",
      "      violin       0.55      0.61      0.58        18\n",
      "\n",
      "    accuracy                           0.56        36\n",
      "   macro avg       0.56      0.56      0.55        36\n",
      "weighted avg       0.56      0.56      0.55        36\n",
      "\n",
      "Accuracy: 0.5555555555555556\n"
     ]
    }
   ],
   "source": [
    "from sklearn.neighbors import KNeighborsClassifier\n",
    "\n",
    "model = KNeighborsClassifier(n_neighbors=3)\n",
    "\n",
    "# Train the model using the training sets\n",
    "model.fit(X_train, y_train)\n",
    "y_pred = model.predict(X_test)\n",
    "print(confusion_matrix(y_test, y_pred))\n",
    "print('Accuracy' + str(accuracy_score(y_test, y_pred)))\n",
    "print(classification_report(y_test,y_pred))\n",
    "print(\"Accuracy:\",metrics.accuracy_score(y_test, y_pred))"
   ]
  },
  {
   "cell_type": "code",
   "execution_count": 5,
   "metadata": {},
   "outputs": [
    {
     "name": "stdout",
     "output_type": "stream",
     "text": [
      "[[10  8]\n",
      " [ 5 13]]\n",
      "Accuracy0.6388888888888888\n",
      "              precision    recall  f1-score   support\n",
      "\n",
      "       viola       0.67      0.56      0.61        18\n",
      "      violin       0.62      0.72      0.67        18\n",
      "\n",
      "    accuracy                           0.64        36\n",
      "   macro avg       0.64      0.64      0.64        36\n",
      "weighted avg       0.64      0.64      0.64        36\n",
      "\n",
      "Accuracy: 0.6388888888888888\n"
     ]
    }
   ],
   "source": [
    "from sklearn import svm\n",
    "\n",
    "#Create a svm Classifier\n",
    "clf = svm.SVC(random_state=42,kernel='linear') # Linear Kernel\n",
    "\n",
    "clf.fit(X_train, y_train)\n",
    "y_pred = clf.predict(X_test)\n",
    "print(confusion_matrix(y_test, y_pred))\n",
    "print('Accuracy' + str(accuracy_score(y_test, y_pred)))\n",
    "print(classification_report(y_test,y_pred))\n",
    "print(\"Accuracy:\",metrics.accuracy_score(y_test, y_pred))"
   ]
  },
  {
   "cell_type": "code",
   "execution_count": 6,
   "metadata": {},
   "outputs": [
    {
     "name": "stdout",
     "output_type": "stream",
     "text": [
      "[[10  8]\n",
      " [ 5 13]]\n",
      "Accuracy0.6388888888888888\n",
      "              precision    recall  f1-score   support\n",
      "\n",
      "       viola       0.67      0.56      0.61        18\n",
      "      violin       0.62      0.72      0.67        18\n",
      "\n",
      "    accuracy                           0.64        36\n",
      "   macro avg       0.64      0.64      0.64        36\n",
      "weighted avg       0.64      0.64      0.64        36\n",
      "\n",
      "Accuracy: 0.6388888888888888\n"
     ]
    }
   ],
   "source": [
    "svm = svm.SVC(random_state=42, kernel='rbf')\n",
    "svm.fit(X_train, y_train)\n",
    "y_pred = svm.predict(X_test)\n",
    "print(confusion_matrix(y_test, y_pred))\n",
    "print('Accuracy' + str(accuracy_score(y_test, y_pred)))\n",
    "print(classification_report(y_test,y_pred))\n",
    "print(\"Accuracy:\",metrics.accuracy_score(y_test, y_pred))"
   ]
  },
  {
   "cell_type": "code",
   "execution_count": 7,
   "metadata": {},
   "outputs": [],
   "source": [
    "#statistics.mean(freqViola), statistics.median(freqViola),  np.percentile(np.array(freqViola), 25), np.percentile(np.array(freqViola), 75)\n",
    "#viola1= [[statistics.mean(freqViola[i])] for i in range(len(freqViola))]"
   ]
  },
  {
   "cell_type": "code",
   "execution_count": 8,
   "metadata": {},
   "outputs": [
    {
     "name": "stdout",
     "output_type": "stream",
     "text": [
      "Standard deviation of mean Viola frequency: 204.3992761419412\n",
      "Standard deviation of mean Violin frequency: 253.6697148839695\n"
     ]
    }
   ],
   "source": [
    "#freqViola\n",
    "#freqViolin\n",
    "#mean, median, mode, 25th, 75th\n",
    "from statistics import stdev \n",
    "viola1= [[statistics.mean(a), statistics.median(a),  np.percentile(np.array(a), 25), np.percentile(np.array(a), 75)] for a in freqViola]\n",
    "violin1= [[statistics.mean(a), statistics.median(a), np.percentile(np.array(a), 25), np.percentile(np.array(a), 75)] for a in freqViolin]\n",
    "meanstdViolaList = []\n",
    "for i in viola1:\n",
    "    meanstdViolaList.append(i[0])\n",
    "meanstdViola = stdev(meanstdViolaList)\n",
    "print(\"Standard deviation of mean Viola frequency: \" + str(meanstdViola))\n",
    "\n",
    "meanstdViolinList = []\n",
    "for i in violin1:\n",
    "    meanstdViolinList.append(i[0])\n",
    "meanstdViolin = stdev(meanstdViolinList)\n",
    "print(\"Standard deviation of mean Violin frequency: \" + str(meanstdViolin))"
   ]
  },
  {
   "cell_type": "code",
   "execution_count": 9,
   "metadata": {},
   "outputs": [
    {
     "name": "stdout",
     "output_type": "stream",
     "text": [
      "Standard deviation of median Viola frequency: 192.43504034719254\n",
      "Standard deviation of median Violin frequency: 260.46012982889005\n"
     ]
    }
   ],
   "source": [
    "medianstdViolaList = []\n",
    "for i in viola1:\n",
    "    medianstdViolaList.append(i[1])\n",
    "medianstdViola = stdev(medianstdViolaList)\n",
    "print(\"Standard deviation of median Viola frequency: \" + str(medianstdViola))\n",
    "\n",
    "medianstdViolinList = []\n",
    "for i in violin1:\n",
    "    medianstdViolinList.append(i[1])\n",
    "medianstdViolin = stdev(medianstdViolinList)\n",
    "print(\"Standard deviation of median Violin frequency: \" + str(medianstdViolin))"
   ]
  },
  {
   "cell_type": "code",
   "execution_count": 10,
   "metadata": {},
   "outputs": [],
   "source": [
    "#modestdViolaList = []\n",
    "#for i in viola1:\n",
    "#    modestdViolaList.append(i[2])\n",
    "#modestdViola = stdev(modestdViolaList)\n",
    "#print(\"Standard deviation of mode Viola frequency: \" + str(modestdViola))\n",
    "\n",
    "#modestdViolinList = []\n",
    "#for i in violin1:\n",
    "#    modestdViolinList.append(i[2])\n",
    "#modestdViolin = stdev(modestdViolinList)\n",
    "#print(\"Standard deviation of mode Violin frequency: \" + str(modestdViolin))"
   ]
  },
  {
   "cell_type": "code",
   "execution_count": 11,
   "metadata": {},
   "outputs": [
    {
     "name": "stdout",
     "output_type": "stream",
     "text": [
      "Standard deviation of 25th percentile Viola frequency: 162.209239295542\n",
      "Standard deviation of 25th percentile Violin frequency: 138.42367134314645\n",
      "Standard deviation of 75th percentile Viola frequency: 255.589359382129\n",
      "Standard deviation of 75th percentile Violin frequency: 439.80462974729056\n",
      "Standard deviation of mean frequency: 231.23850031148424\n",
      "Standard deviation of median frequency: 228.65055990677914\n",
      "Standard deviation of 25th percentile frequency: 150.3392828776328\n",
      "Standard deviation of 75th percentile frequency: 361.9311452299574\n"
     ]
    }
   ],
   "source": [
    "temp = []\n",
    "\n",
    "for i in viola1:\n",
    "    temp.append(i[2])\n",
    "firstQ1 = stdev(temp)\n",
    "print(\"Standard deviation of 25th percentile Viola frequency: \" + str(firstQ1))\n",
    "\n",
    "temp1 = []\n",
    "for i in violin1:\n",
    "    temp1.append(i[2])\n",
    "firstQ2 = stdev(temp1)\n",
    "print(\"Standard deviation of 25th percentile Violin frequency: \" + str(firstQ2))\n",
    "\n",
    "temp3 = []\n",
    "for i in viola1:\n",
    "    temp3.append(i[3])\n",
    "thirdQ1 = stdev(temp3)\n",
    "print(\"Standard deviation of 75th percentile Viola frequency: \" + str(thirdQ1))\n",
    "\n",
    "temp4 = []\n",
    "for i in violin1:\n",
    "    temp4.append(i[3])\n",
    "thirdQ2 = stdev(temp4)\n",
    "print(\"Standard deviation of 75th percentile Violin frequency: \" + str(thirdQ2))\n",
    "\n",
    "meanstdList= meanstdViolaList+meanstdViolinList\n",
    "meanstd = stdev(meanstdList)\n",
    "print(\"Standard deviation of mean frequency: \" + str(meanstd))\n",
    "\n",
    "medianstdList= medianstdViolaList+medianstdViolinList\n",
    "medianstd = stdev(medianstdList)\n",
    "print(\"Standard deviation of median frequency: \" + str(medianstd))\n",
    "\n",
    "\n",
    "temp0 = temp + temp1\n",
    "firstQ = stdev(temp0)\n",
    "print(\"Standard deviation of 25th percentile frequency: \" + str(firstQ))\n",
    "\n",
    "temp00 = temp3 + temp4\n",
    "thirdQ = stdev(temp00)\n",
    "print(\"Standard deviation of 75th percentile frequency: \" + str(thirdQ))\n",
    "\n"
   ]
  },
  {
   "cell_type": "code",
   "execution_count": null,
   "metadata": {},
   "outputs": [],
   "source": []
  },
  {
   "cell_type": "code",
   "execution_count": 15,
   "metadata": {},
   "outputs": [
    {
     "data": {
      "application/vnd.plotly.v1+json": {
       "config": {
        "plotlyServerURL": "https://plot.ly"
       },
       "data": [
        {
         "hovertemplate": "color=viola<br>0=%{x}<br>1=%{y}<extra></extra>",
         "legendgroup": "viola",
         "marker": {
          "color": "#636efa",
          "symbol": "circle"
         },
         "mode": "markers",
         "name": "viola",
         "showlegend": true,
         "type": "scatter",
         "x": [
          -0.8935829480003268,
          0.8986851239710505,
          -0.22795107482654875,
          -1.235962664347331,
          0.7858089522361262,
          -0.4226802486131831,
          -0.6659474624643524,
          -0.005522777907088469,
          1.9513137329135544,
          -0.6493524387109316,
          1.0187837786818175,
          0.2396013924033996,
          -0.41549018064164883,
          0.5654527556530016,
          0.45288112450852747,
          -0.2509847662108514,
          -0.9348645943250197,
          3.1408706391615175,
          -0.2340239637925187,
          -0.5399432907022039,
          -1.2050869398605517,
          -1.2397918060484694,
          1.0180826605254898,
          0.06764212174595827,
          0.5177528793990261,
          0.8342757493898242,
          0.8620050293900673,
          0.28308966919708184,
          -0.9987440926259012,
          0.1986548685408399,
          -1.7753522887360318,
          -1.078623410057319,
          -0.1337512974625892,
          -0.6397278280337441,
          -0.20356222872846744,
          0.3270855186336523,
          -0.027717341484996712,
          -0.47363056434022316,
          -0.5905164796525698,
          -0.1337195204821788,
          -0.5893097884765137,
          -1.7625696699645803,
          -1.3871554262065942,
          -0.5705403929794992,
          1.2429126024507584,
          -0.18696002038478463,
          -0.27021074931442873,
          -0.17072029287938964,
          -1.042791225362552,
          -0.19394644141887066,
          0.45891885421041273,
          0.48247211267675255,
          1.0665185112077806,
          0.38593962298778023,
          0.019249636450265648,
          -0.5601480312581674,
          -1.397677157716268,
          0.9342459027022313,
          -0.9216562972157888,
          -0.645617338581933
         ],
         "xaxis": "x",
         "y": [
          -0.09500258856163857,
          0.15736141815853014,
          -0.2755086929068421,
          0.18460285130102425,
          -0.27917029761543777,
          0.4736685784553685,
          -0.6305830736731093,
          -0.05707981683578734,
          0.24633173355359253,
          -0.6356702940269816,
          -0.48685039205410297,
          -1.1098057203271738,
          0.3747933390618078,
          -1.6953556361033215,
          -0.8939373912395804,
          -0.23142425764791646,
          -0.3989390221582297,
          -0.9425854585088326,
          0.47614410678294816,
          0.4993030740948602,
          -0.8774945484123017,
          -0.6093946386069983,
          -0.4334858694534167,
          -0.030695187136280968,
          -0.09473496612888034,
          -0.25049340708142886,
          0.9129388836218048,
          -0.8703378173345758,
          -0.8925111551560686,
          -1.0207912196569033,
          -0.678378119665688,
          0.01356134022898761,
          -1.2160025946401523,
          0.20697382187985114,
          1.095366411328883,
          -0.42376864297648376,
          -0.666789726332116,
          0.19922448578345872,
          0.44370312454889826,
          0.78849922307813,
          0.2429502825026412,
          0.42030194409726035,
          -0.9180747077859716,
          -0.10634264923379266,
          0.7847708649196473,
          -0.647919532455738,
          -0.2695184039834006,
          0.3930406938885492,
          -0.10492337075327035,
          -0.6357909104498509,
          -0.3699026946278668,
          0.24003840404844035,
          0.7736785073525984,
          0.13648271440289508,
          0.12429459657406128,
          -1.1360949963703764,
          -0.859461742934295,
          -0.9492599040340158,
          1.2746862595726052,
          0.658341761009299
         ],
         "yaxis": "y"
        },
        {
         "hovertemplate": "color=violin<br>0=%{x}<br>1=%{y}<extra></extra>",
         "legendgroup": "violin",
         "marker": {
          "color": "#EF553B",
          "symbol": "circle"
         },
         "mode": "markers",
         "name": "violin",
         "showlegend": true,
         "type": "scatter",
         "x": [
          -0.5019430925335261,
          -0.5472337885079639,
          3.0649994621525867,
          0.49938837841847816,
          0.5137207608226221,
          0.21443832599306362,
          -0.1272582829251943,
          -0.5436211318007087,
          -0.7266809438040118,
          -0.36260754141691676,
          -0.2239430148039288,
          1.771686524184498,
          1.9326691353556733,
          -1.0580842526480372,
          0.44101664092634624,
          2.0949732848989875,
          0.5441624379480556,
          0.06336424539940018,
          0.2430133532735856,
          -0.6129358107277888,
          -0.3518321349140582,
          -1.7185942979239823,
          0.35120006287602007,
          -0.6726813389330419,
          0.843992393217586,
          -1.1267736673215223,
          0.44328066556322626,
          -1.3411631027019175,
          0.18248691361922745,
          0.455275483930324,
          0.4474693213561201,
          -0.11587987645166045,
          1.001809873917488,
          1.071665169305353,
          -0.6397278280337441,
          -1.324973862530907,
          0.49403756756840045,
          -0.2904793874019395,
          -0.8981435079475489,
          0.22944131032950793,
          -0.47363056434022316,
          1.143096042710315,
          0.41629764689237203,
          0.2761129727467751,
          0.12051121843827957,
          0.7465446417878646,
          0.40755135000903964,
          -0.515570877051547,
          -0.3919164711087469,
          0.20546545503469646,
          1.4173458947815152,
          1.4494183648571481,
          -0.14856996772027664,
          1.7916976543252774,
          0.17175184532471172,
          -1.0767422391124886,
          -0.9181920418547355,
          0.736867040438152,
          -0.7563054553926656,
          -1.3976771577162679
         ],
         "xaxis": "x",
         "y": [
          0.2561200601678399,
          0.6554854729204879,
          -0.4012861800189023,
          0.287993874103845,
          0.09432803438711958,
          -0.21059098202871449,
          0.024338716299042024,
          -0.6777189037579142,
          0.5883817709153589,
          -0.09386935049987394,
          -0.0988792784173508,
          0.3126000502232077,
          -1.0162264852692577,
          0.9601780704066684,
          0.486144345058934,
          -0.04674875123468431,
          0.12898422287777508,
          0.41784237100283267,
          0.9383854768861097,
          -0.021597999882324533,
          0.6773884314387979,
          0.48660168718146435,
          0.4627893619232632,
          0.4335861169443369,
          0.3984034804702167,
          -0.609074762271643,
          0.4404539021041681,
          0.7043595087993187,
          0.7502362272024001,
          0.8437078852529348,
          0.2246141416058283,
          -0.2707484118940096,
          0.17154988416546052,
          0.1276949227507565,
          0.20697382187985114,
          -0.6403461125020289,
          0.48433239777642345,
          -0.8317786323735898,
          0.3066726050110952,
          0.249095563944433,
          0.19922448578345872,
          -0.2678437814087434,
          0.09165789159380824,
          0.14260516644243765,
          0.018664406586224733,
          0.5775433830548036,
          0.7640135966510233,
          -0.8191791025424746,
          1.0378663154657946,
          0.4992164697937637,
          0.5400182445806567,
          0.30869955090593965,
          0.30104351700245835,
          0.13969980764231404,
          0.6138365438063689,
          1.7479845944020782,
          -1.1168734947706669,
          -0.461509208243927,
          0.015437829262168402,
          -0.859461742934295
         ],
         "yaxis": "y"
        }
       ],
       "layout": {
        "font": {
         "color": "#7f7f7f",
         "family": "Courier New, monospace",
         "size": 18
        },
        "legend": {
         "title": {
          "text": "color"
         },
         "tracegroupgap": 0,
         "x": 0,
         "xanchor": "left",
         "y": 0.99,
         "yanchor": "top"
        },
        "margin": {
         "t": 60
        },
        "template": {
         "data": {
          "bar": [
           {
            "error_x": {
             "color": "#2a3f5f"
            },
            "error_y": {
             "color": "#2a3f5f"
            },
            "marker": {
             "line": {
              "color": "#E5ECF6",
              "width": 0.5
             }
            },
            "type": "bar"
           }
          ],
          "barpolar": [
           {
            "marker": {
             "line": {
              "color": "#E5ECF6",
              "width": 0.5
             }
            },
            "type": "barpolar"
           }
          ],
          "carpet": [
           {
            "aaxis": {
             "endlinecolor": "#2a3f5f",
             "gridcolor": "white",
             "linecolor": "white",
             "minorgridcolor": "white",
             "startlinecolor": "#2a3f5f"
            },
            "baxis": {
             "endlinecolor": "#2a3f5f",
             "gridcolor": "white",
             "linecolor": "white",
             "minorgridcolor": "white",
             "startlinecolor": "#2a3f5f"
            },
            "type": "carpet"
           }
          ],
          "choropleth": [
           {
            "colorbar": {
             "outlinewidth": 0,
             "ticks": ""
            },
            "type": "choropleth"
           }
          ],
          "contour": [
           {
            "colorbar": {
             "outlinewidth": 0,
             "ticks": ""
            },
            "colorscale": [
             [
              0,
              "#0d0887"
             ],
             [
              0.1111111111111111,
              "#46039f"
             ],
             [
              0.2222222222222222,
              "#7201a8"
             ],
             [
              0.3333333333333333,
              "#9c179e"
             ],
             [
              0.4444444444444444,
              "#bd3786"
             ],
             [
              0.5555555555555556,
              "#d8576b"
             ],
             [
              0.6666666666666666,
              "#ed7953"
             ],
             [
              0.7777777777777778,
              "#fb9f3a"
             ],
             [
              0.8888888888888888,
              "#fdca26"
             ],
             [
              1,
              "#f0f921"
             ]
            ],
            "type": "contour"
           }
          ],
          "contourcarpet": [
           {
            "colorbar": {
             "outlinewidth": 0,
             "ticks": ""
            },
            "type": "contourcarpet"
           }
          ],
          "heatmap": [
           {
            "colorbar": {
             "outlinewidth": 0,
             "ticks": ""
            },
            "colorscale": [
             [
              0,
              "#0d0887"
             ],
             [
              0.1111111111111111,
              "#46039f"
             ],
             [
              0.2222222222222222,
              "#7201a8"
             ],
             [
              0.3333333333333333,
              "#9c179e"
             ],
             [
              0.4444444444444444,
              "#bd3786"
             ],
             [
              0.5555555555555556,
              "#d8576b"
             ],
             [
              0.6666666666666666,
              "#ed7953"
             ],
             [
              0.7777777777777778,
              "#fb9f3a"
             ],
             [
              0.8888888888888888,
              "#fdca26"
             ],
             [
              1,
              "#f0f921"
             ]
            ],
            "type": "heatmap"
           }
          ],
          "heatmapgl": [
           {
            "colorbar": {
             "outlinewidth": 0,
             "ticks": ""
            },
            "colorscale": [
             [
              0,
              "#0d0887"
             ],
             [
              0.1111111111111111,
              "#46039f"
             ],
             [
              0.2222222222222222,
              "#7201a8"
             ],
             [
              0.3333333333333333,
              "#9c179e"
             ],
             [
              0.4444444444444444,
              "#bd3786"
             ],
             [
              0.5555555555555556,
              "#d8576b"
             ],
             [
              0.6666666666666666,
              "#ed7953"
             ],
             [
              0.7777777777777778,
              "#fb9f3a"
             ],
             [
              0.8888888888888888,
              "#fdca26"
             ],
             [
              1,
              "#f0f921"
             ]
            ],
            "type": "heatmapgl"
           }
          ],
          "histogram": [
           {
            "marker": {
             "colorbar": {
              "outlinewidth": 0,
              "ticks": ""
             }
            },
            "type": "histogram"
           }
          ],
          "histogram2d": [
           {
            "colorbar": {
             "outlinewidth": 0,
             "ticks": ""
            },
            "colorscale": [
             [
              0,
              "#0d0887"
             ],
             [
              0.1111111111111111,
              "#46039f"
             ],
             [
              0.2222222222222222,
              "#7201a8"
             ],
             [
              0.3333333333333333,
              "#9c179e"
             ],
             [
              0.4444444444444444,
              "#bd3786"
             ],
             [
              0.5555555555555556,
              "#d8576b"
             ],
             [
              0.6666666666666666,
              "#ed7953"
             ],
             [
              0.7777777777777778,
              "#fb9f3a"
             ],
             [
              0.8888888888888888,
              "#fdca26"
             ],
             [
              1,
              "#f0f921"
             ]
            ],
            "type": "histogram2d"
           }
          ],
          "histogram2dcontour": [
           {
            "colorbar": {
             "outlinewidth": 0,
             "ticks": ""
            },
            "colorscale": [
             [
              0,
              "#0d0887"
             ],
             [
              0.1111111111111111,
              "#46039f"
             ],
             [
              0.2222222222222222,
              "#7201a8"
             ],
             [
              0.3333333333333333,
              "#9c179e"
             ],
             [
              0.4444444444444444,
              "#bd3786"
             ],
             [
              0.5555555555555556,
              "#d8576b"
             ],
             [
              0.6666666666666666,
              "#ed7953"
             ],
             [
              0.7777777777777778,
              "#fb9f3a"
             ],
             [
              0.8888888888888888,
              "#fdca26"
             ],
             [
              1,
              "#f0f921"
             ]
            ],
            "type": "histogram2dcontour"
           }
          ],
          "mesh3d": [
           {
            "colorbar": {
             "outlinewidth": 0,
             "ticks": ""
            },
            "type": "mesh3d"
           }
          ],
          "parcoords": [
           {
            "line": {
             "colorbar": {
              "outlinewidth": 0,
              "ticks": ""
             }
            },
            "type": "parcoords"
           }
          ],
          "pie": [
           {
            "automargin": true,
            "type": "pie"
           }
          ],
          "scatter": [
           {
            "marker": {
             "colorbar": {
              "outlinewidth": 0,
              "ticks": ""
             }
            },
            "type": "scatter"
           }
          ],
          "scatter3d": [
           {
            "line": {
             "colorbar": {
              "outlinewidth": 0,
              "ticks": ""
             }
            },
            "marker": {
             "colorbar": {
              "outlinewidth": 0,
              "ticks": ""
             }
            },
            "type": "scatter3d"
           }
          ],
          "scattercarpet": [
           {
            "marker": {
             "colorbar": {
              "outlinewidth": 0,
              "ticks": ""
             }
            },
            "type": "scattercarpet"
           }
          ],
          "scattergeo": [
           {
            "marker": {
             "colorbar": {
              "outlinewidth": 0,
              "ticks": ""
             }
            },
            "type": "scattergeo"
           }
          ],
          "scattergl": [
           {
            "marker": {
             "colorbar": {
              "outlinewidth": 0,
              "ticks": ""
             }
            },
            "type": "scattergl"
           }
          ],
          "scattermapbox": [
           {
            "marker": {
             "colorbar": {
              "outlinewidth": 0,
              "ticks": ""
             }
            },
            "type": "scattermapbox"
           }
          ],
          "scatterpolar": [
           {
            "marker": {
             "colorbar": {
              "outlinewidth": 0,
              "ticks": ""
             }
            },
            "type": "scatterpolar"
           }
          ],
          "scatterpolargl": [
           {
            "marker": {
             "colorbar": {
              "outlinewidth": 0,
              "ticks": ""
             }
            },
            "type": "scatterpolargl"
           }
          ],
          "scatterternary": [
           {
            "marker": {
             "colorbar": {
              "outlinewidth": 0,
              "ticks": ""
             }
            },
            "type": "scatterternary"
           }
          ],
          "surface": [
           {
            "colorbar": {
             "outlinewidth": 0,
             "ticks": ""
            },
            "colorscale": [
             [
              0,
              "#0d0887"
             ],
             [
              0.1111111111111111,
              "#46039f"
             ],
             [
              0.2222222222222222,
              "#7201a8"
             ],
             [
              0.3333333333333333,
              "#9c179e"
             ],
             [
              0.4444444444444444,
              "#bd3786"
             ],
             [
              0.5555555555555556,
              "#d8576b"
             ],
             [
              0.6666666666666666,
              "#ed7953"
             ],
             [
              0.7777777777777778,
              "#fb9f3a"
             ],
             [
              0.8888888888888888,
              "#fdca26"
             ],
             [
              1,
              "#f0f921"
             ]
            ],
            "type": "surface"
           }
          ],
          "table": [
           {
            "cells": {
             "fill": {
              "color": "#EBF0F8"
             },
             "line": {
              "color": "white"
             }
            },
            "header": {
             "fill": {
              "color": "#C8D4E3"
             },
             "line": {
              "color": "white"
             }
            },
            "type": "table"
           }
          ]
         },
         "layout": {
          "annotationdefaults": {
           "arrowcolor": "#2a3f5f",
           "arrowhead": 0,
           "arrowwidth": 1
          },
          "coloraxis": {
           "colorbar": {
            "outlinewidth": 0,
            "ticks": ""
           }
          },
          "colorscale": {
           "diverging": [
            [
             0,
             "#8e0152"
            ],
            [
             0.1,
             "#c51b7d"
            ],
            [
             0.2,
             "#de77ae"
            ],
            [
             0.3,
             "#f1b6da"
            ],
            [
             0.4,
             "#fde0ef"
            ],
            [
             0.5,
             "#f7f7f7"
            ],
            [
             0.6,
             "#e6f5d0"
            ],
            [
             0.7,
             "#b8e186"
            ],
            [
             0.8,
             "#7fbc41"
            ],
            [
             0.9,
             "#4d9221"
            ],
            [
             1,
             "#276419"
            ]
           ],
           "sequential": [
            [
             0,
             "#0d0887"
            ],
            [
             0.1111111111111111,
             "#46039f"
            ],
            [
             0.2222222222222222,
             "#7201a8"
            ],
            [
             0.3333333333333333,
             "#9c179e"
            ],
            [
             0.4444444444444444,
             "#bd3786"
            ],
            [
             0.5555555555555556,
             "#d8576b"
            ],
            [
             0.6666666666666666,
             "#ed7953"
            ],
            [
             0.7777777777777778,
             "#fb9f3a"
            ],
            [
             0.8888888888888888,
             "#fdca26"
            ],
            [
             1,
             "#f0f921"
            ]
           ],
           "sequentialminus": [
            [
             0,
             "#0d0887"
            ],
            [
             0.1111111111111111,
             "#46039f"
            ],
            [
             0.2222222222222222,
             "#7201a8"
            ],
            [
             0.3333333333333333,
             "#9c179e"
            ],
            [
             0.4444444444444444,
             "#bd3786"
            ],
            [
             0.5555555555555556,
             "#d8576b"
            ],
            [
             0.6666666666666666,
             "#ed7953"
            ],
            [
             0.7777777777777778,
             "#fb9f3a"
            ],
            [
             0.8888888888888888,
             "#fdca26"
            ],
            [
             1,
             "#f0f921"
            ]
           ]
          },
          "colorway": [
           "#636efa",
           "#EF553B",
           "#00cc96",
           "#ab63fa",
           "#FFA15A",
           "#19d3f3",
           "#FF6692",
           "#B6E880",
           "#FF97FF",
           "#FECB52"
          ],
          "font": {
           "color": "#2a3f5f"
          },
          "geo": {
           "bgcolor": "white",
           "lakecolor": "white",
           "landcolor": "#E5ECF6",
           "showlakes": true,
           "showland": true,
           "subunitcolor": "white"
          },
          "hoverlabel": {
           "align": "left"
          },
          "hovermode": "closest",
          "mapbox": {
           "style": "light"
          },
          "paper_bgcolor": "white",
          "plot_bgcolor": "#E5ECF6",
          "polar": {
           "angularaxis": {
            "gridcolor": "white",
            "linecolor": "white",
            "ticks": ""
           },
           "bgcolor": "#E5ECF6",
           "radialaxis": {
            "gridcolor": "white",
            "linecolor": "white",
            "ticks": ""
           }
          },
          "scene": {
           "xaxis": {
            "backgroundcolor": "#E5ECF6",
            "gridcolor": "white",
            "gridwidth": 2,
            "linecolor": "white",
            "showbackground": true,
            "ticks": "",
            "zerolinecolor": "white"
           },
           "yaxis": {
            "backgroundcolor": "#E5ECF6",
            "gridcolor": "white",
            "gridwidth": 2,
            "linecolor": "white",
            "showbackground": true,
            "ticks": "",
            "zerolinecolor": "white"
           },
           "zaxis": {
            "backgroundcolor": "#E5ECF6",
            "gridcolor": "white",
            "gridwidth": 2,
            "linecolor": "white",
            "showbackground": true,
            "ticks": "",
            "zerolinecolor": "white"
           }
          },
          "shapedefaults": {
           "line": {
            "color": "#2a3f5f"
           }
          },
          "ternary": {
           "aaxis": {
            "gridcolor": "white",
            "linecolor": "white",
            "ticks": ""
           },
           "baxis": {
            "gridcolor": "white",
            "linecolor": "white",
            "ticks": ""
           },
           "bgcolor": "#E5ECF6",
           "caxis": {
            "gridcolor": "white",
            "linecolor": "white",
            "ticks": ""
           }
          },
          "title": {
           "x": 0.05
          },
          "xaxis": {
           "automargin": true,
           "gridcolor": "white",
           "linecolor": "white",
           "ticks": "",
           "title": {
            "standoff": 15
           },
           "zerolinecolor": "white",
           "zerolinewidth": 2
          },
          "yaxis": {
           "automargin": true,
           "gridcolor": "white",
           "linecolor": "white",
           "ticks": "",
           "title": {
            "standoff": 15
           },
           "zerolinecolor": "white",
           "zerolinewidth": 2
          }
         }
        },
        "title": {
         "text": ""
        },
        "xaxis": {
         "anchor": "y",
         "domain": [
          0,
          1
         ],
         "title": {
          "text": "First Component"
         }
        },
        "yaxis": {
         "anchor": "x",
         "domain": [
          0,
          1
         ],
         "title": {
          "text": "Second Component"
         }
        }
       }
      },
      "text/html": [
       "<div>\n",
       "        \n",
       "        \n",
       "            <div id=\"7bfe51f4-72b7-4f41-93ac-4a4b215faf01\" class=\"plotly-graph-div\" style=\"height:525px; width:100%;\"></div>\n",
       "            <script type=\"text/javascript\">\n",
       "                require([\"plotly\"], function(Plotly) {\n",
       "                    window.PLOTLYENV=window.PLOTLYENV || {};\n",
       "                    \n",
       "                if (document.getElementById(\"7bfe51f4-72b7-4f41-93ac-4a4b215faf01\")) {\n",
       "                    Plotly.newPlot(\n",
       "                        '7bfe51f4-72b7-4f41-93ac-4a4b215faf01',\n",
       "                        [{\"hovertemplate\": \"color=viola<br>0=%{x}<br>1=%{y}<extra></extra>\", \"legendgroup\": \"viola\", \"marker\": {\"color\": \"#636efa\", \"symbol\": \"circle\"}, \"mode\": \"markers\", \"name\": \"viola\", \"showlegend\": true, \"type\": \"scatter\", \"x\": [-0.8935829480003268, 0.8986851239710505, -0.22795107482654875, -1.235962664347331, 0.7858089522361262, -0.4226802486131831, -0.6659474624643524, -0.005522777907088469, 1.9513137329135544, -0.6493524387109316, 1.0187837786818175, 0.2396013924033996, -0.41549018064164883, 0.5654527556530016, 0.45288112450852747, -0.2509847662108514, -0.9348645943250197, 3.1408706391615175, -0.2340239637925187, -0.5399432907022039, -1.2050869398605517, -1.2397918060484694, 1.0180826605254898, 0.06764212174595827, 0.5177528793990261, 0.8342757493898242, 0.8620050293900673, 0.28308966919708184, -0.9987440926259012, 0.1986548685408399, -1.7753522887360318, -1.078623410057319, -0.1337512974625892, -0.6397278280337441, -0.20356222872846744, 0.3270855186336523, -0.027717341484996712, -0.47363056434022316, -0.5905164796525698, -0.1337195204821788, -0.5893097884765137, -1.7625696699645803, -1.3871554262065942, -0.5705403929794992, 1.2429126024507584, -0.18696002038478463, -0.27021074931442873, -0.17072029287938964, -1.042791225362552, -0.19394644141887066, 0.45891885421041273, 0.48247211267675255, 1.0665185112077806, 0.38593962298778023, 0.019249636450265648, -0.5601480312581674, -1.397677157716268, 0.9342459027022313, -0.9216562972157888, -0.645617338581933], \"xaxis\": \"x\", \"y\": [-0.09500258856163857, 0.15736141815853014, -0.2755086929068421, 0.18460285130102425, -0.27917029761543777, 0.4736685784553685, -0.6305830736731093, -0.05707981683578734, 0.24633173355359253, -0.6356702940269816, -0.48685039205410297, -1.1098057203271738, 0.3747933390618078, -1.6953556361033215, -0.8939373912395804, -0.23142425764791646, -0.3989390221582297, -0.9425854585088326, 0.47614410678294816, 0.4993030740948602, -0.8774945484123017, -0.6093946386069983, -0.4334858694534167, -0.030695187136280968, -0.09473496612888034, -0.25049340708142886, 0.9129388836218048, -0.8703378173345758, -0.8925111551560686, -1.0207912196569033, -0.678378119665688, 0.01356134022898761, -1.2160025946401523, 0.20697382187985114, 1.095366411328883, -0.42376864297648376, -0.666789726332116, 0.19922448578345872, 0.44370312454889826, 0.78849922307813, 0.2429502825026412, 0.42030194409726035, -0.9180747077859716, -0.10634264923379266, 0.7847708649196473, -0.647919532455738, -0.2695184039834006, 0.3930406938885492, -0.10492337075327035, -0.6357909104498509, -0.3699026946278668, 0.24003840404844035, 0.7736785073525984, 0.13648271440289508, 0.12429459657406128, -1.1360949963703764, -0.859461742934295, -0.9492599040340158, 1.2746862595726052, 0.658341761009299], \"yaxis\": \"y\"}, {\"hovertemplate\": \"color=violin<br>0=%{x}<br>1=%{y}<extra></extra>\", \"legendgroup\": \"violin\", \"marker\": {\"color\": \"#EF553B\", \"symbol\": \"circle\"}, \"mode\": \"markers\", \"name\": \"violin\", \"showlegend\": true, \"type\": \"scatter\", \"x\": [-0.5019430925335261, -0.5472337885079639, 3.0649994621525867, 0.49938837841847816, 0.5137207608226221, 0.21443832599306362, -0.1272582829251943, -0.5436211318007087, -0.7266809438040118, -0.36260754141691676, -0.2239430148039288, 1.771686524184498, 1.9326691353556733, -1.0580842526480372, 0.44101664092634624, 2.0949732848989875, 0.5441624379480556, 0.06336424539940018, 0.2430133532735856, -0.6129358107277888, -0.3518321349140582, -1.7185942979239823, 0.35120006287602007, -0.6726813389330419, 0.843992393217586, -1.1267736673215223, 0.44328066556322626, -1.3411631027019175, 0.18248691361922745, 0.455275483930324, 0.4474693213561201, -0.11587987645166045, 1.001809873917488, 1.071665169305353, -0.6397278280337441, -1.324973862530907, 0.49403756756840045, -0.2904793874019395, -0.8981435079475489, 0.22944131032950793, -0.47363056434022316, 1.143096042710315, 0.41629764689237203, 0.2761129727467751, 0.12051121843827957, 0.7465446417878646, 0.40755135000903964, -0.515570877051547, -0.3919164711087469, 0.20546545503469646, 1.4173458947815152, 1.4494183648571481, -0.14856996772027664, 1.7916976543252774, 0.17175184532471172, -1.0767422391124886, -0.9181920418547355, 0.736867040438152, -0.7563054553926656, -1.3976771577162679], \"xaxis\": \"x\", \"y\": [0.2561200601678399, 0.6554854729204879, -0.4012861800189023, 0.287993874103845, 0.09432803438711958, -0.21059098202871449, 0.024338716299042024, -0.6777189037579142, 0.5883817709153589, -0.09386935049987394, -0.0988792784173508, 0.3126000502232077, -1.0162264852692577, 0.9601780704066684, 0.486144345058934, -0.04674875123468431, 0.12898422287777508, 0.41784237100283267, 0.9383854768861097, -0.021597999882324533, 0.6773884314387979, 0.48660168718146435, 0.4627893619232632, 0.4335861169443369, 0.3984034804702167, -0.609074762271643, 0.4404539021041681, 0.7043595087993187, 0.7502362272024001, 0.8437078852529348, 0.2246141416058283, -0.2707484118940096, 0.17154988416546052, 0.1276949227507565, 0.20697382187985114, -0.6403461125020289, 0.48433239777642345, -0.8317786323735898, 0.3066726050110952, 0.249095563944433, 0.19922448578345872, -0.2678437814087434, 0.09165789159380824, 0.14260516644243765, 0.018664406586224733, 0.5775433830548036, 0.7640135966510233, -0.8191791025424746, 1.0378663154657946, 0.4992164697937637, 0.5400182445806567, 0.30869955090593965, 0.30104351700245835, 0.13969980764231404, 0.6138365438063689, 1.7479845944020782, -1.1168734947706669, -0.461509208243927, 0.015437829262168402, -0.859461742934295], \"yaxis\": \"y\"}],\n",
       "                        {\"font\": {\"color\": \"#7f7f7f\", \"family\": \"Courier New, monospace\", \"size\": 18}, \"legend\": {\"title\": {\"text\": \"color\"}, \"tracegroupgap\": 0, \"x\": 0.0, \"xanchor\": \"left\", \"y\": 0.99, \"yanchor\": \"top\"}, \"margin\": {\"t\": 60}, \"template\": {\"data\": {\"bar\": [{\"error_x\": {\"color\": \"#2a3f5f\"}, \"error_y\": {\"color\": \"#2a3f5f\"}, \"marker\": {\"line\": {\"color\": \"#E5ECF6\", \"width\": 0.5}}, \"type\": \"bar\"}], \"barpolar\": [{\"marker\": {\"line\": {\"color\": \"#E5ECF6\", \"width\": 0.5}}, \"type\": \"barpolar\"}], \"carpet\": [{\"aaxis\": {\"endlinecolor\": \"#2a3f5f\", \"gridcolor\": \"white\", \"linecolor\": \"white\", \"minorgridcolor\": \"white\", \"startlinecolor\": \"#2a3f5f\"}, \"baxis\": {\"endlinecolor\": \"#2a3f5f\", \"gridcolor\": \"white\", \"linecolor\": \"white\", \"minorgridcolor\": \"white\", \"startlinecolor\": \"#2a3f5f\"}, \"type\": \"carpet\"}], \"choropleth\": [{\"colorbar\": {\"outlinewidth\": 0, \"ticks\": \"\"}, \"type\": \"choropleth\"}], \"contour\": [{\"colorbar\": {\"outlinewidth\": 0, \"ticks\": \"\"}, \"colorscale\": [[0.0, \"#0d0887\"], [0.1111111111111111, \"#46039f\"], [0.2222222222222222, \"#7201a8\"], [0.3333333333333333, \"#9c179e\"], [0.4444444444444444, \"#bd3786\"], [0.5555555555555556, \"#d8576b\"], [0.6666666666666666, \"#ed7953\"], [0.7777777777777778, \"#fb9f3a\"], [0.8888888888888888, \"#fdca26\"], [1.0, \"#f0f921\"]], \"type\": \"contour\"}], \"contourcarpet\": [{\"colorbar\": {\"outlinewidth\": 0, \"ticks\": \"\"}, \"type\": \"contourcarpet\"}], \"heatmap\": [{\"colorbar\": {\"outlinewidth\": 0, \"ticks\": \"\"}, \"colorscale\": [[0.0, \"#0d0887\"], [0.1111111111111111, \"#46039f\"], [0.2222222222222222, \"#7201a8\"], [0.3333333333333333, \"#9c179e\"], [0.4444444444444444, \"#bd3786\"], [0.5555555555555556, \"#d8576b\"], [0.6666666666666666, \"#ed7953\"], [0.7777777777777778, \"#fb9f3a\"], [0.8888888888888888, \"#fdca26\"], [1.0, \"#f0f921\"]], \"type\": \"heatmap\"}], \"heatmapgl\": [{\"colorbar\": {\"outlinewidth\": 0, \"ticks\": \"\"}, \"colorscale\": [[0.0, \"#0d0887\"], [0.1111111111111111, \"#46039f\"], [0.2222222222222222, \"#7201a8\"], [0.3333333333333333, \"#9c179e\"], [0.4444444444444444, \"#bd3786\"], [0.5555555555555556, \"#d8576b\"], [0.6666666666666666, \"#ed7953\"], [0.7777777777777778, \"#fb9f3a\"], [0.8888888888888888, \"#fdca26\"], [1.0, \"#f0f921\"]], \"type\": \"heatmapgl\"}], \"histogram\": [{\"marker\": {\"colorbar\": {\"outlinewidth\": 0, \"ticks\": \"\"}}, \"type\": \"histogram\"}], \"histogram2d\": [{\"colorbar\": {\"outlinewidth\": 0, \"ticks\": \"\"}, \"colorscale\": [[0.0, \"#0d0887\"], [0.1111111111111111, \"#46039f\"], [0.2222222222222222, \"#7201a8\"], [0.3333333333333333, \"#9c179e\"], [0.4444444444444444, \"#bd3786\"], [0.5555555555555556, \"#d8576b\"], [0.6666666666666666, \"#ed7953\"], [0.7777777777777778, \"#fb9f3a\"], [0.8888888888888888, \"#fdca26\"], [1.0, \"#f0f921\"]], \"type\": \"histogram2d\"}], \"histogram2dcontour\": [{\"colorbar\": {\"outlinewidth\": 0, \"ticks\": \"\"}, \"colorscale\": [[0.0, \"#0d0887\"], [0.1111111111111111, \"#46039f\"], [0.2222222222222222, \"#7201a8\"], [0.3333333333333333, \"#9c179e\"], [0.4444444444444444, \"#bd3786\"], [0.5555555555555556, \"#d8576b\"], [0.6666666666666666, \"#ed7953\"], [0.7777777777777778, \"#fb9f3a\"], [0.8888888888888888, \"#fdca26\"], [1.0, \"#f0f921\"]], \"type\": \"histogram2dcontour\"}], \"mesh3d\": [{\"colorbar\": {\"outlinewidth\": 0, \"ticks\": \"\"}, \"type\": \"mesh3d\"}], \"parcoords\": [{\"line\": {\"colorbar\": {\"outlinewidth\": 0, \"ticks\": \"\"}}, \"type\": \"parcoords\"}], \"pie\": [{\"automargin\": true, \"type\": \"pie\"}], \"scatter\": [{\"marker\": {\"colorbar\": {\"outlinewidth\": 0, \"ticks\": \"\"}}, \"type\": \"scatter\"}], \"scatter3d\": [{\"line\": {\"colorbar\": {\"outlinewidth\": 0, \"ticks\": \"\"}}, \"marker\": {\"colorbar\": {\"outlinewidth\": 0, \"ticks\": \"\"}}, \"type\": \"scatter3d\"}], \"scattercarpet\": [{\"marker\": {\"colorbar\": {\"outlinewidth\": 0, \"ticks\": \"\"}}, \"type\": \"scattercarpet\"}], \"scattergeo\": [{\"marker\": {\"colorbar\": {\"outlinewidth\": 0, \"ticks\": \"\"}}, \"type\": \"scattergeo\"}], \"scattergl\": [{\"marker\": {\"colorbar\": {\"outlinewidth\": 0, \"ticks\": \"\"}}, \"type\": \"scattergl\"}], \"scattermapbox\": [{\"marker\": {\"colorbar\": {\"outlinewidth\": 0, \"ticks\": \"\"}}, \"type\": \"scattermapbox\"}], \"scatterpolar\": [{\"marker\": {\"colorbar\": {\"outlinewidth\": 0, \"ticks\": \"\"}}, \"type\": \"scatterpolar\"}], \"scatterpolargl\": [{\"marker\": {\"colorbar\": {\"outlinewidth\": 0, \"ticks\": \"\"}}, \"type\": \"scatterpolargl\"}], \"scatterternary\": [{\"marker\": {\"colorbar\": {\"outlinewidth\": 0, \"ticks\": \"\"}}, \"type\": \"scatterternary\"}], \"surface\": [{\"colorbar\": {\"outlinewidth\": 0, \"ticks\": \"\"}, \"colorscale\": [[0.0, \"#0d0887\"], [0.1111111111111111, \"#46039f\"], [0.2222222222222222, \"#7201a8\"], [0.3333333333333333, \"#9c179e\"], [0.4444444444444444, \"#bd3786\"], [0.5555555555555556, \"#d8576b\"], [0.6666666666666666, \"#ed7953\"], [0.7777777777777778, \"#fb9f3a\"], [0.8888888888888888, \"#fdca26\"], [1.0, \"#f0f921\"]], \"type\": \"surface\"}], \"table\": [{\"cells\": {\"fill\": {\"color\": \"#EBF0F8\"}, \"line\": {\"color\": \"white\"}}, \"header\": {\"fill\": {\"color\": \"#C8D4E3\"}, \"line\": {\"color\": \"white\"}}, \"type\": \"table\"}]}, \"layout\": {\"annotationdefaults\": {\"arrowcolor\": \"#2a3f5f\", \"arrowhead\": 0, \"arrowwidth\": 1}, \"coloraxis\": {\"colorbar\": {\"outlinewidth\": 0, \"ticks\": \"\"}}, \"colorscale\": {\"diverging\": [[0, \"#8e0152\"], [0.1, \"#c51b7d\"], [0.2, \"#de77ae\"], [0.3, \"#f1b6da\"], [0.4, \"#fde0ef\"], [0.5, \"#f7f7f7\"], [0.6, \"#e6f5d0\"], [0.7, \"#b8e186\"], [0.8, \"#7fbc41\"], [0.9, \"#4d9221\"], [1, \"#276419\"]], \"sequential\": [[0.0, \"#0d0887\"], [0.1111111111111111, \"#46039f\"], [0.2222222222222222, \"#7201a8\"], [0.3333333333333333, \"#9c179e\"], [0.4444444444444444, \"#bd3786\"], [0.5555555555555556, \"#d8576b\"], [0.6666666666666666, \"#ed7953\"], [0.7777777777777778, \"#fb9f3a\"], [0.8888888888888888, \"#fdca26\"], [1.0, \"#f0f921\"]], \"sequentialminus\": [[0.0, \"#0d0887\"], [0.1111111111111111, \"#46039f\"], [0.2222222222222222, \"#7201a8\"], [0.3333333333333333, \"#9c179e\"], [0.4444444444444444, \"#bd3786\"], [0.5555555555555556, \"#d8576b\"], [0.6666666666666666, \"#ed7953\"], [0.7777777777777778, \"#fb9f3a\"], [0.8888888888888888, \"#fdca26\"], [1.0, \"#f0f921\"]]}, \"colorway\": [\"#636efa\", \"#EF553B\", \"#00cc96\", \"#ab63fa\", \"#FFA15A\", \"#19d3f3\", \"#FF6692\", \"#B6E880\", \"#FF97FF\", \"#FECB52\"], \"font\": {\"color\": \"#2a3f5f\"}, \"geo\": {\"bgcolor\": \"white\", \"lakecolor\": \"white\", \"landcolor\": \"#E5ECF6\", \"showlakes\": true, \"showland\": true, \"subunitcolor\": \"white\"}, \"hoverlabel\": {\"align\": \"left\"}, \"hovermode\": \"closest\", \"mapbox\": {\"style\": \"light\"}, \"paper_bgcolor\": \"white\", \"plot_bgcolor\": \"#E5ECF6\", \"polar\": {\"angularaxis\": {\"gridcolor\": \"white\", \"linecolor\": \"white\", \"ticks\": \"\"}, \"bgcolor\": \"#E5ECF6\", \"radialaxis\": {\"gridcolor\": \"white\", \"linecolor\": \"white\", \"ticks\": \"\"}}, \"scene\": {\"xaxis\": {\"backgroundcolor\": \"#E5ECF6\", \"gridcolor\": \"white\", \"gridwidth\": 2, \"linecolor\": \"white\", \"showbackground\": true, \"ticks\": \"\", \"zerolinecolor\": \"white\"}, \"yaxis\": {\"backgroundcolor\": \"#E5ECF6\", \"gridcolor\": \"white\", \"gridwidth\": 2, \"linecolor\": \"white\", \"showbackground\": true, \"ticks\": \"\", \"zerolinecolor\": \"white\"}, \"zaxis\": {\"backgroundcolor\": \"#E5ECF6\", \"gridcolor\": \"white\", \"gridwidth\": 2, \"linecolor\": \"white\", \"showbackground\": true, \"ticks\": \"\", \"zerolinecolor\": \"white\"}}, \"shapedefaults\": {\"line\": {\"color\": \"#2a3f5f\"}}, \"ternary\": {\"aaxis\": {\"gridcolor\": \"white\", \"linecolor\": \"white\", \"ticks\": \"\"}, \"baxis\": {\"gridcolor\": \"white\", \"linecolor\": \"white\", \"ticks\": \"\"}, \"bgcolor\": \"#E5ECF6\", \"caxis\": {\"gridcolor\": \"white\", \"linecolor\": \"white\", \"ticks\": \"\"}}, \"title\": {\"x\": 0.05}, \"xaxis\": {\"automargin\": true, \"gridcolor\": \"white\", \"linecolor\": \"white\", \"ticks\": \"\", \"title\": {\"standoff\": 15}, \"zerolinecolor\": \"white\", \"zerolinewidth\": 2}, \"yaxis\": {\"automargin\": true, \"gridcolor\": \"white\", \"linecolor\": \"white\", \"ticks\": \"\", \"title\": {\"standoff\": 15}, \"zerolinecolor\": \"white\", \"zerolinewidth\": 2}}}, \"title\": {\"text\": \"\"}, \"xaxis\": {\"anchor\": \"y\", \"domain\": [0.0, 1.0], \"title\": {\"text\": \"First Component\"}}, \"yaxis\": {\"anchor\": \"x\", \"domain\": [0.0, 1.0], \"title\": {\"text\": \"Second Component\"}}},\n",
       "                        {\"responsive\": true}\n",
       "                    ).then(function(){\n",
       "                            \n",
       "var gd = document.getElementById('7bfe51f4-72b7-4f41-93ac-4a4b215faf01');\n",
       "var x = new MutationObserver(function (mutations, observer) {{\n",
       "        var display = window.getComputedStyle(gd).display;\n",
       "        if (!display || display === 'none') {{\n",
       "            console.log([gd, 'removed!']);\n",
       "            Plotly.purge(gd);\n",
       "            observer.disconnect();\n",
       "        }}\n",
       "}});\n",
       "\n",
       "// Listen for the removal of the full notebook cells\n",
       "var notebookContainer = gd.closest('#notebook-container');\n",
       "if (notebookContainer) {{\n",
       "    x.observe(notebookContainer, {childList: true});\n",
       "}}\n",
       "\n",
       "// Listen for the clearing of the current output cell\n",
       "var outputEl = gd.closest('.output');\n",
       "if (outputEl) {{\n",
       "    x.observe(outputEl, {childList: true});\n",
       "}}\n",
       "\n",
       "                        })\n",
       "                };\n",
       "                });\n",
       "            </script>\n",
       "        </div>"
      ]
     },
     "metadata": {},
     "output_type": "display_data"
    }
   ],
   "source": [
    "import plotly.express as px\n",
    "import plotly.io as pio\n",
    "from sklearn.decomposition import PCA\n",
    "\n",
    "pca = PCA(n_components=2)\n",
    "components = pca.fit_transform(X_train+X_test)\n",
    "\n",
    "fig = px.scatter(components, x=0, y=1, color=y_train+y_test)\n",
    "fig.update_layout(\n",
    "    title=\"\",\n",
    "    xaxis_title=\"First Component\",\n",
    "    yaxis_title=\"Second Component\",\n",
    "    font=dict(\n",
    "        family=\"Courier New, monospace\",\n",
    "        size=18,\n",
    "        color=\"#7f7f7f\"\n",
    "    ),\n",
    "    legend=dict(\n",
    "    yanchor=\"top\",\n",
    "    y=0.99,\n",
    "    xanchor=\"left\",\n",
    "    x=0.00\n",
    ")\n",
    ")\n",
    "fig.show()\n",
    "#pio.write_image(fig, 'soloAll.png')\n",
    "#fig.write_image(\"soloAll.eps\")"
   ]
  },
  {
   "cell_type": "code",
   "execution_count": null,
   "metadata": {},
   "outputs": [],
   "source": []
  },
  {
   "cell_type": "code",
   "execution_count": null,
   "metadata": {},
   "outputs": [],
   "source": []
  }
 ],
 "metadata": {
  "kernelspec": {
   "display_name": "Python 3",
   "language": "python",
   "name": "python3"
  },
  "language_info": {
   "codemirror_mode": {
    "name": "ipython",
    "version": 3
   },
   "file_extension": ".py",
   "mimetype": "text/x-python",
   "name": "python",
   "nbconvert_exporter": "python",
   "pygments_lexer": "ipython3",
   "version": "3.6.9"
  }
 },
 "nbformat": 4,
 "nbformat_minor": 2
}
