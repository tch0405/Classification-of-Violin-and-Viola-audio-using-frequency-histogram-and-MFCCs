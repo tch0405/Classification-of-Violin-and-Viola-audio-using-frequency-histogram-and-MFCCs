{
 "cells": [
  {
   "cell_type": "code",
   "execution_count": 1,
   "metadata": {},
   "outputs": [
    {
     "name": "stdout",
     "output_type": "stream",
     "text": [
      "Campagnoli Caprice #6 for Solo Viola.mp3\n"
     ]
    },
    {
     "name": "stderr",
     "output_type": "stream",
     "text": [
      "/Library/Frameworks/Python.framework/Versions/3.8/lib/python3.8/site-packages/librosa/core/audio.py:162: UserWarning: PySoundFile failed. Trying audioread instead.\n",
      "  warnings.warn(\"PySoundFile failed. Trying audioread instead.\")\n",
      "/Library/Frameworks/Python.framework/Versions/3.8/lib/python3.8/site-packages/librosa/core/spectrum.py:1641: UserWarning: amplitude_to_db was called on complex input so phase information will be discarded. To suppress this warning, call amplitude_to_db(np.abs(S)) instead.\n",
      "  warnings.warn(\n"
     ]
    },
    {
     "name": "stdout",
     "output_type": "stream",
     "text": [
      "Notturno for Viola op 42 I Marcia Allegro_PROCESSED.wav\n",
      "Campagnoli Caprice #5 for Solo Viola.mp3\n"
     ]
    },
    {
     "name": "stderr",
     "output_type": "stream",
     "text": [
      "/Library/Frameworks/Python.framework/Versions/3.8/lib/python3.8/site-packages/librosa/core/audio.py:162: UserWarning: PySoundFile failed. Trying audioread instead.\n",
      "  warnings.warn(\"PySoundFile failed. Trying audioread instead.\")\n",
      "/Library/Frameworks/Python.framework/Versions/3.8/lib/python3.8/site-packages/librosa/core/spectrum.py:1641: UserWarning: amplitude_to_db was called on complex input so phase information will be discarded. To suppress this warning, call amplitude_to_db(np.abs(S)) instead.\n",
      "  warnings.warn(\n"
     ]
    },
    {
     "name": "stdout",
     "output_type": "stream",
     "text": [
      "Violin Sonata No 21 in E minor K 304 I Allegro_PROCESSED.wav\n",
      "Beethoven Sonata for viola and piano in A Major opus 69, 1st movement_PROCESSED.wav\n",
      "Notturno for Viola op 42 VI Andante quasi Allegretto Allegro_PROCESSED.wav\n",
      "Campagnoli Caprice #1 for Solo Viola.mp3\n"
     ]
    },
    {
     "name": "stderr",
     "output_type": "stream",
     "text": [
      "/Library/Frameworks/Python.framework/Versions/3.8/lib/python3.8/site-packages/librosa/core/audio.py:162: UserWarning: PySoundFile failed. Trying audioread instead.\n",
      "  warnings.warn(\"PySoundFile failed. Trying audioread instead.\")\n",
      "/Library/Frameworks/Python.framework/Versions/3.8/lib/python3.8/site-packages/librosa/core/spectrum.py:1641: UserWarning: amplitude_to_db was called on complex input so phase information will be discarded. To suppress this warning, call amplitude_to_db(np.abs(S)) instead.\n",
      "  warnings.warn(\n"
     ]
    },
    {
     "name": "stdout",
     "output_type": "stream",
     "text": [
      "Andante & Allegretto in C major KV 404(Mozart)_PROCESSED.wav\n",
      "Campagnoli Caprice #31 for Solo Viola.mp3\n"
     ]
    },
    {
     "name": "stderr",
     "output_type": "stream",
     "text": [
      "/Library/Frameworks/Python.framework/Versions/3.8/lib/python3.8/site-packages/librosa/core/audio.py:162: UserWarning: PySoundFile failed. Trying audioread instead.\n",
      "  warnings.warn(\"PySoundFile failed. Trying audioread instead.\")\n",
      "/Library/Frameworks/Python.framework/Versions/3.8/lib/python3.8/site-packages/librosa/core/spectrum.py:1641: UserWarning: amplitude_to_db was called on complex input so phase information will be discarded. To suppress this warning, call amplitude_to_db(np.abs(S)) instead.\n",
      "  warnings.warn(\n"
     ]
    },
    {
     "name": "stdout",
     "output_type": "stream",
     "text": [
      "Notturno for Viola op 42 II Adagio_PROCESSED.wav\n",
      "Campagnoli Caprice #4 for Solo Viola.mp3\n"
     ]
    },
    {
     "name": "stderr",
     "output_type": "stream",
     "text": [
      "/Library/Frameworks/Python.framework/Versions/3.8/lib/python3.8/site-packages/librosa/core/audio.py:162: UserWarning: PySoundFile failed. Trying audioread instead.\n",
      "  warnings.warn(\"PySoundFile failed. Trying audioread instead.\")\n",
      "/Library/Frameworks/Python.framework/Versions/3.8/lib/python3.8/site-packages/librosa/core/spectrum.py:1641: UserWarning: amplitude_to_db was called on complex input so phase information will be discarded. To suppress this warning, call amplitude_to_db(np.abs(S)) instead.\n",
      "  warnings.warn(\n"
     ]
    },
    {
     "name": "stdout",
     "output_type": "stream",
     "text": [
      "Campagnoli Caprice #17 for solo viola.mp3\n"
     ]
    },
    {
     "name": "stderr",
     "output_type": "stream",
     "text": [
      "/Library/Frameworks/Python.framework/Versions/3.8/lib/python3.8/site-packages/librosa/core/audio.py:162: UserWarning: PySoundFile failed. Trying audioread instead.\n",
      "  warnings.warn(\"PySoundFile failed. Trying audioread instead.\")\n",
      "/Library/Frameworks/Python.framework/Versions/3.8/lib/python3.8/site-packages/librosa/core/spectrum.py:1641: UserWarning: amplitude_to_db was called on complex input so phase information will be discarded. To suppress this warning, call amplitude_to_db(np.abs(S)) instead.\n",
      "  warnings.warn(\n"
     ]
    },
    {
     "name": "stdout",
     "output_type": "stream",
     "text": [
      "Divertimento for viola and piano I Adagio_PROCESSED.wav\n",
      "Campagnoli Caprice #24 for Solo Viola.mp3\n"
     ]
    },
    {
     "name": "stderr",
     "output_type": "stream",
     "text": [
      "/Library/Frameworks/Python.framework/Versions/3.8/lib/python3.8/site-packages/librosa/core/audio.py:162: UserWarning: PySoundFile failed. Trying audioread instead.\n",
      "  warnings.warn(\"PySoundFile failed. Trying audioread instead.\")\n",
      "/Library/Frameworks/Python.framework/Versions/3.8/lib/python3.8/site-packages/librosa/core/spectrum.py:1641: UserWarning: amplitude_to_db was called on complex input so phase information will be discarded. To suppress this warning, call amplitude_to_db(np.abs(S)) instead.\n",
      "  warnings.warn(\n"
     ]
    },
    {
     "name": "stdout",
     "output_type": "stream",
     "text": [
      "mozart symphony no 40 violin.mp3\n"
     ]
    },
    {
     "name": "stderr",
     "output_type": "stream",
     "text": [
      "/Library/Frameworks/Python.framework/Versions/3.8/lib/python3.8/site-packages/librosa/core/audio.py:162: UserWarning: PySoundFile failed. Trying audioread instead.\n",
      "  warnings.warn(\"PySoundFile failed. Trying audioread instead.\")\n",
      "/Library/Frameworks/Python.framework/Versions/3.8/lib/python3.8/site-packages/librosa/core/spectrum.py:1641: UserWarning: amplitude_to_db was called on complex input so phase information will be discarded. To suppress this warning, call amplitude_to_db(np.abs(S)) instead.\n",
      "  warnings.warn(\n"
     ]
    },
    {
     "name": "stdout",
     "output_type": "stream",
     "text": [
      "Violin Sonata No 2 in A Op 12 No 2 III Allegro piacevole_PROCESSED.wav\n",
      "Violin Sonata No 1 in D Op 12 No 1 III Rondo Allegro_PROCESSED.wav\n",
      "Mozart - Sonata for Piano and Violin in G Major, K 301 - I_PROCESSED.wav\n",
      "Divertimento_K334Menuet_PROCESSED.wav\n",
      "Beethoven-Sonata for Piano and Violin no 5, Spring Sonata I_PROCESSED.wav\n",
      "Violin Sonata No 2 in A Op 12 No 2 II Andante piÃ¹ tosto allegretto_PROCESSED.wav\n",
      "Haydn Surprise Symphony - Andante for solo violin.mp3\n"
     ]
    },
    {
     "name": "stderr",
     "output_type": "stream",
     "text": [
      "/Library/Frameworks/Python.framework/Versions/3.8/lib/python3.8/site-packages/librosa/core/audio.py:162: UserWarning: PySoundFile failed. Trying audioread instead.\n",
      "  warnings.warn(\"PySoundFile failed. Trying audioread instead.\")\n",
      "/Library/Frameworks/Python.framework/Versions/3.8/lib/python3.8/site-packages/librosa/core/spectrum.py:1641: UserWarning: amplitude_to_db was called on complex input so phase information will be discarded. To suppress this warning, call amplitude_to_db(np.abs(S)) instead.\n",
      "  warnings.warn(\n"
     ]
    },
    {
     "name": "stdout",
     "output_type": "stream",
     "text": [
      "Violin Sonata No 1 in D Op 12 No 1 II Tema con variazioni_PROCESSED.wav\n",
      "Mozart The Magic Flute - Queen of the Night Aria for solo violin (recital ver.).mp3\n"
     ]
    },
    {
     "name": "stderr",
     "output_type": "stream",
     "text": [
      "/Library/Frameworks/Python.framework/Versions/3.8/lib/python3.8/site-packages/librosa/core/audio.py:162: UserWarning: PySoundFile failed. Trying audioread instead.\n",
      "  warnings.warn(\"PySoundFile failed. Trying audioread instead.\")\n",
      "/Library/Frameworks/Python.framework/Versions/3.8/lib/python3.8/site-packages/librosa/core/spectrum.py:1641: UserWarning: amplitude_to_db was called on complex input so phase information will be discarded. To suppress this warning, call amplitude_to_db(np.abs(S)) instead.\n",
      "  warnings.warn(\n"
     ]
    },
    {
     "name": "stdout",
     "output_type": "stream",
     "text": [
      "Beethoven Romance No. 1 in G Major for solo violin.mp3\n"
     ]
    },
    {
     "name": "stderr",
     "output_type": "stream",
     "text": [
      "/Library/Frameworks/Python.framework/Versions/3.8/lib/python3.8/site-packages/librosa/core/audio.py:162: UserWarning: PySoundFile failed. Trying audioread instead.\n",
      "  warnings.warn(\"PySoundFile failed. Trying audioread instead.\")\n",
      "/Library/Frameworks/Python.framework/Versions/3.8/lib/python3.8/site-packages/librosa/core/spectrum.py:1641: UserWarning: amplitude_to_db was called on complex input so phase information will be discarded. To suppress this warning, call amplitude_to_db(np.abs(S)) instead.\n",
      "  warnings.warn(\n"
     ]
    },
    {
     "name": "stdout",
     "output_type": "stream",
     "text": [
      "Mozart, Alla Turca Violin.mp3\n"
     ]
    },
    {
     "name": "stderr",
     "output_type": "stream",
     "text": [
      "/Library/Frameworks/Python.framework/Versions/3.8/lib/python3.8/site-packages/librosa/core/audio.py:162: UserWarning: PySoundFile failed. Trying audioread instead.\n",
      "  warnings.warn(\"PySoundFile failed. Trying audioread instead.\")\n",
      "/Library/Frameworks/Python.framework/Versions/3.8/lib/python3.8/site-packages/librosa/core/spectrum.py:1641: UserWarning: amplitude_to_db was called on complex input so phase information will be discarded. To suppress this warning, call amplitude_to_db(np.abs(S)) instead.\n",
      "  warnings.warn(\n"
     ]
    },
    {
     "name": "stdout",
     "output_type": "stream",
     "text": [
      "Mozart Turkish March for solo violin.mp3\n"
     ]
    },
    {
     "name": "stderr",
     "output_type": "stream",
     "text": [
      "/Library/Frameworks/Python.framework/Versions/3.8/lib/python3.8/site-packages/librosa/core/audio.py:162: UserWarning: PySoundFile failed. Trying audioread instead.\n",
      "  warnings.warn(\"PySoundFile failed. Trying audioread instead.\")\n",
      "/Library/Frameworks/Python.framework/Versions/3.8/lib/python3.8/site-packages/librosa/core/spectrum.py:1641: UserWarning: amplitude_to_db was called on complex input so phase information will be discarded. To suppress this warning, call amplitude_to_db(np.abs(S)) instead.\n",
      "  warnings.warn(\n"
     ]
    },
    {
     "name": "stdout",
     "output_type": "stream",
     "text": [
      "Mozart The Magic Flute - Duet Pa Pa Pa for solo violin.mp3\n"
     ]
    },
    {
     "name": "stderr",
     "output_type": "stream",
     "text": [
      "/Library/Frameworks/Python.framework/Versions/3.8/lib/python3.8/site-packages/librosa/core/audio.py:162: UserWarning: PySoundFile failed. Trying audioread instead.\n",
      "  warnings.warn(\"PySoundFile failed. Trying audioread instead.\")\n",
      "/Library/Frameworks/Python.framework/Versions/3.8/lib/python3.8/site-packages/librosa/core/spectrum.py:1641: UserWarning: amplitude_to_db was called on complex input so phase information will be discarded. To suppress this warning, call amplitude_to_db(np.abs(S)) instead.\n",
      "  warnings.warn(\n"
     ]
    }
   ],
   "source": [
    "import os\n",
    "import numpy, scipy, matplotlib.pyplot as plt, IPython.display as ipd\n",
    "import librosa, librosa.display\n",
    "import numpy as np\n",
    "import math\n",
    "os.chdir('/Users/tanchonghong/Documents/1_2020_s2/equal_violin_viola/2_classical/train/viola')\n",
    "x1=[]\n",
    "y_train=[]\n",
    "mfcc_list_mean = []\n",
    "mfcc_list_std = []\n",
    "\n",
    "for f_name in os.listdir('/Users/tanchonghong/Documents/1_2020_s2/equal_violin_viola/2_classical/train/viola'):\n",
    "    if f_name.endswith('.mp3') or f_name.endswith('.wav'):\n",
    "        print(f_name)\n",
    "        #temp = x/x.max()  #normalization\n",
    "        #S = librosa.feature.melspectrogram(temp, sr=sr, n_mels=128)  # 128 mel bands\n",
    "        #mfcc = librosa.feature.mfcc(S=librosa.power_to_db(S), n_mfcc=13)\n",
    "        #tempList = list(np.mean(mfcc,1))\n",
    "        #tempList1 = list(np.std(mfcc,1))\n",
    "        x, sr = librosa.load(f_name)\n",
    "        hop_length = 512\n",
    "        X = librosa.stft(x)\n",
    "        S = librosa.amplitude_to_db(X, ref=np.max)\n",
    "        \n",
    "        l1 =[]\n",
    "        #by default, there are 1025 frequency bins in 0 to sr/2 (sr = 22050)\n",
    "        \n",
    "        \n",
    "        hist=[]\n",
    "        for i in range(len(S)):\n",
    "            for j in range(len(S[0])):\n",
    "        \n",
    "                if S[i][j]>=(-11):\n",
    "                    temp = i *((22050/2)/1025)\n",
    "            \n",
    "                    if temp >0:\n",
    "                        hist.append(math.log2(temp))\n",
    "        x1.append(hist)\n",
    "        y_train.append(\"viola\")\n",
    "os.chdir('/Users/tanchonghong/Documents/1_2020_s2/equal_violin_viola/2_classical/train/violin')  \n",
    "for f_name in os.listdir('/Users/tanchonghong/Documents/1_2020_s2/equal_violin_viola/2_classical/train/violin'):\n",
    "    if f_name.endswith('.mp3') or f_name.endswith('.wav'):\n",
    "        print(f_name)\n",
    "        \n",
    "        x, sr = librosa.load(f_name)\n",
    "        hop_length = 512\n",
    "        X = librosa.stft(x)\n",
    "        S = librosa.amplitude_to_db(X, ref=np.max)\n",
    "        \n",
    "        l1 =[]\n",
    "        #by default, there are 1025 frequency bins in 0 to sr/2 (sr = 22050)\n",
    "\n",
    "        \n",
    "        hist=[]\n",
    "        for i in range(len(S)):\n",
    "            for j in range(len(S[0])):\n",
    "        \n",
    "                if S[i][j]>=(-11):\n",
    "                    temp = i *((22050/2)/1025)\n",
    "            \n",
    "                    if temp >0:\n",
    "                        hist.append(math.log2(temp))\n",
    "        x1.append(hist)\n",
    "        y_train.append(\"violin\")\n",
    "\n",
    "import pandas as pd\n",
    "import numpy as np\n",
    "import matplotlib.pyplot as plt\n",
    "from sklearn.model_selection import train_test_split\n",
    "import statistics \n",
    "\n",
    "#x=[[9.1,9.2,9.3], [9], [9.2,9],[9,9,9,9],[9.5,9.2],[8.5],[8.4,8.3],[8.6,8.5,8.5],[8.4,8.5],[8.5,8.5,8.5]]\n",
    "X_train= [[statistics.mean(a), statistics.median(a), statistics.mode(a), min(a), max(a),np.percentile(np.array(a), 25), np.percentile(np.array(a), 75)] for a in x1]\n",
    "#y=[\"violin\",\"violin\",\"violin\",\"violin\",\"violin\",\"viola\",\"viola\",\"viola\",\"viola\",\"viola\"]\n",
    "    "
   ]
  },
  {
   "cell_type": "code",
   "execution_count": 2,
   "metadata": {},
   "outputs": [
    {
     "name": "stdout",
     "output_type": "stream",
     "text": [
      "Campagnoli Caprice #35 for Solo Viola.mp3\n"
     ]
    },
    {
     "name": "stderr",
     "output_type": "stream",
     "text": [
      "/Library/Frameworks/Python.framework/Versions/3.8/lib/python3.8/site-packages/librosa/core/audio.py:162: UserWarning: PySoundFile failed. Trying audioread instead.\n",
      "  warnings.warn(\"PySoundFile failed. Trying audioread instead.\")\n",
      "/Library/Frameworks/Python.framework/Versions/3.8/lib/python3.8/site-packages/librosa/core/spectrum.py:1641: UserWarning: amplitude_to_db was called on complex input so phase information will be discarded. To suppress this warning, call amplitude_to_db(np.abs(S)) instead.\n",
      "  warnings.warn(\n"
     ]
    },
    {
     "name": "stdout",
     "output_type": "stream",
     "text": [
      "Campagnoli Caprice #15 for Solo Viola.mp3\n"
     ]
    },
    {
     "name": "stderr",
     "output_type": "stream",
     "text": [
      "/Library/Frameworks/Python.framework/Versions/3.8/lib/python3.8/site-packages/librosa/core/audio.py:162: UserWarning: PySoundFile failed. Trying audioread instead.\n",
      "  warnings.warn(\"PySoundFile failed. Trying audioread instead.\")\n",
      "/Library/Frameworks/Python.framework/Versions/3.8/lib/python3.8/site-packages/librosa/core/spectrum.py:1641: UserWarning: amplitude_to_db was called on complex input so phase information will be discarded. To suppress this warning, call amplitude_to_db(np.abs(S)) instead.\n",
      "  warnings.warn(\n"
     ]
    },
    {
     "name": "stdout",
     "output_type": "stream",
     "text": [
      "Notturno for Viola op 42 III Menuetto Allegretto_PROCESSED.wav\n",
      "Campagnoli Caprice # 2 for Solo Viola.mp3\n"
     ]
    },
    {
     "name": "stderr",
     "output_type": "stream",
     "text": [
      "/Library/Frameworks/Python.framework/Versions/3.8/lib/python3.8/site-packages/librosa/core/audio.py:162: UserWarning: PySoundFile failed. Trying audioread instead.\n",
      "  warnings.warn(\"PySoundFile failed. Trying audioread instead.\")\n",
      "/Library/Frameworks/Python.framework/Versions/3.8/lib/python3.8/site-packages/librosa/core/spectrum.py:1641: UserWarning: amplitude_to_db was called on complex input so phase information will be discarded. To suppress this warning, call amplitude_to_db(np.abs(S)) instead.\n",
      "  warnings.warn(\n"
     ]
    },
    {
     "name": "stdout",
     "output_type": "stream",
     "text": [
      "Notturno for Viola op 42 IV Adagio - Scherzo Allegro molto - Adagio_PROCESSED.wav\n",
      "Divertimento for viola and piano II Minuet_PROCESSED.wav\n",
      "Mozart The Magic Flute - Pamina's Aria for solo violin.mp3\n"
     ]
    },
    {
     "name": "stderr",
     "output_type": "stream",
     "text": [
      "/Library/Frameworks/Python.framework/Versions/3.8/lib/python3.8/site-packages/librosa/core/audio.py:162: UserWarning: PySoundFile failed. Trying audioread instead.\n",
      "  warnings.warn(\"PySoundFile failed. Trying audioread instead.\")\n",
      "/Library/Frameworks/Python.framework/Versions/3.8/lib/python3.8/site-packages/librosa/core/spectrum.py:1641: UserWarning: amplitude_to_db was called on complex input so phase information will be discarded. To suppress this warning, call amplitude_to_db(np.abs(S)) instead.\n",
      "  warnings.warn(\n"
     ]
    },
    {
     "name": "stdout",
     "output_type": "stream",
     "text": [
      "Violin Sonata No 2 in A Op 12 No 2 I Allegro vivace_PROCESSED.wav\n",
      "Mozart Violin Concerto No. 5, Exposition.mp3\n"
     ]
    },
    {
     "name": "stderr",
     "output_type": "stream",
     "text": [
      "/Library/Frameworks/Python.framework/Versions/3.8/lib/python3.8/site-packages/librosa/core/audio.py:162: UserWarning: PySoundFile failed. Trying audioread instead.\n",
      "  warnings.warn(\"PySoundFile failed. Trying audioread instead.\")\n",
      "/Library/Frameworks/Python.framework/Versions/3.8/lib/python3.8/site-packages/librosa/core/spectrum.py:1641: UserWarning: amplitude_to_db was called on complex input so phase information will be discarded. To suppress this warning, call amplitude_to_db(np.abs(S)) instead.\n",
      "  warnings.warn(\n"
     ]
    },
    {
     "name": "stdout",
     "output_type": "stream",
     "text": [
      "Brahms - Lullaby for Violin and Piano duet_PROCESSED.wav\n",
      "W.A.Mozart-Eine kleine Nachtmusik [Violin Solo].mp3\n"
     ]
    },
    {
     "name": "stderr",
     "output_type": "stream",
     "text": [
      "/Library/Frameworks/Python.framework/Versions/3.8/lib/python3.8/site-packages/librosa/core/audio.py:162: UserWarning: PySoundFile failed. Trying audioread instead.\n",
      "  warnings.warn(\"PySoundFile failed. Trying audioread instead.\")\n",
      "/Library/Frameworks/Python.framework/Versions/3.8/lib/python3.8/site-packages/librosa/core/spectrum.py:1641: UserWarning: amplitude_to_db was called on complex input so phase information will be discarded. To suppress this warning, call amplitude_to_db(np.abs(S)) instead.\n",
      "  warnings.warn(\n"
     ]
    },
    {
     "name": "stdout",
     "output_type": "stream",
     "text": [
      "Violin Sonata No 1 in D Op 12 No 1 I Allegro con brio_PROCESSED.wav\n"
     ]
    }
   ],
   "source": [
    "os.chdir('/Users/tanchonghong/Documents/1_2020_s2/equal_violin_viola/2_classical/test/viola')\n",
    "x1=[]\n",
    "y_test=[]\n",
    "for f_name in os.listdir('/Users/tanchonghong/Documents/1_2020_s2/equal_violin_viola/2_classical/test/viola'):\n",
    "    if f_name.endswith('.mp3') or f_name.endswith('.wav'):\n",
    "        print(f_name)\n",
    "        \n",
    "        x, sr = librosa.load(f_name)\n",
    "        hop_length = 512\n",
    "        X = librosa.stft(x)\n",
    "        S = librosa.amplitude_to_db(X, ref=np.max)\n",
    "        \n",
    "        l1 =[]\n",
    "        #by default, there are 1025 frequency bins in 0 to sr/2 (sr = 22050)\n",
    "\n",
    "        \n",
    "        hist=[]\n",
    "        for i in range(len(S)):\n",
    "            for j in range(len(S[0])):\n",
    "        \n",
    "                if S[i][j]>=(-11):\n",
    "                    temp = i *((22050/2)/1025)\n",
    "            \n",
    "                    if temp >0:\n",
    "                        hist.append(math.log2(temp))\n",
    "        x1.append(hist)\n",
    "        y_test.append(\"viola\")\n",
    "os.chdir('/Users/tanchonghong/Documents/1_2020_s2/equal_violin_viola/2_classical/test/violin')  \n",
    "for f_name in os.listdir('/Users/tanchonghong/Documents/1_2020_s2/equal_violin_viola/2_classical/test/violin'):\n",
    "    if f_name.endswith('.mp3') or f_name.endswith('.wav'):\n",
    "        print(f_name)\n",
    "        \n",
    "        x, sr = librosa.load(f_name)\n",
    "        hop_length = 512\n",
    "        X = librosa.stft(x)\n",
    "        S = librosa.amplitude_to_db(X, ref=np.max)\n",
    "        \n",
    "        l1 =[]\n",
    "        #by default, there are 1025 frequency bins in 0 to sr/2 (sr = 22050)\n",
    "\n",
    "        \n",
    "        hist=[]\n",
    "        for i in range(len(S)):\n",
    "            for j in range(len(S[0])):\n",
    "        \n",
    "                if S[i][j]>=(-11):\n",
    "                    temp = i *((22050/2)/1025)\n",
    "            \n",
    "                    if temp >0:\n",
    "                        hist.append(math.log2(temp))\n",
    "        x1.append(hist)\n",
    "        y_test.append(\"violin\")\n",
    "\n",
    "import pandas as pd\n",
    "import numpy as np\n",
    "import matplotlib.pyplot as plt\n",
    "from sklearn.model_selection import train_test_split\n",
    "import statistics \n",
    "\n",
    "X_test= [[statistics.mean(a), statistics.median(a), statistics.mode(a), min(a), max(a),np.percentile(np.array(a), 25), np.percentile(np.array(a), 75)] for a in x1]\n",
    "\n",
    " "
   ]
  },
  {
   "cell_type": "code",
   "execution_count": 3,
   "metadata": {},
   "outputs": [
    {
     "name": "stdout",
     "output_type": "stream",
     "text": [
      "[[4 2]\n",
      " [1 5]]\n",
      "Accuracy0.75\n",
      "              precision    recall  f1-score   support\n",
      "\n",
      "       viola       0.80      0.67      0.73         6\n",
      "      violin       0.71      0.83      0.77         6\n",
      "\n",
      "    accuracy                           0.75        12\n",
      "   macro avg       0.76      0.75      0.75        12\n",
      "weighted avg       0.76      0.75      0.75        12\n",
      "\n"
     ]
    }
   ],
   "source": [
    "from numpy.random import seed\n",
    "seed(14) \n",
    "from sklearn.metrics import classification_report, confusion_matrix\n",
    "from sklearn.ensemble import RandomForestClassifier\n",
    "from sklearn.metrics import accuracy_score\n",
    "classifier = RandomForestClassifier(max_depth=10, random_state=0)\n",
    "\n",
    "classifier.fit(X_train, y_train)\n",
    "y_pred = classifier.predict(X_test)\n",
    "print(confusion_matrix(y_test, y_pred))\n",
    "print('Accuracy' + str(accuracy_score(y_test, y_pred)))\n",
    "print(classification_report(y_test,y_pred))"
   ]
  }
 ],
 "metadata": {
  "kernelspec": {
   "display_name": "Python 3",
   "language": "python",
   "name": "python3"
  },
  "language_info": {
   "codemirror_mode": {
    "name": "ipython",
    "version": 3
   },
   "file_extension": ".py",
   "mimetype": "text/x-python",
   "name": "python",
   "nbconvert_exporter": "python",
   "pygments_lexer": "ipython3",
   "version": "3.8.1"
  }
 },
 "nbformat": 4,
 "nbformat_minor": 2
}
