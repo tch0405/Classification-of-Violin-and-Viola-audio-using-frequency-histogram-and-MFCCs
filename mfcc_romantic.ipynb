{
 "cells": [
  {
   "cell_type": "code",
   "execution_count": 1,
   "metadata": {},
   "outputs": [
    {
     "name": "stderr",
     "output_type": "stream",
     "text": [
      "/Library/Frameworks/Python.framework/Versions/3.8/lib/python3.8/site-packages/librosa/core/audio.py:162: UserWarning: PySoundFile failed. Trying audioread instead.\n",
      "  warnings.warn(\"PySoundFile failed. Trying audioread instead.\")\n"
     ]
    },
    {
     "name": "stdout",
     "output_type": "stream",
     "text": [
      "4356904\n"
     ]
    },
    {
     "name": "stderr",
     "output_type": "stream",
     "text": [
      "/Library/Frameworks/Python.framework/Versions/3.8/lib/python3.8/site-packages/librosa/core/audio.py:162: UserWarning: PySoundFile failed. Trying audioread instead.\n",
      "  warnings.warn(\"PySoundFile failed. Trying audioread instead.\")\n"
     ]
    },
    {
     "name": "stdout",
     "output_type": "stream",
     "text": [
      "4012924\n"
     ]
    },
    {
     "name": "stderr",
     "output_type": "stream",
     "text": [
      "/Library/Frameworks/Python.framework/Versions/3.8/lib/python3.8/site-packages/librosa/core/audio.py:162: UserWarning: PySoundFile failed. Trying audioread instead.\n",
      "  warnings.warn(\"PySoundFile failed. Trying audioread instead.\")\n"
     ]
    },
    {
     "name": "stdout",
     "output_type": "stream",
     "text": [
      "3131277\n"
     ]
    },
    {
     "name": "stderr",
     "output_type": "stream",
     "text": [
      "/Library/Frameworks/Python.framework/Versions/3.8/lib/python3.8/site-packages/librosa/core/audio.py:162: UserWarning: PySoundFile failed. Trying audioread instead.\n",
      "  warnings.warn(\"PySoundFile failed. Trying audioread instead.\")\n"
     ]
    },
    {
     "name": "stdout",
     "output_type": "stream",
     "text": [
      "3638250\n"
     ]
    },
    {
     "name": "stderr",
     "output_type": "stream",
     "text": [
      "/Library/Frameworks/Python.framework/Versions/3.8/lib/python3.8/site-packages/librosa/core/audio.py:162: UserWarning: PySoundFile failed. Trying audioread instead.\n",
      "  warnings.warn(\"PySoundFile failed. Trying audioread instead.\")\n"
     ]
    },
    {
     "name": "stdout",
     "output_type": "stream",
     "text": [
      "6242192\n"
     ]
    },
    {
     "name": "stderr",
     "output_type": "stream",
     "text": [
      "/Library/Frameworks/Python.framework/Versions/3.8/lib/python3.8/site-packages/librosa/core/audio.py:162: UserWarning: PySoundFile failed. Trying audioread instead.\n",
      "  warnings.warn(\"PySoundFile failed. Trying audioread instead.\")\n"
     ]
    },
    {
     "name": "stdout",
     "output_type": "stream",
     "text": [
      "4906743\n"
     ]
    },
    {
     "name": "stderr",
     "output_type": "stream",
     "text": [
      "/Library/Frameworks/Python.framework/Versions/3.8/lib/python3.8/site-packages/librosa/core/audio.py:162: UserWarning: PySoundFile failed. Trying audioread instead.\n",
      "  warnings.warn(\"PySoundFile failed. Trying audioread instead.\")\n"
     ]
    },
    {
     "name": "stdout",
     "output_type": "stream",
     "text": [
      "7505552\n"
     ]
    },
    {
     "name": "stderr",
     "output_type": "stream",
     "text": [
      "/Library/Frameworks/Python.framework/Versions/3.8/lib/python3.8/site-packages/librosa/core/audio.py:162: UserWarning: PySoundFile failed. Trying audioread instead.\n",
      "  warnings.warn(\"PySoundFile failed. Trying audioread instead.\")\n",
      "/Library/Frameworks/Python.framework/Versions/3.8/lib/python3.8/site-packages/librosa/core/audio.py:162: UserWarning: PySoundFile failed. Trying audioread instead.\n",
      "  warnings.warn(\"PySoundFile failed. Trying audioread instead.\")\n",
      "/Library/Frameworks/Python.framework/Versions/3.8/lib/python3.8/site-packages/librosa/core/audio.py:162: UserWarning: PySoundFile failed. Trying audioread instead.\n",
      "  warnings.warn(\"PySoundFile failed. Trying audioread instead.\")\n",
      "/Library/Frameworks/Python.framework/Versions/3.8/lib/python3.8/site-packages/librosa/core/audio.py:162: UserWarning: PySoundFile failed. Trying audioread instead.\n",
      "  warnings.warn(\"PySoundFile failed. Trying audioread instead.\")\n",
      "/Library/Frameworks/Python.framework/Versions/3.8/lib/python3.8/site-packages/librosa/core/audio.py:162: UserWarning: PySoundFile failed. Trying audioread instead.\n",
      "  warnings.warn(\"PySoundFile failed. Trying audioread instead.\")\n",
      "/Library/Frameworks/Python.framework/Versions/3.8/lib/python3.8/site-packages/librosa/core/audio.py:162: UserWarning: PySoundFile failed. Trying audioread instead.\n",
      "  warnings.warn(\"PySoundFile failed. Trying audioread instead.\")\n",
      "/Library/Frameworks/Python.framework/Versions/3.8/lib/python3.8/site-packages/librosa/core/audio.py:162: UserWarning: PySoundFile failed. Trying audioread instead.\n",
      "  warnings.warn(\"PySoundFile failed. Trying audioread instead.\")\n",
      "/Library/Frameworks/Python.framework/Versions/3.8/lib/python3.8/site-packages/librosa/core/spectrum.py:222: UserWarning: n_fft=2048 is too small for input signal of length=1941\n",
      "  warnings.warn(\n"
     ]
    }
   ],
   "source": [
    "import os\n",
    "import numpy, scipy, matplotlib.pyplot as plt, IPython.display as ipd\n",
    "import librosa, librosa.display\n",
    "import numpy as np\n",
    "import math\n",
    "os.chdir('/Users/tanchonghong/Documents/1_2020_s2/equal_solo/3_romantic/train/viola')\n",
    "x_train=[]\n",
    "y_train=[]\n",
    "mfcc_list_mean = []\n",
    "mfcc_list_std = []\n",
    "count1=0\n",
    "for f_name in os.listdir('/Users/tanchonghong/Documents/1_2020_s2/equal_solo/3_romantic/train/viola'):\n",
    "    if f_name.endswith('.wav') or f_name.endswith('.mp3'):\n",
    "        x, sr = librosa.load(f_name)\n",
    "        print(len(x))\n",
    "        start=0\n",
    "        end = 4*22050\n",
    "\n",
    "        x = x/x.max()\n",
    "        length = len(x)\n",
    "        count = math.ceil(len(x)/(22050*4))\n",
    "        count1+=count\n",
    "        for i in range(count):\n",
    "            if end >= length:\n",
    "                end = length\n",
    "            temp = x[start:end]\n",
    "            \n",
    "            mfcc = librosa.feature.mfcc(temp, n_mfcc=13)\n",
    "            variable = []\n",
    "            temp1 =list(np.mean(mfcc,1))\n",
    "            temp2=list(np.std(mfcc,1))\n",
    "            variable = temp1+temp2\n",
    "            x_train.append(variable)\n",
    "            y_train.append(\"viola\")\n",
    "            start = end\n",
    "            end = end+4*22050\n",
    "os.chdir('/Users/tanchonghong/Documents/1_2020_s2/equal_solo/3_romantic/train/violin')\n",
    "for f_name in os.listdir('/Users/tanchonghong/Documents/1_2020_s2/equal_solo/3_romantic/train/violin'):\n",
    "    if f_name.endswith('.wav') or f_name.endswith('.mp3'):\n",
    "        x, sr = librosa.load(f_name)\n",
    "        start=0\n",
    "        end = 4*22050\n",
    "\n",
    "        x = x/x.max()\n",
    "        length = len(x)\n",
    "        count = math.ceil(len(x)/(22050*4))\n",
    "        count1+=count\n",
    "        for i in range(count):\n",
    "            if end >= length:\n",
    "                end = length\n",
    "            temp = x[start:end]\n",
    "            \n",
    "            mfcc = librosa.feature.mfcc(temp, n_mfcc=13)\n",
    "            variable = []\n",
    "            temp1 =list(np.mean(mfcc,1))\n",
    "            temp2=list(np.std(mfcc,1))\n",
    "            variable = temp1+temp2\n",
    "            x_train.append(variable)\n",
    "            y_train.append(\"violin\")\n",
    "            start = end\n",
    "            end = end+4*22050\n",
    "        \n",
    "        "
   ]
  },
  {
   "cell_type": "code",
   "execution_count": 2,
   "metadata": {},
   "outputs": [
    {
     "name": "stdout",
     "output_type": "stream",
     "text": [
      "805 805\n"
     ]
    },
    {
     "data": {
      "text/plain": [
       "RandomForestClassifier(max_depth=10, random_state=0)"
      ]
     },
     "execution_count": 2,
     "metadata": {},
     "output_type": "execute_result"
    }
   ],
   "source": [
    "from sklearn.ensemble import RandomForestClassifier\n",
    "from sklearn.metrics import confusion_matrix\n",
    "from sklearn.metrics import accuracy_score\n",
    "from sklearn.svm import SVC\n",
    "from sklearn.preprocessing import StandardScaler\n",
    "#scaler = StandardScaler()\n",
    "#scaler.fit(x_train)\n",
    "#x_train = scaler.transform(x_train)\n",
    "from sklearn.ensemble import RandomForestClassifier\n",
    "from sklearn.metrics import confusion_matrix\n",
    "from sklearn.metrics import accuracy_score\n",
    "classifier = RandomForestClassifier(max_depth=10, random_state=0)\n",
    "#classifier = SVC(kernel='rbf', random_state=0, gamma=.1, C=1,probability = True)\n",
    "print(len(x_train), len(y_train))\n",
    "classifier.fit(x_train, y_train)"
   ]
  },
  {
   "cell_type": "code",
   "execution_count": 3,
   "metadata": {},
   "outputs": [
    {
     "data": {
      "text/plain": [
       "6528741"
      ]
     },
     "execution_count": 3,
     "metadata": {},
     "output_type": "execute_result"
    }
   ],
   "source": [
    "length"
   ]
  },
  {
   "cell_type": "code",
   "execution_count": 4,
   "metadata": {},
   "outputs": [
    {
     "name": "stderr",
     "output_type": "stream",
     "text": [
      "/Library/Frameworks/Python.framework/Versions/3.8/lib/python3.8/site-packages/librosa/core/audio.py:162: UserWarning: PySoundFile failed. Trying audioread instead.\n",
      "  warnings.warn(\"PySoundFile failed. Trying audioread instead.\")\n"
     ]
    },
    {
     "name": "stdout",
     "output_type": "stream",
     "text": [
      "Confidence interval for viola:0.9541984732824428 Confidence interval for violin:0.04580152671755725\n",
      "True label: Viola\n",
      "Predicted: Viola\n"
     ]
    },
    {
     "name": "stderr",
     "output_type": "stream",
     "text": [
      "/Library/Frameworks/Python.framework/Versions/3.8/lib/python3.8/site-packages/librosa/core/audio.py:162: UserWarning: PySoundFile failed. Trying audioread instead.\n",
      "  warnings.warn(\"PySoundFile failed. Trying audioread instead.\")\n"
     ]
    },
    {
     "name": "stdout",
     "output_type": "stream",
     "text": [
      "Confidence interval for viola:1.0 Confidence interval for violin:0.0\n",
      "True label: Viola\n",
      "Predicted: Viola\n"
     ]
    },
    {
     "name": "stderr",
     "output_type": "stream",
     "text": [
      "/Library/Frameworks/Python.framework/Versions/3.8/lib/python3.8/site-packages/librosa/core/audio.py:162: UserWarning: PySoundFile failed. Trying audioread instead.\n",
      "  warnings.warn(\"PySoundFile failed. Trying audioread instead.\")\n"
     ]
    },
    {
     "name": "stdout",
     "output_type": "stream",
     "text": [
      "Confidence interval for viola:0.25 Confidence interval for violin:0.75\n",
      "True label: Viola\n",
      "Predicted: Violin\n"
     ]
    }
   ],
   "source": [
    "tp_viola = 0\n",
    "fp_violin =0\n",
    "g_temp_tp_viola =0\n",
    "g_temp_fp_violin =0\n",
    "g_temp_tp_violin = 0\n",
    "g_temp_fp_viola=0\n",
    "os.chdir('/Users/tanchonghong/Documents/1_2020_s2/equal_solo/3_romantic/test/viola')\n",
    "for f_name in os.listdir('/Users/tanchonghong/Documents/1_2020_s2/equal_solo/3_romantic/test/viola'):\n",
    "    if f_name.endswith('.wav') or f_name.endswith('.mp3'):\n",
    "        x, sr = librosa.load(f_name)\n",
    "        start=0\n",
    "        end = 4*22050+1\n",
    "\n",
    "        x = x/x.max()\n",
    "        length = len(x)\n",
    "        count = math.ceil(len(x)/(22050*4))\n",
    "        temp_tp_viola = 0\n",
    "        temp_fp_violin =0\n",
    "        for i in range(count):\n",
    "            \n",
    "            if end >= length:\n",
    "                end = length\n",
    "            temp = x[start:end]\n",
    "            mfcc = librosa.feature.mfcc(temp, n_mfcc=13)\n",
    "            variable = []\n",
    "            temp1 =list(np.mean(mfcc,1))\n",
    "            temp2=list(np.std(mfcc,1))\n",
    "            variable = temp1+temp2\n",
    "            y_pred = classifier.predict([variable])\n",
    "            if y_pred == \"viola\":\n",
    "                temp_tp_viola+=1\n",
    "                g_temp_tp_viola+=1\n",
    "            else:\n",
    "                temp_fp_violin+=1\n",
    "                g_temp_fp_violin+=1\n",
    "            start = end\n",
    "            end = end+4*22050\n",
    "        print(\"Confidence interval for viola:\" + str(temp_tp_viola/(temp_tp_viola+temp_fp_violin)) +\" Confidence interval for violin:\"+str(temp_fp_violin/(temp_tp_viola+temp_fp_violin)))\n",
    "        print(\"True label: Viola\")\n",
    "        if temp_tp_viola>temp_fp_violin:\n",
    "            tp_viola+=1\n",
    "            print(\"Predicted: Viola\")\n",
    "        else:\n",
    "            fp_violin+=1\n",
    "            print(\"Predicted: Violin\")\n",
    "            "
   ]
  },
  {
   "cell_type": "code",
   "execution_count": 5,
   "metadata": {},
   "outputs": [
    {
     "name": "stderr",
     "output_type": "stream",
     "text": [
      "/Library/Frameworks/Python.framework/Versions/3.8/lib/python3.8/site-packages/librosa/core/audio.py:162: UserWarning: PySoundFile failed. Trying audioread instead.\n",
      "  warnings.warn(\"PySoundFile failed. Trying audioread instead.\")\n"
     ]
    },
    {
     "name": "stdout",
     "output_type": "stream",
     "text": [
      "Confidence interval for violin:0.9166666666666666 Confidence interval for viola:0.08333333333333333\n",
      "True label: Violin\n",
      "Predicted: Violin\n"
     ]
    },
    {
     "name": "stderr",
     "output_type": "stream",
     "text": [
      "/Library/Frameworks/Python.framework/Versions/3.8/lib/python3.8/site-packages/librosa/core/audio.py:162: UserWarning: PySoundFile failed. Trying audioread instead.\n",
      "  warnings.warn(\"PySoundFile failed. Trying audioread instead.\")\n"
     ]
    },
    {
     "name": "stdout",
     "output_type": "stream",
     "text": [
      "Confidence interval for violin:1.0 Confidence interval for viola:0.0\n",
      "True label: Violin\n",
      "Predicted: Violin\n"
     ]
    },
    {
     "name": "stderr",
     "output_type": "stream",
     "text": [
      "/Library/Frameworks/Python.framework/Versions/3.8/lib/python3.8/site-packages/librosa/core/audio.py:162: UserWarning: PySoundFile failed. Trying audioread instead.\n",
      "  warnings.warn(\"PySoundFile failed. Trying audioread instead.\")\n"
     ]
    },
    {
     "name": "stdout",
     "output_type": "stream",
     "text": [
      "Confidence interval for violin:0.7777777777777778 Confidence interval for viola:0.2222222222222222\n",
      "True label: Violin\n",
      "Predicted: Violin\n"
     ]
    }
   ],
   "source": [
    "tp_violin = 0\n",
    "fp_viola =0\n",
    "os.chdir('/Users/tanchonghong/Documents/1_2020_s2/equal_solo/3_romantic/test/violin')\n",
    "for f_name in os.listdir('/Users/tanchonghong/Documents/1_2020_s2/equal_solo/3_romantic/test/violin'):\n",
    "    if f_name.endswith('.wav') or f_name.endswith('.mp3'):\n",
    "        x, sr = librosa.load(f_name)\n",
    "        start=0\n",
    "        end = 4*22050+1\n",
    "\n",
    "        x = x/x.max()\n",
    "        length = len(x)\n",
    "        count = math.ceil(len(x)/(22050*4))\n",
    "        temp_tp_violin = 0\n",
    "        temp_fp_viola =0\n",
    "        for i in range(count):\n",
    "            \n",
    "            if end >= length:\n",
    "                end = length\n",
    "            temp = x[start:end]\n",
    "            mfcc = librosa.feature.mfcc(temp, n_mfcc=13)\n",
    "            variable = []\n",
    "            temp1 =list(np.mean(mfcc,1))\n",
    "            temp2=list(np.std(mfcc,1))\n",
    "            variable = temp1+temp2\n",
    "            y_pred = classifier.predict([variable])\n",
    "            if y_pred == \"violin\":\n",
    "                temp_tp_violin+=1\n",
    "                g_temp_tp_violin+=1\n",
    "            else:\n",
    "                temp_fp_viola+=1\n",
    "                g_temp_fp_viola+=1\n",
    "            start = end\n",
    "            end = end+4*22050\n",
    "        print(\"Confidence interval for violin:\" + str(temp_tp_violin/(temp_tp_violin+temp_fp_viola)) +\" Confidence interval for viola:\"+str(temp_fp_viola/(temp_tp_violin+temp_fp_viola)))\n",
    "        print(\"True label: Violin\")\n",
    "        if temp_tp_violin>temp_fp_viola:\n",
    "            tp_violin+=1\n",
    "            print(\"Predicted: Violin\")\n",
    "        else:\n",
    "            fp_viola+=1\n",
    "            print(\"Predicted: Viola\")"
   ]
  },
  {
   "cell_type": "code",
   "execution_count": 6,
   "metadata": {},
   "outputs": [
    {
     "name": "stdout",
     "output_type": "stream",
     "text": [
      "0.8333333333333334\n"
     ]
    }
   ],
   "source": [
    "accuracy = (tp_violin+tp_viola)/(tp_violin+tp_viola+fp_viola+fp_violin)\n",
    "print(accuracy)"
   ]
  },
  {
   "cell_type": "code",
   "execution_count": 7,
   "metadata": {},
   "outputs": [
    {
     "name": "stdout",
     "output_type": "stream",
     "text": [
      "0.8629807692307693\n"
     ]
    }
   ],
   "source": [
    "accuracy1 = (g_temp_tp_viola +g_temp_tp_violin)/(g_temp_tp_viola +g_temp_fp_violin +g_temp_tp_violin +g_temp_fp_viola)\n",
    "print(accuracy1)"
   ]
  },
  {
   "cell_type": "code",
   "execution_count": 8,
   "metadata": {},
   "outputs": [
    {
     "name": "stdout",
     "output_type": "stream",
     "text": [
      "Count of segments: 416\n"
     ]
    }
   ],
   "source": [
    "print(\"Count of segments: \" + str(g_temp_tp_viola +g_temp_fp_violin +g_temp_tp_violin +g_temp_fp_viola))"
   ]
  },
  {
   "cell_type": "code",
   "execution_count": 9,
   "metadata": {},
   "outputs": [
    {
     "name": "stdout",
     "output_type": "stream",
     "text": [
      "Count of training segments: 805\n"
     ]
    }
   ],
   "source": [
    "print(\"Count of training segments: \"+str(count1))"
   ]
  }
 ],
 "metadata": {
  "kernelspec": {
   "display_name": "Python 3",
   "language": "python",
   "name": "python3"
  },
  "language_info": {
   "codemirror_mode": {
    "name": "ipython",
    "version": 3
   },
   "file_extension": ".py",
   "mimetype": "text/x-python",
   "name": "python",
   "nbconvert_exporter": "python",
   "pygments_lexer": "ipython3",
   "version": "3.8.1"
  }
 },
 "nbformat": 4,
 "nbformat_minor": 2
}
