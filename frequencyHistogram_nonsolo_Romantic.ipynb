{
 "cells": [
  {
   "cell_type": "code",
   "execution_count": 1,
   "metadata": {},
   "outputs": [
    {
     "name": "stderr",
     "output_type": "stream",
     "text": [
      "/home/student/.local/lib/python3.6/site-packages/numba/core/errors.py:154: UserWarning: Insufficiently recent colorama version found. Numba requires colorama >= 0.3.9\n",
      "  warnings.warn(msg)\n"
     ]
    },
    {
     "name": "stdout",
     "output_type": "stream",
     "text": [
      "MÃ¤rchenbilder, Op_113 Nicht schnellPROCESSED.wav\n"
     ]
    },
    {
     "name": "stderr",
     "output_type": "stream",
     "text": [
      "/home/student/.local/lib/python3.6/site-packages/librosa/core/spectrum.py:1642: UserWarning: amplitude_to_db was called on complex input so phase information will be discarded. To suppress this warning, call amplitude_to_db(np.abs(S)) instead.\n",
      "  \"amplitude_to_db was called on complex input so phase \"\n"
     ]
    },
    {
     "name": "stdout",
     "output_type": "stream",
     "text": [
      "FantasiestÃ¼cke Op 73 I Zart und mit Ausdruck_PROCESSED.wav\n",
      "Viola Sonata Op 105 a-moll I Mit leidenschaftlichem Ausdruck_PROCESSED.wav\n",
      "viola sonata op 120 no 1 in F minor Andante Con Poco Adagio_PROCESSED.wav\n",
      "FantasiestÃ¼cke, Op 73 II Lebhaft leicht_PROCESSED.wav\n",
      "FantasiestÃ¼cke, Op_73 III Rasch und mit FeuerPROCESSED.wav\n",
      "MÃ¤rchenbilder, Op 113 IV Langsam_PROCESSED.wav\n",
      "viola sonata op 120 no 1 in F minor Allegretto Grazioso_PROCESSED.wav\n",
      "Viola Sonata Op 105 a-moll III Lebhaft_PROCESSED.wav\n",
      "viola sonata op 120 no 1 in F minor Vivace_PROCESSED.wav\n",
      "MÃ¤rchenbilder, Op 113 II Lebhaft_PROCESSED.wav\n",
      "MÃ¤rchenbilder, Op 113 III Rasch_PROCESSED.wav\n",
      "viola sonata op 120 no 1 in F minor Allegro_PROCESSED.wav\n",
      "Viola Sonata Op 105 a-moll II Allegretto_PROCESSED.wav\n",
      "Violin Sonata No 1 in A minor Op 105  II Allegrato_PROCESSED.wav\n",
      "Violin Sonata, L 140 II Intermede_PROCESSED.wav\n",
      "Sonata No 3 in D Minor Op 108 I Allegro_PROCESSED.wav\n",
      "Violin Sonata No 1 in A minor Op 105  III Lebhaft_PROCESSED.wav\n",
      "Romance in A Major Op 94 No 2 (Schumann)_PROCESSED.wav\n",
      "Violin Sonata No 1 in A minor Op 105  I Mit leidenschaftlichem_PROCESSED.wav\n",
      "Valse scherzo (Tchaikovsky)_PROCESSED.wav\n",
      "Violin Sonata, L 140 III Finale_PROCESSED.wav\n",
      "Sonata No 3 in D Minor Op 108 IV Presto_PROCESSED.wav\n",
      "Sonata No 3 in D Minor Op 108 II Adagio_PROCESSED.wav\n",
      "Violin Sonata, L140 I Allegro vivo_PROCESSED.wav\n",
      "viola sonata op 120 no 1 in F minor Allegretto Grazioso_PROCESSED.wav\n",
      "Sonata No 3 in D Minor Op 108 III Un poco_PROCESSED.wav\n",
      "viola sonata op 120 no 1 in F minor Vivace_PROCESSED.wav\n"
     ]
    }
   ],
   "source": [
    "import os\n",
    "import numpy, scipy, matplotlib.pyplot as plt, IPython.display as ipd\n",
    "import librosa, librosa.display\n",
    "import numpy as np\n",
    "import math\n",
    "os.chdir('/home/student/Downloads/new_violin_viola/romantic/viola/combined_train')\n",
    "x1=[]\n",
    "y_train=[]\n",
    "mfcc_list_mean = []\n",
    "mfcc_list_std = []\n",
    "\n",
    "freqViolin = []\n",
    "freqViola = []\n",
    "for f_name in os.listdir('/home/student/Downloads/new_violin_viola/romantic/viola/combined_train'):\n",
    "    if f_name.endswith('.mp3') or f_name.endswith('.wav'):\n",
    "        print(f_name)\n",
    "        #temp = x/x.max()  #normalization\n",
    "        #S = librosa.feature.melspectrogram(temp, sr=sr, n_mels=128)  # 128 mel bands\n",
    "        #mfcc = librosa.feature.mfcc(S=librosa.power_to_db(S), n_mfcc=13)\n",
    "        #tempList = list(np.mean(mfcc,1))\n",
    "        #tempList1 = list(np.std(mfcc,1))\n",
    "        x, sr = librosa.load(f_name)\n",
    "        hop_length = 512\n",
    "        X = librosa.stft(x)\n",
    "        S = librosa.amplitude_to_db(X, ref=np.max)\n",
    "        \n",
    "        l1 =[]\n",
    "        #by default, there are 1025 frequency bins in 0 to sr/2 (sr = 22050)\n",
    "        \n",
    "        \n",
    "        hist=[]\n",
    "        hist1=[]\n",
    "        for i in range(len(S)):\n",
    "            for j in range(len(S[0])):\n",
    "        \n",
    "                if S[i][j]>=(-11):\n",
    "                    temp = i *((22050/2)/1025)\n",
    "            \n",
    "                    if temp >0:\n",
    "                        hist.append(math.log2(temp))\n",
    "                        hist1.append(temp)\n",
    "        x1.append(hist)\n",
    "        freqViola.append(hist1)\n",
    "        y_train.append(\"viola\")\n",
    "os.chdir('/home/student/Downloads/new_violin_viola/romantic/violin/combined_train')  \n",
    "for f_name in os.listdir('/home/student/Downloads/new_violin_viola/romantic/violin/combined_train'):\n",
    "    if f_name.endswith('.mp3') or f_name.endswith('.wav'):\n",
    "        print(f_name)\n",
    "        \n",
    "        x, sr = librosa.load(f_name)\n",
    "        hop_length = 512\n",
    "        X = librosa.stft(x)\n",
    "        S = librosa.amplitude_to_db(X, ref=np.max)\n",
    "        \n",
    "        l1 =[]\n",
    "        #by default, there are 1025 frequency bins in 0 to sr/2 (sr = 22050)\n",
    "\n",
    "        \n",
    "        hist=[]\n",
    "        hist1=[]\n",
    "        for i in range(len(S)):\n",
    "            for j in range(len(S[0])):\n",
    "        \n",
    "                if S[i][j]>=(-11):\n",
    "                    temp = i *((22050/2)/1025)\n",
    "            \n",
    "                    if temp >0:\n",
    "                        hist.append(math.log2(temp))\n",
    "                        hist1.append(temp)\n",
    "                        \n",
    "        x1.append(hist)\n",
    "        freqViolin.append(hist1)\n",
    "        y_train.append(\"violin\")\n",
    "\n",
    "import pandas as pd\n",
    "import numpy as np\n",
    "import matplotlib.pyplot as plt\n",
    "from sklearn.model_selection import train_test_split\n",
    "import statistics \n",
    "\n",
    "\n",
    "X_train= [[statistics.mean(a), statistics.median(a),  min(a), max(a),np.percentile(np.array(a), 25), np.percentile(np.array(a), 75)] for a in x1]\n",
    "#y=[\"violin\",\"violin\",\"violin\",\"violin\",\"violin\",\"viola\",\"viola\",\"viola\",\"viola\",\"viola\"]\n",
    "    "
   ]
  },
  {
   "cell_type": "code",
   "execution_count": 2,
   "metadata": {},
   "outputs": [
    {
     "name": "stdout",
     "output_type": "stream",
     "text": [
      "Adagio and Allegro in A-Flat Major Op 70 Langsam mit innigem Ausdruck (Adagio)_PROCESSED.wav\n"
     ]
    },
    {
     "name": "stderr",
     "output_type": "stream",
     "text": [
      "/home/student/.local/lib/python3.6/site-packages/librosa/core/spectrum.py:1642: UserWarning: amplitude_to_db was called on complex input so phase information will be discarded. To suppress this warning, call amplitude_to_db(np.abs(S)) instead.\n",
      "  \"amplitude_to_db was called on complex input so phase \"\n"
     ]
    },
    {
     "name": "stdout",
     "output_type": "stream",
     "text": [
      "MÃ¤rchenerzÃ¤hlungen for Clarinet, Viola and Piano, Op_PROCESSED.wav\n",
      "Mikhail Glinka - Viola Sonata in D Minor_PROCESSED.wav\n",
      "Adagio and Allegro in A-Flat Major, Op 70 Rasch und feurig_PROCESSED.wav\n",
      "Tchaikovsky, Viola, Passion Confession_PROCESSED.wav\n",
      "Viola Sonata in C Minor, Movement 1, Adagio - Allegro_ Felix Mendelssohn_PROCESSED.wav\n",
      "5 Gedichte WWV 91 V TrÃ¤ume (Wagner)_PROCESSED.wav\n",
      "Song Without Words Op 2 No 3 (Tchaikovsky)_PROCESSED.wav\n",
      "Das Lied der Geige Op 2 (Schebek)_PROCESSED.wav\n",
      "3 Pieces Op 11 Mazurka in F-Sharp Minor (Chopin)_PROCESSED.wav\n",
      "Hungarian Dance No 1 WoO 1_PROCESSED.wav\n",
      "Tchaikovsky, Viola, Passion Confession_PROCESSED.wav\n"
     ]
    }
   ],
   "source": [
    "os.chdir('/home/student/Downloads/new_violin_viola/romantic/viola/combined_test')\n",
    "x1=[]\n",
    "y_test=[]\n",
    "for f_name in os.listdir('/home/student/Downloads/new_violin_viola/romantic/viola/combined_test'):\n",
    "    if f_name.endswith('.mp3') or f_name.endswith('.wav'):\n",
    "        print(f_name)\n",
    "        \n",
    "        x, sr = librosa.load(f_name)\n",
    "        hop_length = 512\n",
    "        X = librosa.stft(x)\n",
    "        S = librosa.amplitude_to_db(X, ref=np.max)\n",
    "        \n",
    "        l1 =[]\n",
    "        #by default, there are 1025 frequency bins in 0 to sr/2 (sr = 22050)\n",
    "\n",
    "        \n",
    "        hist=[]\n",
    "        hist1=[]\n",
    "        for i in range(len(S)):\n",
    "            for j in range(len(S[0])):\n",
    "        \n",
    "                if S[i][j]>=(-11):\n",
    "                    temp = i *((22050/2)/1025)\n",
    "            \n",
    "                    if temp >0:\n",
    "                        hist.append(math.log2(temp))\n",
    "                        hist1.append(temp)\n",
    "                        \n",
    "                        \n",
    "        x1.append(hist)\n",
    "        freqViola.append(hist1)\n",
    "        y_test.append(\"viola\")\n",
    "os.chdir('/home/student/Downloads/new_violin_viola/romantic/violin/combined_test')  \n",
    "for f_name in os.listdir('/home/student/Downloads/new_violin_viola/romantic/violin/combined_test'):\n",
    "    if f_name.endswith('.mp3') or f_name.endswith('.wav'):\n",
    "        print(f_name)\n",
    "        \n",
    "        x, sr = librosa.load(f_name)\n",
    "        hop_length = 512\n",
    "        X = librosa.stft(x)\n",
    "        S = librosa.amplitude_to_db(X, ref=np.max)\n",
    "        \n",
    "        l1 =[]\n",
    "        #by default, there are 1025 frequency bins in 0 to sr/2 (sr = 22050)\n",
    "\n",
    "        \n",
    "        hist=[]\n",
    "        hist1=[]\n",
    "        for i in range(len(S)):\n",
    "            for j in range(len(S[0])):\n",
    "        \n",
    "                if S[i][j]>=(-11):\n",
    "                    temp = i *((22050/2)/1025)\n",
    "            \n",
    "                    if temp >0:\n",
    "                        hist.append(math.log2(temp))\n",
    "                        hist1.append(temp)\n",
    "                        \n",
    "        x1.append(hist)\n",
    "        freqViolin.append(hist1)\n",
    "        y_test.append(\"violin\")\n",
    "\n",
    "import pandas as pd\n",
    "import numpy as np\n",
    "import matplotlib.pyplot as plt\n",
    "from sklearn.model_selection import train_test_split\n",
    "import statistics \n",
    "\n",
    "X_test= [[statistics.mean(a), statistics.median(a),  min(a), max(a),np.percentile(np.array(a), 25), np.percentile(np.array(a), 75)] for a in x1]\n",
    "\n",
    " "
   ]
  },
  {
   "cell_type": "code",
   "execution_count": 3,
   "metadata": {},
   "outputs": [
    {
     "name": "stdout",
     "output_type": "stream",
     "text": [
      "[[4 2]\n",
      " [1 5]]\n",
      "Accuracy0.75\n",
      "              precision    recall  f1-score   support\n",
      "\n",
      "       viola       0.80      0.67      0.73         6\n",
      "      violin       0.71      0.83      0.77         6\n",
      "\n",
      "    accuracy                           0.75        12\n",
      "   macro avg       0.76      0.75      0.75        12\n",
      "weighted avg       0.76      0.75      0.75        12\n",
      "\n",
      "Accuracy: 0.75\n"
     ]
    }
   ],
   "source": [
    "from numpy.random import seed\n",
    "seed(14) \n",
    "from sklearn import metrics\n",
    "from sklearn.metrics import classification_report, confusion_matrix\n",
    "from sklearn.ensemble import RandomForestClassifier\n",
    "from sklearn.metrics import accuracy_score\n",
    "classifier = RandomForestClassifier(max_depth=10, random_state=0)\n",
    "\n",
    "classifier.fit(X_train, y_train)\n",
    "y_pred = classifier.predict(X_test)\n",
    "print(confusion_matrix(y_test, y_pred))\n",
    "print('Accuracy' + str(accuracy_score(y_test, y_pred)))\n",
    "print(classification_report(y_test,y_pred))\n",
    "print(\"Accuracy:\",metrics.accuracy_score(y_test, y_pred))"
   ]
  },
  {
   "cell_type": "code",
   "execution_count": 4,
   "metadata": {},
   "outputs": [
    {
     "name": "stdout",
     "output_type": "stream",
     "text": [
      "[[4 2]\n",
      " [3 3]]\n",
      "Accuracy0.5833333333333334\n",
      "              precision    recall  f1-score   support\n",
      "\n",
      "       viola       0.57      0.67      0.62         6\n",
      "      violin       0.60      0.50      0.55         6\n",
      "\n",
      "    accuracy                           0.58        12\n",
      "   macro avg       0.59      0.58      0.58        12\n",
      "weighted avg       0.59      0.58      0.58        12\n",
      "\n",
      "Accuracy: 0.5833333333333334\n"
     ]
    }
   ],
   "source": [
    "from sklearn.neighbors import KNeighborsClassifier\n",
    "\n",
    "model = KNeighborsClassifier(n_neighbors=3)\n",
    "\n",
    "# Train the model using the training sets\n",
    "model.fit(X_train, y_train)\n",
    "y_pred = model.predict(X_test)\n",
    "print(confusion_matrix(y_test, y_pred))\n",
    "print('Accuracy' + str(accuracy_score(y_test, y_pred)))\n",
    "print(classification_report(y_test,y_pred))\n",
    "print(\"Accuracy:\",metrics.accuracy_score(y_test, y_pred))"
   ]
  },
  {
   "cell_type": "code",
   "execution_count": 5,
   "metadata": {},
   "outputs": [
    {
     "name": "stdout",
     "output_type": "stream",
     "text": [
      "[[3 3]\n",
      " [2 4]]\n",
      "Accuracy0.5833333333333334\n",
      "              precision    recall  f1-score   support\n",
      "\n",
      "       viola       0.60      0.50      0.55         6\n",
      "      violin       0.57      0.67      0.62         6\n",
      "\n",
      "    accuracy                           0.58        12\n",
      "   macro avg       0.59      0.58      0.58        12\n",
      "weighted avg       0.59      0.58      0.58        12\n",
      "\n",
      "Accuracy: 0.5833333333333334\n"
     ]
    }
   ],
   "source": [
    "from sklearn import svm\n",
    "\n",
    "#Create a svm Classifier\n",
    "clf = svm.SVC(random_state=42,kernel='linear') # Linear Kernel\n",
    "\n",
    "clf.fit(X_train, y_train)\n",
    "y_pred = clf.predict(X_test)\n",
    "print(confusion_matrix(y_test, y_pred))\n",
    "print('Accuracy' + str(accuracy_score(y_test, y_pred)))\n",
    "print(classification_report(y_test,y_pred))\n",
    "print(\"Accuracy:\",metrics.accuracy_score(y_test, y_pred))"
   ]
  },
  {
   "cell_type": "code",
   "execution_count": 6,
   "metadata": {},
   "outputs": [
    {
     "name": "stdout",
     "output_type": "stream",
     "text": [
      "[[3 3]\n",
      " [1 5]]\n",
      "Accuracy0.6666666666666666\n",
      "              precision    recall  f1-score   support\n",
      "\n",
      "       viola       0.75      0.50      0.60         6\n",
      "      violin       0.62      0.83      0.71         6\n",
      "\n",
      "    accuracy                           0.67        12\n",
      "   macro avg       0.69      0.67      0.66        12\n",
      "weighted avg       0.69      0.67      0.66        12\n",
      "\n",
      "Accuracy: 0.6666666666666666\n"
     ]
    }
   ],
   "source": [
    "svm = svm.SVC(random_state=42, kernel='rbf')\n",
    "svm.fit(X_train, y_train)\n",
    "y_pred = svm.predict(X_test)\n",
    "print(confusion_matrix(y_test, y_pred))\n",
    "print('Accuracy' + str(accuracy_score(y_test, y_pred)))\n",
    "print(classification_report(y_test,y_pred))\n",
    "print(\"Accuracy:\",metrics.accuracy_score(y_test, y_pred))"
   ]
  },
  {
   "cell_type": "code",
   "execution_count": 7,
   "metadata": {},
   "outputs": [],
   "source": [
    "#statistics.mean(freqViola), statistics.median(freqViola),  np.percentile(np.array(freqViola), 25), np.percentile(np.array(freqViola), 75)\n",
    "#viola1= [[statistics.mean(freqViola[i])] for i in range(len(freqViola))]"
   ]
  },
  {
   "cell_type": "code",
   "execution_count": 8,
   "metadata": {},
   "outputs": [
    {
     "name": "stdout",
     "output_type": "stream",
     "text": [
      "Standard deviation of mean Viola frequency: 72.64555500015238\n",
      "Standard deviation of mean Violin frequency: 116.40544838854612\n"
     ]
    }
   ],
   "source": [
    "#freqViola\n",
    "#freqViolin\n",
    "#mean, median, mode, 25th, 75th\n",
    "from statistics import stdev \n",
    "viola1= [[statistics.mean(a), statistics.median(a),  np.percentile(np.array(a), 25), np.percentile(np.array(a), 75)] for a in freqViola]\n",
    "violin1= [[statistics.mean(a), statistics.median(a), np.percentile(np.array(a), 25), np.percentile(np.array(a), 75)] for a in freqViolin]\n",
    "meanstdViolaList = []\n",
    "for i in viola1:\n",
    "    meanstdViolaList.append(i[0])\n",
    "meanstdViola = stdev(meanstdViolaList)\n",
    "print(\"Standard deviation of mean Viola frequency: \" + str(meanstdViola))\n",
    "\n",
    "meanstdViolinList = []\n",
    "for i in violin1:\n",
    "    meanstdViolinList.append(i[0])\n",
    "meanstdViolin = stdev(meanstdViolinList)\n",
    "print(\"Standard deviation of mean Violin frequency: \" + str(meanstdViolin))"
   ]
  },
  {
   "cell_type": "code",
   "execution_count": 9,
   "metadata": {},
   "outputs": [
    {
     "name": "stdout",
     "output_type": "stream",
     "text": [
      "Standard deviation of median Viola frequency: 97.61760887535144\n",
      "Standard deviation of median Violin frequency: 139.5841017495293\n"
     ]
    }
   ],
   "source": [
    "medianstdViolaList = []\n",
    "for i in viola1:\n",
    "    medianstdViolaList.append(i[1])\n",
    "medianstdViola = stdev(medianstdViolaList)\n",
    "print(\"Standard deviation of median Viola frequency: \" + str(medianstdViola))\n",
    "\n",
    "medianstdViolinList = []\n",
    "for i in violin1:\n",
    "    medianstdViolinList.append(i[1])\n",
    "medianstdViolin = stdev(medianstdViolinList)\n",
    "print(\"Standard deviation of median Violin frequency: \" + str(medianstdViolin))"
   ]
  },
  {
   "cell_type": "code",
   "execution_count": 10,
   "metadata": {},
   "outputs": [],
   "source": [
    "#modestdViolaList = []\n",
    "#for i in viola1:\n",
    "#    modestdViolaList.append(i[2])\n",
    "#modestdViola = stdev(modestdViolaList)\n",
    "#print(\"Standard deviation of mode Viola frequency: \" + str(modestdViola))\n",
    "\n",
    "#modestdViolinList = []\n",
    "#for i in violin1:\n",
    "#    modestdViolinList.append(i[2])\n",
    "#modestdViolin = stdev(modestdViolinList)\n",
    "#print(\"Standard deviation of mode Violin frequency: \" + str(modestdViolin))"
   ]
  },
  {
   "cell_type": "code",
   "execution_count": 11,
   "metadata": {},
   "outputs": [
    {
     "name": "stdout",
     "output_type": "stream",
     "text": [
      "Standard deviation of 25th percentile Viola frequency: 70.1320309214679\n",
      "Standard deviation of 25th percentile Violin frequency: 98.21731937214594\n",
      "Standard deviation of 75th percentile Viola frequency: 121.81138334530026\n",
      "Standard deviation of 75th percentile Violin frequency: 174.76938347267134\n",
      "Standard deviation of mean frequency: 101.43676009396715\n",
      "Standard deviation of median frequency: 120.58446556067497\n",
      "Standard deviation of 25th percentile frequency: 84.95577888014995\n",
      "Standard deviation of 75th percentile frequency: 152.35874174120485\n"
     ]
    }
   ],
   "source": [
    "temp = []\n",
    "\n",
    "for i in viola1:\n",
    "    temp.append(i[2])\n",
    "firstQ1 = stdev(temp)\n",
    "print(\"Standard deviation of 25th percentile Viola frequency: \" + str(firstQ1))\n",
    "\n",
    "temp1 = []\n",
    "for i in violin1:\n",
    "    temp1.append(i[2])\n",
    "firstQ2 = stdev(temp1)\n",
    "print(\"Standard deviation of 25th percentile Violin frequency: \" + str(firstQ2))\n",
    "\n",
    "temp3 = []\n",
    "for i in viola1:\n",
    "    temp3.append(i[3])\n",
    "thirdQ1 = stdev(temp3)\n",
    "print(\"Standard deviation of 75th percentile Viola frequency: \" + str(thirdQ1))\n",
    "\n",
    "temp4 = []\n",
    "for i in violin1:\n",
    "    temp4.append(i[3])\n",
    "thirdQ2 = stdev(temp4)\n",
    "print(\"Standard deviation of 75th percentile Violin frequency: \" + str(thirdQ2))\n",
    "\n",
    "meanstdList= meanstdViolaList+meanstdViolinList\n",
    "meanstd = stdev(meanstdList)\n",
    "print(\"Standard deviation of mean frequency: \" + str(meanstd))\n",
    "\n",
    "medianstdList= medianstdViolaList+medianstdViolinList\n",
    "medianstd = stdev(medianstdList)\n",
    "print(\"Standard deviation of median frequency: \" + str(medianstd))\n",
    "\n",
    "\n",
    "temp0 = temp + temp1\n",
    "firstQ = stdev(temp0)\n",
    "print(\"Standard deviation of 25th percentile frequency: \" + str(firstQ))\n",
    "\n",
    "temp00 = temp3 + temp4\n",
    "thirdQ = stdev(temp00)\n",
    "print(\"Standard deviation of 75th percentile frequency: \" + str(thirdQ))\n",
    "\n"
   ]
  },
  {
   "cell_type": "code",
   "execution_count": 12,
   "metadata": {},
   "outputs": [
    {
     "name": "stdout",
     "output_type": "stream",
     "text": [
      "Vivaldi Sonata No.5 in E Minor, Allegro, for Viola and Piano_PROCESSED.wav\n"
     ]
    },
    {
     "name": "stderr",
     "output_type": "stream",
     "text": [
      "/home/student/.local/lib/python3.6/site-packages/librosa/core/spectrum.py:1642: UserWarning: amplitude_to_db was called on complex input so phase information will be discarded. To suppress this warning, call amplitude_to_db(np.abs(S)) instead.\n",
      "  \"amplitude_to_db was called on complex input so phase \"\n"
     ]
    },
    {
     "name": "stdout",
     "output_type": "stream",
     "text": [
      "Sonata No. 3 in F Major II Allegro_PROCESSED.wav\n",
      "Viola Concerto in G Major-3rd Mov_PROCESSED.wav\n",
      "Air Suite, Viola _ Piano_PROCESSED.wav\n",
      "Sonata No. 3 in F Major IV Allegro _PROCESSED.wav\n",
      "Viola Da Gamba_PROCESSED.wav\n",
      "Sonata in C minor, H 514 III -Presto_PROCESSED.wav\n",
      "Sonata in G, BWV 1019 V -Allegro_PROCESSED.wav\n",
      "Sonata in A, BWV 1015 III -Andante un poco_PROCESSED.wav\n",
      "Sonata in A, BWV 1015-Dolce_PROCESSED.wav\n",
      "Vivaldi - Violin Concerto in G minor, RV315 Summer , III_PROCESSED.wav\n",
      "Sonata in B minor, BWV 1014-Adagio_PROCESSED.wav\n"
     ]
    }
   ],
   "source": [
    "os.chdir('/home/student/Downloads/new_violin_viola/baroque/viola/combined_test')\n",
    "x1=[]\n",
    "y_test=[]\n",
    "for f_name in os.listdir('/home/student/Downloads/new_violin_viola/baroque/viola/combined_test'):\n",
    "    if f_name.endswith('.mp3') or f_name.endswith('.wav'):\n",
    "        print(f_name)\n",
    "        \n",
    "        x, sr = librosa.load(f_name)\n",
    "        hop_length = 512\n",
    "        X = librosa.stft(x)\n",
    "        S = librosa.amplitude_to_db(X, ref=np.max)\n",
    "        \n",
    "        l1 =[]\n",
    "        #by default, there are 1025 frequency bins in 0 to sr/2 (sr = 22050)\n",
    "\n",
    "        \n",
    "        hist=[]\n",
    "        hist1=[]\n",
    "        for i in range(len(S)):\n",
    "            for j in range(len(S[0])):\n",
    "        \n",
    "                if S[i][j]>=(-11):\n",
    "                    temp = i *((22050/2)/1025)\n",
    "            \n",
    "                    if temp >0:\n",
    "                        hist.append(math.log2(temp))\n",
    "                        hist1.append(temp)\n",
    "                        \n",
    "                        \n",
    "        x1.append(hist)\n",
    "        freqViola.append(hist1)\n",
    "        y_test.append(\"viola\")\n",
    "os.chdir('/home/student/Downloads/new_violin_viola/baroque/violin/combined_test')  \n",
    "for f_name in os.listdir('/home/student/Downloads/new_violin_viola/baroque/violin/combined_test'):\n",
    "    if f_name.endswith('.mp3') or f_name.endswith('.wav'):\n",
    "        print(f_name)\n",
    "        \n",
    "        x, sr = librosa.load(f_name)\n",
    "        hop_length = 512\n",
    "        X = librosa.stft(x)\n",
    "        S = librosa.amplitude_to_db(X, ref=np.max)\n",
    "        \n",
    "        l1 =[]\n",
    "        #by default, there are 1025 frequency bins in 0 to sr/2 (sr = 22050)\n",
    "\n",
    "        \n",
    "        hist=[]\n",
    "        hist1=[]\n",
    "        for i in range(len(S)):\n",
    "            for j in range(len(S[0])):\n",
    "        \n",
    "                if S[i][j]>=(-11):\n",
    "                    temp = i *((22050/2)/1025)\n",
    "            \n",
    "                    if temp >0:\n",
    "                        hist.append(math.log2(temp))\n",
    "                        hist1.append(temp)\n",
    "                        \n",
    "        x1.append(hist)\n",
    "        freqViolin.append(hist1)\n",
    "        y_test.append(\"violin\")\n",
    "\n",
    "import pandas as pd\n",
    "import numpy as np\n",
    "import matplotlib.pyplot as plt\n",
    "from sklearn.model_selection import train_test_split\n",
    "import statistics \n",
    "\n",
    "X_test= [[statistics.mean(a), statistics.median(a),  min(a), max(a),np.percentile(np.array(a), 25), np.percentile(np.array(a), 75)] for a in x1]\n",
    "\n",
    " "
   ]
  },
  {
   "cell_type": "code",
   "execution_count": 13,
   "metadata": {},
   "outputs": [
    {
     "name": "stdout",
     "output_type": "stream",
     "text": [
      "Romantic test on Classical\n",
      "[[3 3]\n",
      " [2 4]]\n",
      "Accuracy0.5833333333333334\n",
      "              precision    recall  f1-score   support\n",
      "\n",
      "       viola       0.60      0.50      0.55         6\n",
      "      violin       0.57      0.67      0.62         6\n",
      "\n",
      "    accuracy                           0.58        12\n",
      "   macro avg       0.59      0.58      0.58        12\n",
      "weighted avg       0.59      0.58      0.58        12\n",
      "\n",
      "Accuracy: 0.5833333333333334\n"
     ]
    }
   ],
   "source": [
    "from numpy.random import seed\n",
    "seed(14) \n",
    "from sklearn import metrics\n",
    "from sklearn.metrics import classification_report, confusion_matrix\n",
    "from sklearn.ensemble import RandomForestClassifier\n",
    "from sklearn.metrics import accuracy_score\n",
    "classifier = RandomForestClassifier(max_depth=10, random_state=0)\n",
    "\n",
    "classifier.fit(X_train, y_train)\n",
    "y_pred = classifier.predict(X_test)\n",
    "print(\"Romantic test on Classical\")\n",
    "print(confusion_matrix(y_test, y_pred))\n",
    "print('Accuracy' + str(accuracy_score(y_test, y_pred)))\n",
    "print(classification_report(y_test,y_pred))\n",
    "print(\"Accuracy:\",metrics.accuracy_score(y_test, y_pred))"
   ]
  },
  {
   "cell_type": "code",
   "execution_count": 14,
   "metadata": {},
   "outputs": [
    {
     "name": "stdout",
     "output_type": "stream",
     "text": [
      "Adagio and Allegro in A-Flat Major Op 70 Langsam mit innigem Ausdruck (Adagio)_PROCESSED.wav\n"
     ]
    },
    {
     "name": "stderr",
     "output_type": "stream",
     "text": [
      "/home/student/.local/lib/python3.6/site-packages/librosa/core/spectrum.py:1642: UserWarning: amplitude_to_db was called on complex input so phase information will be discarded. To suppress this warning, call amplitude_to_db(np.abs(S)) instead.\n",
      "  \"amplitude_to_db was called on complex input so phase \"\n"
     ]
    },
    {
     "name": "stdout",
     "output_type": "stream",
     "text": [
      "MÃ¤rchenerzÃ¤hlungen for Clarinet, Viola and Piano, Op_PROCESSED.wav\n",
      "Mikhail Glinka - Viola Sonata in D Minor_PROCESSED.wav\n",
      "Adagio and Allegro in A-Flat Major, Op 70 Rasch und feurig_PROCESSED.wav\n",
      "Tchaikovsky, Viola, Passion Confession_PROCESSED.wav\n",
      "Viola Sonata in C Minor, Movement 1, Adagio - Allegro_ Felix Mendelssohn_PROCESSED.wav\n",
      "5 Gedichte WWV 91 V TrÃ¤ume (Wagner)_PROCESSED.wav\n",
      "Song Without Words Op 2 No 3 (Tchaikovsky)_PROCESSED.wav\n",
      "Das Lied der Geige Op 2 (Schebek)_PROCESSED.wav\n",
      "3 Pieces Op 11 Mazurka in F-Sharp Minor (Chopin)_PROCESSED.wav\n",
      "Hungarian Dance No 1 WoO 1_PROCESSED.wav\n",
      "Tchaikovsky, Viola, Passion Confession_PROCESSED.wav\n"
     ]
    }
   ],
   "source": [
    "os.chdir('/home/student/Downloads/new_violin_viola/romantic/viola/combined_test')\n",
    "x1=[]\n",
    "y_test=[]\n",
    "for f_name in os.listdir('/home/student/Downloads/new_violin_viola/romantic/viola/combined_test'):\n",
    "    if f_name.endswith('.mp3') or f_name.endswith('.wav'):\n",
    "        print(f_name)\n",
    "        \n",
    "        x, sr = librosa.load(f_name)\n",
    "        hop_length = 512\n",
    "        X = librosa.stft(x)\n",
    "        S = librosa.amplitude_to_db(X, ref=np.max)\n",
    "        \n",
    "        l1 =[]\n",
    "        #by default, there are 1025 frequency bins in 0 to sr/2 (sr = 22050)\n",
    "\n",
    "        \n",
    "        hist=[]\n",
    "        hist1=[]\n",
    "        for i in range(len(S)):\n",
    "            for j in range(len(S[0])):\n",
    "        \n",
    "                if S[i][j]>=(-11):\n",
    "                    temp = i *((22050/2)/1025)\n",
    "            \n",
    "                    if temp >0:\n",
    "                        hist.append(math.log2(temp))\n",
    "                        hist1.append(temp)\n",
    "                        \n",
    "                        \n",
    "        x1.append(hist)\n",
    "        freqViola.append(hist1)\n",
    "        y_test.append(\"viola\")\n",
    "os.chdir('/home/student/Downloads/new_violin_viola/romantic/violin/combined_test')  \n",
    "for f_name in os.listdir('/home/student/Downloads/new_violin_viola/romantic/violin/combined_test'):\n",
    "    if f_name.endswith('.mp3') or f_name.endswith('.wav'):\n",
    "        print(f_name)\n",
    "        \n",
    "        x, sr = librosa.load(f_name)\n",
    "        hop_length = 512\n",
    "        X = librosa.stft(x)\n",
    "        S = librosa.amplitude_to_db(X, ref=np.max)\n",
    "        \n",
    "        l1 =[]\n",
    "        #by default, there are 1025 frequency bins in 0 to sr/2 (sr = 22050)\n",
    "\n",
    "        \n",
    "        hist=[]\n",
    "        hist1=[]\n",
    "        for i in range(len(S)):\n",
    "            for j in range(len(S[0])):\n",
    "        \n",
    "                if S[i][j]>=(-11):\n",
    "                    temp = i *((22050/2)/1025)\n",
    "            \n",
    "                    if temp >0:\n",
    "                        hist.append(math.log2(temp))\n",
    "                        hist1.append(temp)\n",
    "                        \n",
    "        x1.append(hist)\n",
    "        freqViolin.append(hist1)\n",
    "        y_test.append(\"violin\")\n",
    "\n",
    "import pandas as pd\n",
    "import numpy as np\n",
    "import matplotlib.pyplot as plt\n",
    "from sklearn.model_selection import train_test_split\n",
    "import statistics \n",
    "\n",
    "X_test= [[statistics.mean(a), statistics.median(a),  min(a), max(a),np.percentile(np.array(a), 25), np.percentile(np.array(a), 75)] for a in x1]\n",
    "\n",
    " "
   ]
  },
  {
   "cell_type": "code",
   "execution_count": 15,
   "metadata": {},
   "outputs": [
    {
     "name": "stdout",
     "output_type": "stream",
     "text": [
      "Romantic test on Classical\n",
      "[[4 2]\n",
      " [1 5]]\n",
      "Accuracy0.75\n",
      "              precision    recall  f1-score   support\n",
      "\n",
      "       viola       0.80      0.67      0.73         6\n",
      "      violin       0.71      0.83      0.77         6\n",
      "\n",
      "    accuracy                           0.75        12\n",
      "   macro avg       0.76      0.75      0.75        12\n",
      "weighted avg       0.76      0.75      0.75        12\n",
      "\n",
      "Accuracy: 0.75\n"
     ]
    }
   ],
   "source": [
    "from numpy.random import seed\n",
    "seed(14) \n",
    "from sklearn import metrics\n",
    "from sklearn.metrics import classification_report, confusion_matrix\n",
    "from sklearn.ensemble import RandomForestClassifier\n",
    "from sklearn.metrics import accuracy_score\n",
    "classifier = RandomForestClassifier(max_depth=10, random_state=0)\n",
    "\n",
    "classifier.fit(X_train, y_train)\n",
    "y_pred = classifier.predict(X_test)\n",
    "print(\"Romantic test on Classical\")\n",
    "print(confusion_matrix(y_test, y_pred))\n",
    "print('Accuracy' + str(accuracy_score(y_test, y_pred)))\n",
    "print(classification_report(y_test,y_pred))\n",
    "print(\"Accuracy:\",metrics.accuracy_score(y_test, y_pred))"
   ]
  },
  {
   "cell_type": "code",
   "execution_count": 18,
   "metadata": {},
   "outputs": [
    {
     "data": {
      "application/vnd.plotly.v1+json": {
       "config": {
        "plotlyServerURL": "https://plot.ly"
       },
       "data": [
        {
         "hovertemplate": "color=viola<br>0=%{x}<br>1=%{y}<extra></extra>",
         "legendgroup": "viola",
         "marker": {
          "color": "#636efa",
          "symbol": "circle"
         },
         "mode": "markers",
         "name": "viola",
         "showlegend": true,
         "type": "scatter",
         "x": [
          -0.04612686521010653,
          -0.06237044140230083,
          0.9440203898600952,
          1.179932764014241,
          -0.40912607448105304,
          -0.7341437245236341,
          1.1164693148035,
          0.16549751788900147,
          -0.37382120585024037,
          0.056440992799827935,
          0.15985106401837604,
          -0.443045500334695,
          0.14084731007904608,
          1.1780743971483052,
          0.37934279740008725,
          0.16439308857163712,
          -0.2283142095068809,
          -0.3504755757089939,
          1.3608758445975726,
          0.04349971363397492
         ],
         "xaxis": "x",
         "y": [
          -0.28334729539482884,
          -0.24203143882644845,
          0.4930207114174981,
          0.507982817159774,
          0.1916855820639949,
          0.4950320396592542,
          0.8310130131767883,
          -0.2338140427809702,
          0.8329791775504741,
          -0.11028590552437659,
          -0.25445560614255625,
          -0.4029739294404214,
          -0.20496289141858337,
          -0.8543443683398173,
          0.19549847661217884,
          0.5140047097179132,
          -0.13998993319888092,
          0.13057996825925247,
          0.46731841948824265,
          -0.606473111426855
         ],
         "yaxis": "y"
        },
        {
         "hovertemplate": "color=violin<br>0=%{x}<br>1=%{y}<extra></extra>",
         "legendgroup": "violin",
         "marker": {
          "color": "#EF553B",
          "symbol": "circle"
         },
         "mode": "markers",
         "name": "violin",
         "showlegend": true,
         "type": "scatter",
         "x": [
          0.05430940656104701,
          -0.824181519965481,
          0.32018237830904017,
          0.11230565029730198,
          -0.5808296097645876,
          0.27709519087556556,
          -0.24566317895936754,
          -1.1983707963852204,
          -0.8348736933834057,
          0.7233866289370148,
          -0.6750509754729297,
          0.16549751788900147,
          0.42279647317713026,
          0.056440992799827935,
          -0.541442102666278,
          -1.1751963746266965,
          -0.3440563329382958,
          -0.6317957067606325,
          -0.6832513903182654,
          1.3608758445975726
         ],
         "xaxis": "x",
         "y": [
          -0.169365487790608,
          0.21373791571883027,
          -0.39941462699855873,
          0.25870785137362473,
          -0.12610820758246913,
          0.03302319495003819,
          -0.5015695125564966,
          0.26764990169522884,
          0.06737465125333454,
          -0.8407918351333566,
          -0.26449777871511726,
          -0.2338140427809702,
          -0.4258194195611968,
          -0.11028590552437659,
          0.28786731984259956,
          0.09162659349376538,
          -0.8639026654618964,
          -0.1785879232443606,
          1.1004151649220764,
          0.46731841948824265
         ],
         "yaxis": "y"
        }
       ],
       "layout": {
        "font": {
         "color": "#7f7f7f",
         "family": "Courier New, monospace",
         "size": 18
        },
        "legend": {
         "title": {
          "text": "color"
         },
         "tracegroupgap": 0,
         "x": 0,
         "xanchor": "left",
         "y": 0.99,
         "yanchor": "top"
        },
        "margin": {
         "t": 60
        },
        "template": {
         "data": {
          "bar": [
           {
            "error_x": {
             "color": "#2a3f5f"
            },
            "error_y": {
             "color": "#2a3f5f"
            },
            "marker": {
             "line": {
              "color": "#E5ECF6",
              "width": 0.5
             }
            },
            "type": "bar"
           }
          ],
          "barpolar": [
           {
            "marker": {
             "line": {
              "color": "#E5ECF6",
              "width": 0.5
             }
            },
            "type": "barpolar"
           }
          ],
          "carpet": [
           {
            "aaxis": {
             "endlinecolor": "#2a3f5f",
             "gridcolor": "white",
             "linecolor": "white",
             "minorgridcolor": "white",
             "startlinecolor": "#2a3f5f"
            },
            "baxis": {
             "endlinecolor": "#2a3f5f",
             "gridcolor": "white",
             "linecolor": "white",
             "minorgridcolor": "white",
             "startlinecolor": "#2a3f5f"
            },
            "type": "carpet"
           }
          ],
          "choropleth": [
           {
            "colorbar": {
             "outlinewidth": 0,
             "ticks": ""
            },
            "type": "choropleth"
           }
          ],
          "contour": [
           {
            "colorbar": {
             "outlinewidth": 0,
             "ticks": ""
            },
            "colorscale": [
             [
              0,
              "#0d0887"
             ],
             [
              0.1111111111111111,
              "#46039f"
             ],
             [
              0.2222222222222222,
              "#7201a8"
             ],
             [
              0.3333333333333333,
              "#9c179e"
             ],
             [
              0.4444444444444444,
              "#bd3786"
             ],
             [
              0.5555555555555556,
              "#d8576b"
             ],
             [
              0.6666666666666666,
              "#ed7953"
             ],
             [
              0.7777777777777778,
              "#fb9f3a"
             ],
             [
              0.8888888888888888,
              "#fdca26"
             ],
             [
              1,
              "#f0f921"
             ]
            ],
            "type": "contour"
           }
          ],
          "contourcarpet": [
           {
            "colorbar": {
             "outlinewidth": 0,
             "ticks": ""
            },
            "type": "contourcarpet"
           }
          ],
          "heatmap": [
           {
            "colorbar": {
             "outlinewidth": 0,
             "ticks": ""
            },
            "colorscale": [
             [
              0,
              "#0d0887"
             ],
             [
              0.1111111111111111,
              "#46039f"
             ],
             [
              0.2222222222222222,
              "#7201a8"
             ],
             [
              0.3333333333333333,
              "#9c179e"
             ],
             [
              0.4444444444444444,
              "#bd3786"
             ],
             [
              0.5555555555555556,
              "#d8576b"
             ],
             [
              0.6666666666666666,
              "#ed7953"
             ],
             [
              0.7777777777777778,
              "#fb9f3a"
             ],
             [
              0.8888888888888888,
              "#fdca26"
             ],
             [
              1,
              "#f0f921"
             ]
            ],
            "type": "heatmap"
           }
          ],
          "heatmapgl": [
           {
            "colorbar": {
             "outlinewidth": 0,
             "ticks": ""
            },
            "colorscale": [
             [
              0,
              "#0d0887"
             ],
             [
              0.1111111111111111,
              "#46039f"
             ],
             [
              0.2222222222222222,
              "#7201a8"
             ],
             [
              0.3333333333333333,
              "#9c179e"
             ],
             [
              0.4444444444444444,
              "#bd3786"
             ],
             [
              0.5555555555555556,
              "#d8576b"
             ],
             [
              0.6666666666666666,
              "#ed7953"
             ],
             [
              0.7777777777777778,
              "#fb9f3a"
             ],
             [
              0.8888888888888888,
              "#fdca26"
             ],
             [
              1,
              "#f0f921"
             ]
            ],
            "type": "heatmapgl"
           }
          ],
          "histogram": [
           {
            "marker": {
             "colorbar": {
              "outlinewidth": 0,
              "ticks": ""
             }
            },
            "type": "histogram"
           }
          ],
          "histogram2d": [
           {
            "colorbar": {
             "outlinewidth": 0,
             "ticks": ""
            },
            "colorscale": [
             [
              0,
              "#0d0887"
             ],
             [
              0.1111111111111111,
              "#46039f"
             ],
             [
              0.2222222222222222,
              "#7201a8"
             ],
             [
              0.3333333333333333,
              "#9c179e"
             ],
             [
              0.4444444444444444,
              "#bd3786"
             ],
             [
              0.5555555555555556,
              "#d8576b"
             ],
             [
              0.6666666666666666,
              "#ed7953"
             ],
             [
              0.7777777777777778,
              "#fb9f3a"
             ],
             [
              0.8888888888888888,
              "#fdca26"
             ],
             [
              1,
              "#f0f921"
             ]
            ],
            "type": "histogram2d"
           }
          ],
          "histogram2dcontour": [
           {
            "colorbar": {
             "outlinewidth": 0,
             "ticks": ""
            },
            "colorscale": [
             [
              0,
              "#0d0887"
             ],
             [
              0.1111111111111111,
              "#46039f"
             ],
             [
              0.2222222222222222,
              "#7201a8"
             ],
             [
              0.3333333333333333,
              "#9c179e"
             ],
             [
              0.4444444444444444,
              "#bd3786"
             ],
             [
              0.5555555555555556,
              "#d8576b"
             ],
             [
              0.6666666666666666,
              "#ed7953"
             ],
             [
              0.7777777777777778,
              "#fb9f3a"
             ],
             [
              0.8888888888888888,
              "#fdca26"
             ],
             [
              1,
              "#f0f921"
             ]
            ],
            "type": "histogram2dcontour"
           }
          ],
          "mesh3d": [
           {
            "colorbar": {
             "outlinewidth": 0,
             "ticks": ""
            },
            "type": "mesh3d"
           }
          ],
          "parcoords": [
           {
            "line": {
             "colorbar": {
              "outlinewidth": 0,
              "ticks": ""
             }
            },
            "type": "parcoords"
           }
          ],
          "pie": [
           {
            "automargin": true,
            "type": "pie"
           }
          ],
          "scatter": [
           {
            "marker": {
             "colorbar": {
              "outlinewidth": 0,
              "ticks": ""
             }
            },
            "type": "scatter"
           }
          ],
          "scatter3d": [
           {
            "line": {
             "colorbar": {
              "outlinewidth": 0,
              "ticks": ""
             }
            },
            "marker": {
             "colorbar": {
              "outlinewidth": 0,
              "ticks": ""
             }
            },
            "type": "scatter3d"
           }
          ],
          "scattercarpet": [
           {
            "marker": {
             "colorbar": {
              "outlinewidth": 0,
              "ticks": ""
             }
            },
            "type": "scattercarpet"
           }
          ],
          "scattergeo": [
           {
            "marker": {
             "colorbar": {
              "outlinewidth": 0,
              "ticks": ""
             }
            },
            "type": "scattergeo"
           }
          ],
          "scattergl": [
           {
            "marker": {
             "colorbar": {
              "outlinewidth": 0,
              "ticks": ""
             }
            },
            "type": "scattergl"
           }
          ],
          "scattermapbox": [
           {
            "marker": {
             "colorbar": {
              "outlinewidth": 0,
              "ticks": ""
             }
            },
            "type": "scattermapbox"
           }
          ],
          "scatterpolar": [
           {
            "marker": {
             "colorbar": {
              "outlinewidth": 0,
              "ticks": ""
             }
            },
            "type": "scatterpolar"
           }
          ],
          "scatterpolargl": [
           {
            "marker": {
             "colorbar": {
              "outlinewidth": 0,
              "ticks": ""
             }
            },
            "type": "scatterpolargl"
           }
          ],
          "scatterternary": [
           {
            "marker": {
             "colorbar": {
              "outlinewidth": 0,
              "ticks": ""
             }
            },
            "type": "scatterternary"
           }
          ],
          "surface": [
           {
            "colorbar": {
             "outlinewidth": 0,
             "ticks": ""
            },
            "colorscale": [
             [
              0,
              "#0d0887"
             ],
             [
              0.1111111111111111,
              "#46039f"
             ],
             [
              0.2222222222222222,
              "#7201a8"
             ],
             [
              0.3333333333333333,
              "#9c179e"
             ],
             [
              0.4444444444444444,
              "#bd3786"
             ],
             [
              0.5555555555555556,
              "#d8576b"
             ],
             [
              0.6666666666666666,
              "#ed7953"
             ],
             [
              0.7777777777777778,
              "#fb9f3a"
             ],
             [
              0.8888888888888888,
              "#fdca26"
             ],
             [
              1,
              "#f0f921"
             ]
            ],
            "type": "surface"
           }
          ],
          "table": [
           {
            "cells": {
             "fill": {
              "color": "#EBF0F8"
             },
             "line": {
              "color": "white"
             }
            },
            "header": {
             "fill": {
              "color": "#C8D4E3"
             },
             "line": {
              "color": "white"
             }
            },
            "type": "table"
           }
          ]
         },
         "layout": {
          "annotationdefaults": {
           "arrowcolor": "#2a3f5f",
           "arrowhead": 0,
           "arrowwidth": 1
          },
          "coloraxis": {
           "colorbar": {
            "outlinewidth": 0,
            "ticks": ""
           }
          },
          "colorscale": {
           "diverging": [
            [
             0,
             "#8e0152"
            ],
            [
             0.1,
             "#c51b7d"
            ],
            [
             0.2,
             "#de77ae"
            ],
            [
             0.3,
             "#f1b6da"
            ],
            [
             0.4,
             "#fde0ef"
            ],
            [
             0.5,
             "#f7f7f7"
            ],
            [
             0.6,
             "#e6f5d0"
            ],
            [
             0.7,
             "#b8e186"
            ],
            [
             0.8,
             "#7fbc41"
            ],
            [
             0.9,
             "#4d9221"
            ],
            [
             1,
             "#276419"
            ]
           ],
           "sequential": [
            [
             0,
             "#0d0887"
            ],
            [
             0.1111111111111111,
             "#46039f"
            ],
            [
             0.2222222222222222,
             "#7201a8"
            ],
            [
             0.3333333333333333,
             "#9c179e"
            ],
            [
             0.4444444444444444,
             "#bd3786"
            ],
            [
             0.5555555555555556,
             "#d8576b"
            ],
            [
             0.6666666666666666,
             "#ed7953"
            ],
            [
             0.7777777777777778,
             "#fb9f3a"
            ],
            [
             0.8888888888888888,
             "#fdca26"
            ],
            [
             1,
             "#f0f921"
            ]
           ],
           "sequentialminus": [
            [
             0,
             "#0d0887"
            ],
            [
             0.1111111111111111,
             "#46039f"
            ],
            [
             0.2222222222222222,
             "#7201a8"
            ],
            [
             0.3333333333333333,
             "#9c179e"
            ],
            [
             0.4444444444444444,
             "#bd3786"
            ],
            [
             0.5555555555555556,
             "#d8576b"
            ],
            [
             0.6666666666666666,
             "#ed7953"
            ],
            [
             0.7777777777777778,
             "#fb9f3a"
            ],
            [
             0.8888888888888888,
             "#fdca26"
            ],
            [
             1,
             "#f0f921"
            ]
           ]
          },
          "colorway": [
           "#636efa",
           "#EF553B",
           "#00cc96",
           "#ab63fa",
           "#FFA15A",
           "#19d3f3",
           "#FF6692",
           "#B6E880",
           "#FF97FF",
           "#FECB52"
          ],
          "font": {
           "color": "#2a3f5f"
          },
          "geo": {
           "bgcolor": "white",
           "lakecolor": "white",
           "landcolor": "#E5ECF6",
           "showlakes": true,
           "showland": true,
           "subunitcolor": "white"
          },
          "hoverlabel": {
           "align": "left"
          },
          "hovermode": "closest",
          "mapbox": {
           "style": "light"
          },
          "paper_bgcolor": "white",
          "plot_bgcolor": "#E5ECF6",
          "polar": {
           "angularaxis": {
            "gridcolor": "white",
            "linecolor": "white",
            "ticks": ""
           },
           "bgcolor": "#E5ECF6",
           "radialaxis": {
            "gridcolor": "white",
            "linecolor": "white",
            "ticks": ""
           }
          },
          "scene": {
           "xaxis": {
            "backgroundcolor": "#E5ECF6",
            "gridcolor": "white",
            "gridwidth": 2,
            "linecolor": "white",
            "showbackground": true,
            "ticks": "",
            "zerolinecolor": "white"
           },
           "yaxis": {
            "backgroundcolor": "#E5ECF6",
            "gridcolor": "white",
            "gridwidth": 2,
            "linecolor": "white",
            "showbackground": true,
            "ticks": "",
            "zerolinecolor": "white"
           },
           "zaxis": {
            "backgroundcolor": "#E5ECF6",
            "gridcolor": "white",
            "gridwidth": 2,
            "linecolor": "white",
            "showbackground": true,
            "ticks": "",
            "zerolinecolor": "white"
           }
          },
          "shapedefaults": {
           "line": {
            "color": "#2a3f5f"
           }
          },
          "ternary": {
           "aaxis": {
            "gridcolor": "white",
            "linecolor": "white",
            "ticks": ""
           },
           "baxis": {
            "gridcolor": "white",
            "linecolor": "white",
            "ticks": ""
           },
           "bgcolor": "#E5ECF6",
           "caxis": {
            "gridcolor": "white",
            "linecolor": "white",
            "ticks": ""
           }
          },
          "title": {
           "x": 0.05
          },
          "xaxis": {
           "automargin": true,
           "gridcolor": "white",
           "linecolor": "white",
           "ticks": "",
           "title": {
            "standoff": 15
           },
           "zerolinecolor": "white",
           "zerolinewidth": 2
          },
          "yaxis": {
           "automargin": true,
           "gridcolor": "white",
           "linecolor": "white",
           "ticks": "",
           "title": {
            "standoff": 15
           },
           "zerolinecolor": "white",
           "zerolinewidth": 2
          }
         }
        },
        "title": {
         "text": ""
        },
        "xaxis": {
         "anchor": "y",
         "domain": [
          0,
          1
         ],
         "title": {
          "text": "First Component"
         }
        },
        "yaxis": {
         "anchor": "x",
         "domain": [
          0,
          1
         ],
         "title": {
          "text": "Second Component"
         }
        }
       }
      },
      "text/html": [
       "<div>\n",
       "        \n",
       "        \n",
       "            <div id=\"303a2e14-4551-4041-8230-7bbd15162bb1\" class=\"plotly-graph-div\" style=\"height:525px; width:100%;\"></div>\n",
       "            <script type=\"text/javascript\">\n",
       "                require([\"plotly\"], function(Plotly) {\n",
       "                    window.PLOTLYENV=window.PLOTLYENV || {};\n",
       "                    \n",
       "                if (document.getElementById(\"303a2e14-4551-4041-8230-7bbd15162bb1\")) {\n",
       "                    Plotly.newPlot(\n",
       "                        '303a2e14-4551-4041-8230-7bbd15162bb1',\n",
       "                        [{\"hovertemplate\": \"color=viola<br>0=%{x}<br>1=%{y}<extra></extra>\", \"legendgroup\": \"viola\", \"marker\": {\"color\": \"#636efa\", \"symbol\": \"circle\"}, \"mode\": \"markers\", \"name\": \"viola\", \"showlegend\": true, \"type\": \"scatter\", \"x\": [-0.04612686521010653, -0.06237044140230083, 0.9440203898600952, 1.179932764014241, -0.40912607448105304, -0.7341437245236341, 1.1164693148035, 0.16549751788900147, -0.37382120585024037, 0.056440992799827935, 0.15985106401837604, -0.443045500334695, 0.14084731007904608, 1.1780743971483052, 0.37934279740008725, 0.16439308857163712, -0.2283142095068809, -0.3504755757089939, 1.3608758445975726, 0.04349971363397492], \"xaxis\": \"x\", \"y\": [-0.28334729539482884, -0.24203143882644845, 0.4930207114174981, 0.507982817159774, 0.1916855820639949, 0.4950320396592542, 0.8310130131767883, -0.2338140427809702, 0.8329791775504741, -0.11028590552437659, -0.25445560614255625, -0.4029739294404214, -0.20496289141858337, -0.8543443683398173, 0.19549847661217884, 0.5140047097179132, -0.13998993319888092, 0.13057996825925247, 0.46731841948824265, -0.606473111426855], \"yaxis\": \"y\"}, {\"hovertemplate\": \"color=violin<br>0=%{x}<br>1=%{y}<extra></extra>\", \"legendgroup\": \"violin\", \"marker\": {\"color\": \"#EF553B\", \"symbol\": \"circle\"}, \"mode\": \"markers\", \"name\": \"violin\", \"showlegend\": true, \"type\": \"scatter\", \"x\": [0.05430940656104701, -0.824181519965481, 0.32018237830904017, 0.11230565029730198, -0.5808296097645876, 0.27709519087556556, -0.24566317895936754, -1.1983707963852204, -0.8348736933834057, 0.7233866289370148, -0.6750509754729297, 0.16549751788900147, 0.42279647317713026, 0.056440992799827935, -0.541442102666278, -1.1751963746266965, -0.3440563329382958, -0.6317957067606325, -0.6832513903182654, 1.3608758445975726], \"xaxis\": \"x\", \"y\": [-0.169365487790608, 0.21373791571883027, -0.39941462699855873, 0.25870785137362473, -0.12610820758246913, 0.03302319495003819, -0.5015695125564966, 0.26764990169522884, 0.06737465125333454, -0.8407918351333566, -0.26449777871511726, -0.2338140427809702, -0.4258194195611968, -0.11028590552437659, 0.28786731984259956, 0.09162659349376538, -0.8639026654618964, -0.1785879232443606, 1.1004151649220764, 0.46731841948824265], \"yaxis\": \"y\"}],\n",
       "                        {\"font\": {\"color\": \"#7f7f7f\", \"family\": \"Courier New, monospace\", \"size\": 18}, \"legend\": {\"title\": {\"text\": \"color\"}, \"tracegroupgap\": 0, \"x\": 0.0, \"xanchor\": \"left\", \"y\": 0.99, \"yanchor\": \"top\"}, \"margin\": {\"t\": 60}, \"template\": {\"data\": {\"bar\": [{\"error_x\": {\"color\": \"#2a3f5f\"}, \"error_y\": {\"color\": \"#2a3f5f\"}, \"marker\": {\"line\": {\"color\": \"#E5ECF6\", \"width\": 0.5}}, \"type\": \"bar\"}], \"barpolar\": [{\"marker\": {\"line\": {\"color\": \"#E5ECF6\", \"width\": 0.5}}, \"type\": \"barpolar\"}], \"carpet\": [{\"aaxis\": {\"endlinecolor\": \"#2a3f5f\", \"gridcolor\": \"white\", \"linecolor\": \"white\", \"minorgridcolor\": \"white\", \"startlinecolor\": \"#2a3f5f\"}, \"baxis\": {\"endlinecolor\": \"#2a3f5f\", \"gridcolor\": \"white\", \"linecolor\": \"white\", \"minorgridcolor\": \"white\", \"startlinecolor\": \"#2a3f5f\"}, \"type\": \"carpet\"}], \"choropleth\": [{\"colorbar\": {\"outlinewidth\": 0, \"ticks\": \"\"}, \"type\": \"choropleth\"}], \"contour\": [{\"colorbar\": {\"outlinewidth\": 0, \"ticks\": \"\"}, \"colorscale\": [[0.0, \"#0d0887\"], [0.1111111111111111, \"#46039f\"], [0.2222222222222222, \"#7201a8\"], [0.3333333333333333, \"#9c179e\"], [0.4444444444444444, \"#bd3786\"], [0.5555555555555556, \"#d8576b\"], [0.6666666666666666, \"#ed7953\"], [0.7777777777777778, \"#fb9f3a\"], [0.8888888888888888, \"#fdca26\"], [1.0, \"#f0f921\"]], \"type\": \"contour\"}], \"contourcarpet\": [{\"colorbar\": {\"outlinewidth\": 0, \"ticks\": \"\"}, \"type\": \"contourcarpet\"}], \"heatmap\": [{\"colorbar\": {\"outlinewidth\": 0, \"ticks\": \"\"}, \"colorscale\": [[0.0, \"#0d0887\"], [0.1111111111111111, \"#46039f\"], [0.2222222222222222, \"#7201a8\"], [0.3333333333333333, \"#9c179e\"], [0.4444444444444444, \"#bd3786\"], [0.5555555555555556, \"#d8576b\"], [0.6666666666666666, \"#ed7953\"], [0.7777777777777778, \"#fb9f3a\"], [0.8888888888888888, \"#fdca26\"], [1.0, \"#f0f921\"]], \"type\": \"heatmap\"}], \"heatmapgl\": [{\"colorbar\": {\"outlinewidth\": 0, \"ticks\": \"\"}, \"colorscale\": [[0.0, \"#0d0887\"], [0.1111111111111111, \"#46039f\"], [0.2222222222222222, \"#7201a8\"], [0.3333333333333333, \"#9c179e\"], [0.4444444444444444, \"#bd3786\"], [0.5555555555555556, \"#d8576b\"], [0.6666666666666666, \"#ed7953\"], [0.7777777777777778, \"#fb9f3a\"], [0.8888888888888888, \"#fdca26\"], [1.0, \"#f0f921\"]], \"type\": \"heatmapgl\"}], \"histogram\": [{\"marker\": {\"colorbar\": {\"outlinewidth\": 0, \"ticks\": \"\"}}, \"type\": \"histogram\"}], \"histogram2d\": [{\"colorbar\": {\"outlinewidth\": 0, \"ticks\": \"\"}, \"colorscale\": [[0.0, \"#0d0887\"], [0.1111111111111111, \"#46039f\"], [0.2222222222222222, \"#7201a8\"], [0.3333333333333333, \"#9c179e\"], [0.4444444444444444, \"#bd3786\"], [0.5555555555555556, \"#d8576b\"], [0.6666666666666666, \"#ed7953\"], [0.7777777777777778, \"#fb9f3a\"], [0.8888888888888888, \"#fdca26\"], [1.0, \"#f0f921\"]], \"type\": \"histogram2d\"}], \"histogram2dcontour\": [{\"colorbar\": {\"outlinewidth\": 0, \"ticks\": \"\"}, \"colorscale\": [[0.0, \"#0d0887\"], [0.1111111111111111, \"#46039f\"], [0.2222222222222222, \"#7201a8\"], [0.3333333333333333, \"#9c179e\"], [0.4444444444444444, \"#bd3786\"], [0.5555555555555556, \"#d8576b\"], [0.6666666666666666, \"#ed7953\"], [0.7777777777777778, \"#fb9f3a\"], [0.8888888888888888, \"#fdca26\"], [1.0, \"#f0f921\"]], \"type\": \"histogram2dcontour\"}], \"mesh3d\": [{\"colorbar\": {\"outlinewidth\": 0, \"ticks\": \"\"}, \"type\": \"mesh3d\"}], \"parcoords\": [{\"line\": {\"colorbar\": {\"outlinewidth\": 0, \"ticks\": \"\"}}, \"type\": \"parcoords\"}], \"pie\": [{\"automargin\": true, \"type\": \"pie\"}], \"scatter\": [{\"marker\": {\"colorbar\": {\"outlinewidth\": 0, \"ticks\": \"\"}}, \"type\": \"scatter\"}], \"scatter3d\": [{\"line\": {\"colorbar\": {\"outlinewidth\": 0, \"ticks\": \"\"}}, \"marker\": {\"colorbar\": {\"outlinewidth\": 0, \"ticks\": \"\"}}, \"type\": \"scatter3d\"}], \"scattercarpet\": [{\"marker\": {\"colorbar\": {\"outlinewidth\": 0, \"ticks\": \"\"}}, \"type\": \"scattercarpet\"}], \"scattergeo\": [{\"marker\": {\"colorbar\": {\"outlinewidth\": 0, \"ticks\": \"\"}}, \"type\": \"scattergeo\"}], \"scattergl\": [{\"marker\": {\"colorbar\": {\"outlinewidth\": 0, \"ticks\": \"\"}}, \"type\": \"scattergl\"}], \"scattermapbox\": [{\"marker\": {\"colorbar\": {\"outlinewidth\": 0, \"ticks\": \"\"}}, \"type\": \"scattermapbox\"}], \"scatterpolar\": [{\"marker\": {\"colorbar\": {\"outlinewidth\": 0, \"ticks\": \"\"}}, \"type\": \"scatterpolar\"}], \"scatterpolargl\": [{\"marker\": {\"colorbar\": {\"outlinewidth\": 0, \"ticks\": \"\"}}, \"type\": \"scatterpolargl\"}], \"scatterternary\": [{\"marker\": {\"colorbar\": {\"outlinewidth\": 0, \"ticks\": \"\"}}, \"type\": \"scatterternary\"}], \"surface\": [{\"colorbar\": {\"outlinewidth\": 0, \"ticks\": \"\"}, \"colorscale\": [[0.0, \"#0d0887\"], [0.1111111111111111, \"#46039f\"], [0.2222222222222222, \"#7201a8\"], [0.3333333333333333, \"#9c179e\"], [0.4444444444444444, \"#bd3786\"], [0.5555555555555556, \"#d8576b\"], [0.6666666666666666, \"#ed7953\"], [0.7777777777777778, \"#fb9f3a\"], [0.8888888888888888, \"#fdca26\"], [1.0, \"#f0f921\"]], \"type\": \"surface\"}], \"table\": [{\"cells\": {\"fill\": {\"color\": \"#EBF0F8\"}, \"line\": {\"color\": \"white\"}}, \"header\": {\"fill\": {\"color\": \"#C8D4E3\"}, \"line\": {\"color\": \"white\"}}, \"type\": \"table\"}]}, \"layout\": {\"annotationdefaults\": {\"arrowcolor\": \"#2a3f5f\", \"arrowhead\": 0, \"arrowwidth\": 1}, \"coloraxis\": {\"colorbar\": {\"outlinewidth\": 0, \"ticks\": \"\"}}, \"colorscale\": {\"diverging\": [[0, \"#8e0152\"], [0.1, \"#c51b7d\"], [0.2, \"#de77ae\"], [0.3, \"#f1b6da\"], [0.4, \"#fde0ef\"], [0.5, \"#f7f7f7\"], [0.6, \"#e6f5d0\"], [0.7, \"#b8e186\"], [0.8, \"#7fbc41\"], [0.9, \"#4d9221\"], [1, \"#276419\"]], \"sequential\": [[0.0, \"#0d0887\"], [0.1111111111111111, \"#46039f\"], [0.2222222222222222, \"#7201a8\"], [0.3333333333333333, \"#9c179e\"], [0.4444444444444444, \"#bd3786\"], [0.5555555555555556, \"#d8576b\"], [0.6666666666666666, \"#ed7953\"], [0.7777777777777778, \"#fb9f3a\"], [0.8888888888888888, \"#fdca26\"], [1.0, \"#f0f921\"]], \"sequentialminus\": [[0.0, \"#0d0887\"], [0.1111111111111111, \"#46039f\"], [0.2222222222222222, \"#7201a8\"], [0.3333333333333333, \"#9c179e\"], [0.4444444444444444, \"#bd3786\"], [0.5555555555555556, \"#d8576b\"], [0.6666666666666666, \"#ed7953\"], [0.7777777777777778, \"#fb9f3a\"], [0.8888888888888888, \"#fdca26\"], [1.0, \"#f0f921\"]]}, \"colorway\": [\"#636efa\", \"#EF553B\", \"#00cc96\", \"#ab63fa\", \"#FFA15A\", \"#19d3f3\", \"#FF6692\", \"#B6E880\", \"#FF97FF\", \"#FECB52\"], \"font\": {\"color\": \"#2a3f5f\"}, \"geo\": {\"bgcolor\": \"white\", \"lakecolor\": \"white\", \"landcolor\": \"#E5ECF6\", \"showlakes\": true, \"showland\": true, \"subunitcolor\": \"white\"}, \"hoverlabel\": {\"align\": \"left\"}, \"hovermode\": \"closest\", \"mapbox\": {\"style\": \"light\"}, \"paper_bgcolor\": \"white\", \"plot_bgcolor\": \"#E5ECF6\", \"polar\": {\"angularaxis\": {\"gridcolor\": \"white\", \"linecolor\": \"white\", \"ticks\": \"\"}, \"bgcolor\": \"#E5ECF6\", \"radialaxis\": {\"gridcolor\": \"white\", \"linecolor\": \"white\", \"ticks\": \"\"}}, \"scene\": {\"xaxis\": {\"backgroundcolor\": \"#E5ECF6\", \"gridcolor\": \"white\", \"gridwidth\": 2, \"linecolor\": \"white\", \"showbackground\": true, \"ticks\": \"\", \"zerolinecolor\": \"white\"}, \"yaxis\": {\"backgroundcolor\": \"#E5ECF6\", \"gridcolor\": \"white\", \"gridwidth\": 2, \"linecolor\": \"white\", \"showbackground\": true, \"ticks\": \"\", \"zerolinecolor\": \"white\"}, \"zaxis\": {\"backgroundcolor\": \"#E5ECF6\", \"gridcolor\": \"white\", \"gridwidth\": 2, \"linecolor\": \"white\", \"showbackground\": true, \"ticks\": \"\", \"zerolinecolor\": \"white\"}}, \"shapedefaults\": {\"line\": {\"color\": \"#2a3f5f\"}}, \"ternary\": {\"aaxis\": {\"gridcolor\": \"white\", \"linecolor\": \"white\", \"ticks\": \"\"}, \"baxis\": {\"gridcolor\": \"white\", \"linecolor\": \"white\", \"ticks\": \"\"}, \"bgcolor\": \"#E5ECF6\", \"caxis\": {\"gridcolor\": \"white\", \"linecolor\": \"white\", \"ticks\": \"\"}}, \"title\": {\"x\": 0.05}, \"xaxis\": {\"automargin\": true, \"gridcolor\": \"white\", \"linecolor\": \"white\", \"ticks\": \"\", \"title\": {\"standoff\": 15}, \"zerolinecolor\": \"white\", \"zerolinewidth\": 2}, \"yaxis\": {\"automargin\": true, \"gridcolor\": \"white\", \"linecolor\": \"white\", \"ticks\": \"\", \"title\": {\"standoff\": 15}, \"zerolinecolor\": \"white\", \"zerolinewidth\": 2}}}, \"title\": {\"text\": \"\"}, \"xaxis\": {\"anchor\": \"y\", \"domain\": [0.0, 1.0], \"title\": {\"text\": \"First Component\"}}, \"yaxis\": {\"anchor\": \"x\", \"domain\": [0.0, 1.0], \"title\": {\"text\": \"Second Component\"}}},\n",
       "                        {\"responsive\": true}\n",
       "                    ).then(function(){\n",
       "                            \n",
       "var gd = document.getElementById('303a2e14-4551-4041-8230-7bbd15162bb1');\n",
       "var x = new MutationObserver(function (mutations, observer) {{\n",
       "        var display = window.getComputedStyle(gd).display;\n",
       "        if (!display || display === 'none') {{\n",
       "            console.log([gd, 'removed!']);\n",
       "            Plotly.purge(gd);\n",
       "            observer.disconnect();\n",
       "        }}\n",
       "}});\n",
       "\n",
       "// Listen for the removal of the full notebook cells\n",
       "var notebookContainer = gd.closest('#notebook-container');\n",
       "if (notebookContainer) {{\n",
       "    x.observe(notebookContainer, {childList: true});\n",
       "}}\n",
       "\n",
       "// Listen for the clearing of the current output cell\n",
       "var outputEl = gd.closest('.output');\n",
       "if (outputEl) {{\n",
       "    x.observe(outputEl, {childList: true});\n",
       "}}\n",
       "\n",
       "                        })\n",
       "                };\n",
       "                });\n",
       "            </script>\n",
       "        </div>"
      ]
     },
     "metadata": {},
     "output_type": "display_data"
    }
   ],
   "source": [
    "import plotly.express as px\n",
    "import plotly.io as pio\n",
    "from sklearn.decomposition import PCA\n",
    "\n",
    "\n",
    "pca = PCA(n_components=2)\n",
    "components = pca.fit_transform(X_train+X_test)\n",
    "\n",
    "fig = px.scatter(components, x=0, y=1, color=y_train+y_test)\n",
    "fig.update_layout(\n",
    "    title=\"\",\n",
    "    xaxis_title=\"First Component\",\n",
    "    yaxis_title=\"Second Component\",\n",
    "    font=dict(\n",
    "        family=\"Courier New, monospace\",\n",
    "        size=18,\n",
    "        color=\"#7f7f7f\"\n",
    "    ),\n",
    "    legend=dict(\n",
    "    yanchor=\"top\",\n",
    "    y=0.99,\n",
    "    xanchor=\"left\",\n",
    "    x=0.00\n",
    ")\n",
    ")\n",
    "fig.show()\n",
    "#pio.write_image(fig, 'soloAll.png')\n",
    "#fig.write_image(\"soloAll.eps\")"
   ]
  },
  {
   "cell_type": "code",
   "execution_count": null,
   "metadata": {},
   "outputs": [],
   "source": []
  }
 ],
 "metadata": {
  "kernelspec": {
   "display_name": "Python 3",
   "language": "python",
   "name": "python3"
  },
  "language_info": {
   "codemirror_mode": {
    "name": "ipython",
    "version": 3
   },
   "file_extension": ".py",
   "mimetype": "text/x-python",
   "name": "python",
   "nbconvert_exporter": "python",
   "pygments_lexer": "ipython3",
   "version": "3.6.9"
  }
 },
 "nbformat": 4,
 "nbformat_minor": 2
}
