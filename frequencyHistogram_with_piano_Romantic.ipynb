{
 "cells": [
  {
   "cell_type": "code",
   "execution_count": 1,
   "metadata": {},
   "outputs": [
    {
     "name": "stdout",
     "output_type": "stream",
     "text": [
      "Adagio and Allegro in A-Flat Major Op 70 Langsam mit innigem Ausdruck (Adagio)_PROCESSED.wav\n"
     ]
    },
    {
     "name": "stderr",
     "output_type": "stream",
     "text": [
      "/Library/Frameworks/Python.framework/Versions/3.8/lib/python3.8/site-packages/librosa/core/spectrum.py:1641: UserWarning: amplitude_to_db was called on complex input so phase information will be discarded. To suppress this warning, call amplitude_to_db(np.abs(S)) instead.\n",
      "  warnings.warn(\n"
     ]
    },
    {
     "name": "stdout",
     "output_type": "stream",
     "text": [
      "viola sonata op 120 no 1 in F minor Allegro_PROCESSED.wav\n",
      "Mikhail Glinka - Viola Sonata in D Minor_PROCESSED.wav\n",
      "Viola Sonata in C Minor, Movement 1, Adagio - Allegro; Felix Mendelssohn_PROCESSED.wav\n",
      "Schubert StÃ¤ndchen for Viola and Piano - Carr -Petrova Duo_PROCESSED.wav\n",
      "FantasiestÃ¼cke Op 73 I Zart und mit Ausdruck_PROCESSED.wav\n",
      "viola sonata op 120 no 1 in F minor Andante Con Poco Adagio_PROCESSED.wav\n",
      "Romance in A Major Op 94 No 2 (Schumann)_PROCESSED.wav\n",
      "Hungarian Dance No 1 WoO 1_PROCESSED.wav\n",
      "Das Lied der Geige Op 2 (Schebek)_PROCESSED.wav\n",
      "Song Without Words Op 2 No 3 (Tchaikovsky)_PROCESSED.wav\n",
      "3 Pieces Op 11 Mazurka in F-Sharp Minor (Chopin)_PROCESSED.wav\n",
      "5 Gedichte WWV 91 V TrÃ¤ume (Wagner)_PROCESSED.wav\n",
      "Valse scherzo (Tchaikovsky)_PROCESSED.wav\n"
     ]
    }
   ],
   "source": [
    "import os\n",
    "import numpy, scipy, matplotlib.pyplot as plt, IPython.display as ipd\n",
    "import librosa, librosa.display\n",
    "import numpy as np\n",
    "import math\n",
    "os.chdir('/Users/tanchonghong/Documents/1_2020_s2/equal_violin_viola/3_romantic/train/viola')\n",
    "x1=[]\n",
    "y_train=[]\n",
    "mfcc_list_mean = []\n",
    "mfcc_list_std = []\n",
    "\n",
    "for f_name in os.listdir('/Users/tanchonghong/Documents/1_2020_s2/equal_violin_viola/3_romantic/train/viola'):\n",
    "    if f_name.endswith('.wav'):\n",
    "        print(f_name)\n",
    "        #temp = x/x.max()  #normalization\n",
    "        #S = librosa.feature.melspectrogram(temp, sr=sr, n_mels=128)  # 128 mel bands\n",
    "        #mfcc = librosa.feature.mfcc(S=librosa.power_to_db(S), n_mfcc=13)\n",
    "        #tempList = list(np.mean(mfcc,1))\n",
    "        #tempList1 = list(np.std(mfcc,1))\n",
    "        x, sr = librosa.load(f_name)\n",
    "        hop_length = 512\n",
    "        X = librosa.stft(x)\n",
    "        S = librosa.amplitude_to_db(X, ref=np.max)\n",
    "        \n",
    "        l1 =[]\n",
    "        #by default, there are 1025 frequency bins in 0 to sr/2 (sr = 22050)\n",
    "        \n",
    "        \n",
    "        hist=[]\n",
    "        for i in range(len(S)):\n",
    "            for j in range(len(S[0])):\n",
    "        \n",
    "                if S[i][j]>=(-11):\n",
    "                    temp = i *((22050/2)/1025)\n",
    "            \n",
    "                    if temp >0:\n",
    "                        hist.append(math.log2(temp))\n",
    "        x1.append(hist)\n",
    "        y_train.append(\"viola\")\n",
    "os.chdir('/Users/tanchonghong/Documents/1_2020_s2/equal_violin_viola/3_romantic/train/violin')  \n",
    "for f_name in os.listdir('/Users/tanchonghong/Documents/1_2020_s2/equal_violin_viola/3_romantic/train/violin'):\n",
    "    if f_name.endswith('.wav'):\n",
    "        print(f_name)\n",
    "        \n",
    "        x, sr = librosa.load(f_name)\n",
    "        hop_length = 512\n",
    "        X = librosa.stft(x)\n",
    "        S = librosa.amplitude_to_db(X, ref=np.max)\n",
    "        \n",
    "        l1 =[]\n",
    "        #by default, there are 1025 frequency bins in 0 to sr/2 (sr = 22050)\n",
    "\n",
    "        \n",
    "        hist=[]\n",
    "        for i in range(len(S)):\n",
    "            for j in range(len(S[0])):\n",
    "        \n",
    "                if S[i][j]>=(-11):\n",
    "                    temp = i *((22050/2)/1025)\n",
    "            \n",
    "                    if temp >0:\n",
    "                        hist.append(math.log2(temp))\n",
    "        x1.append(hist)\n",
    "        y_train.append(\"violin\")\n",
    "\n",
    "import pandas as pd\n",
    "import numpy as np\n",
    "import matplotlib.pyplot as plt\n",
    "from sklearn.model_selection import train_test_split\n",
    "import statistics \n",
    "\n",
    "#x=[[9.1,9.2,9.3], [9], [9.2,9],[9,9,9,9],[9.5,9.2],[8.5],[8.4,8.3],[8.6,8.5,8.5],[8.4,8.5],[8.5,8.5,8.5]]\n",
    "X_train= [[statistics.mean(a), statistics.median(a), statistics.mode(a), min(a), max(a),np.percentile(np.array(a), 25), np.percentile(np.array(a), 75)] for a in x1]\n",
    "#y=[\"violin\",\"violin\",\"violin\",\"violin\",\"violin\",\"viola\",\"viola\",\"viola\",\"viola\",\"viola\"]\n",
    "    "
   ]
  },
  {
   "cell_type": "code",
   "execution_count": 2,
   "metadata": {},
   "outputs": [
    {
     "name": "stdout",
     "output_type": "stream",
     "text": [
      "viola sonata op 120 no 1 in F minor Vivace_PROCESSED.wav\n"
     ]
    },
    {
     "name": "stderr",
     "output_type": "stream",
     "text": [
      "/Library/Frameworks/Python.framework/Versions/3.8/lib/python3.8/site-packages/librosa/core/spectrum.py:1641: UserWarning: amplitude_to_db was called on complex input so phase information will be discarded. To suppress this warning, call amplitude_to_db(np.abs(S)) instead.\n",
      "  warnings.warn(\n"
     ]
    },
    {
     "name": "stdout",
     "output_type": "stream",
     "text": [
      "viola sonata op 120 no 1 in F minor Allegretto Grazioso_PROCESSED.wav\n",
      "Tchaikovsky, Viola, Passion Confession_PROCESSED.wav\n",
      "Schubert - Ave Maria - Piano and Violin Duet (Josh Chiu on violin)_PROCESSED.wav\n",
      "Sonata in A Major (Paganini)_PROCESSED.wav\n",
      "Chopin Ballade No_PROCESSED.wav\n"
     ]
    }
   ],
   "source": [
    "os.chdir('/Users/tanchonghong/Documents/1_2020_s2/equal_violin_viola/3_romantic/test/viola')\n",
    "x1=[]\n",
    "y_test=[]\n",
    "for f_name in os.listdir('/Users/tanchonghong/Documents/1_2020_s2/equal_violin_viola/3_romantic/test/viola'):\n",
    "    if f_name.endswith('.wav'):\n",
    "        print(f_name)\n",
    "        \n",
    "        x, sr = librosa.load(f_name)\n",
    "        hop_length = 512\n",
    "        X = librosa.stft(x)\n",
    "        S = librosa.amplitude_to_db(X, ref=np.max)\n",
    "        \n",
    "        l1 =[]\n",
    "        #by default, there are 1025 frequency bins in 0 to sr/2 (sr = 22050)\n",
    "\n",
    "        \n",
    "        hist=[]\n",
    "        for i in range(len(S)):\n",
    "            for j in range(len(S[0])):\n",
    "        \n",
    "                if S[i][j]>=(-11):\n",
    "                    temp = i *((22050/2)/1025)\n",
    "            \n",
    "                    if temp >0:\n",
    "                        hist.append(math.log2(temp))\n",
    "        x1.append(hist)\n",
    "        y_test.append(\"viola\")\n",
    "os.chdir('/Users/tanchonghong/Documents/1_2020_s2/equal_violin_viola/3_romantic/test/violin')  \n",
    "for f_name in os.listdir('/Users/tanchonghong/Documents/1_2020_s2/equal_violin_viola/3_romantic/test/violin'):\n",
    "    if f_name.endswith('.wav'):\n",
    "        print(f_name)\n",
    "        \n",
    "        x, sr = librosa.load(f_name)\n",
    "        hop_length = 512\n",
    "        X = librosa.stft(x)\n",
    "        S = librosa.amplitude_to_db(X, ref=np.max)\n",
    "        \n",
    "        l1 =[]\n",
    "        #by default, there are 1025 frequency bins in 0 to sr/2 (sr = 22050)\n",
    "\n",
    "        \n",
    "        hist=[]\n",
    "        for i in range(len(S)):\n",
    "            for j in range(len(S[0])):\n",
    "        \n",
    "                if S[i][j]>=(-11):\n",
    "                    temp = i *((22050/2)/1025)\n",
    "            \n",
    "                    if temp >0:\n",
    "                        hist.append(math.log2(temp))\n",
    "        x1.append(hist)\n",
    "        y_test.append(\"violin\")\n",
    "\n",
    "import pandas as pd\n",
    "import numpy as np\n",
    "import matplotlib.pyplot as plt\n",
    "from sklearn.model_selection import train_test_split\n",
    "import statistics \n",
    "\n",
    "X_test= [[statistics.mean(a), statistics.median(a), statistics.mode(a), min(a), max(a),np.percentile(np.array(a), 25), np.percentile(np.array(a), 75)] for a in x1]\n",
    "\n",
    " "
   ]
  },
  {
   "cell_type": "code",
   "execution_count": 3,
   "metadata": {},
   "outputs": [
    {
     "name": "stdout",
     "output_type": "stream",
     "text": [
      "[[3 0]\n",
      " [1 2]]\n",
      "Accuracy0.8333333333333334\n",
      "              precision    recall  f1-score   support\n",
      "\n",
      "       viola       0.75      1.00      0.86         3\n",
      "      violin       1.00      0.67      0.80         3\n",
      "\n",
      "    accuracy                           0.83         6\n",
      "   macro avg       0.88      0.83      0.83         6\n",
      "weighted avg       0.88      0.83      0.83         6\n",
      "\n"
     ]
    }
   ],
   "source": [
    "from numpy.random import seed\n",
    "seed(14) \n",
    "from sklearn.metrics import classification_report, confusion_matrix\n",
    "from sklearn.ensemble import RandomForestClassifier\n",
    "from sklearn.metrics import accuracy_score\n",
    "classifier = RandomForestClassifier(max_depth=10, random_state=0)\n",
    "\n",
    "classifier.fit(X_train, y_train)\n",
    "y_pred = classifier.predict(X_test)\n",
    "print(confusion_matrix(y_test, y_pred))\n",
    "print('Accuracy' + str(accuracy_score(y_test, y_pred)))\n",
    "print(classification_report(y_test,y_pred))"
   ]
  }
 ],
 "metadata": {
  "kernelspec": {
   "display_name": "Python 3",
   "language": "python",
   "name": "python3"
  },
  "language_info": {
   "codemirror_mode": {
    "name": "ipython",
    "version": 3
   },
   "file_extension": ".py",
   "mimetype": "text/x-python",
   "name": "python",
   "nbconvert_exporter": "python",
   "pygments_lexer": "ipython3",
   "version": "3.8.1"
  }
 },
 "nbformat": 4,
 "nbformat_minor": 2
}
